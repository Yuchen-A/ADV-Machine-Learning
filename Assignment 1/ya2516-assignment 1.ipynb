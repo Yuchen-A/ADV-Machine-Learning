{
 "cells": [
  {
   "cell_type": "markdown",
   "metadata": {
    "id": "ekczNcQxUpzT"
   },
   "source": [
    "# Your Uni : ya2516 (Also change Uni in the title of your notebook)\n",
    "# Your Full name : Yuchen An\n",
    "# Link to your Public Github repository with Final report  : https://github.com/Yuchen-A/ADV-Machine-Learning.git"
   ]
  },
  {
   "cell_type": "markdown",
   "metadata": {
    "id": "JXxGTgJz152A"
   },
   "source": [
    "# World Happiness Classification Competition\n",
    "Goals :\n",
    "- Understand how the models function\n",
    "- Understand what the parameters control\n",
    "- Learn from the model experimentation process\n",
    "- Make a good looking notebook report\n",
    "- Upload as a personal project on Github\n",
    "\n",
    "**Overall Steps:**\n",
    "1. Get data in and set up X_train / X_test / y_train\n",
    "2. Preprocess data using Sklearn Column Transformer/ Write and Save Preprocessor function\n",
    "3. Fit model on preprocessed data and save preprocessor function and model\n",
    "4. Generate predictions from X_test data and submit predictions\n",
    "\n"
   ]
  },
  {
   "cell_type": "markdown",
   "metadata": {
    "id": "5gSrVJwp3E9H"
   },
   "source": [
    "## 0. Get data in and set up X_train, X_test, y_train objects"
   ]
  },
  {
   "cell_type": "markdown",
   "metadata": {
    "id": "iemh36mSklGo"
   },
   "source": [
    "**Instructions:**\n",
    "Upload the world_happiness_competition_data.zip and newcountryvars.csv files on Colab by pressing the Folder icon on left tab (Shows \"Files\" on hovering), and then clicking the left-most file upload button (Shows \"Upload to Session Storage\" Alt text on hovering)"
   ]
  },
  {
   "cell_type": "code",
   "execution_count": 1,
   "metadata": {
    "id": "l-YsXXXcUQ9G"
   },
   "outputs": [],
   "source": [
    "# Get training data from course folder and unzip\n",
    "# importing the zipfile module\n",
    "from zipfile import ZipFile\n",
    "\n",
    "# loading the temp.zip and creating a zip object\n",
    "with ZipFile(\"world_happiness_competition_data.zip\", 'r') as zObject:\n",
    "\n",
    "    # Extracting all the members of the zip\n",
    "    # into a specific location.\n",
    "    zObject.extractall()"
   ]
  },
  {
   "cell_type": "code",
   "execution_count": 22,
   "metadata": {
    "id": "jT0qFCZFNzHq"
   },
   "outputs": [
    {
     "data": {
      "text/html": [
       "<div>\n",
       "<style scoped>\n",
       "    .dataframe tbody tr th:only-of-type {\n",
       "        vertical-align: middle;\n",
       "    }\n",
       "\n",
       "    .dataframe tbody tr th {\n",
       "        vertical-align: top;\n",
       "    }\n",
       "\n",
       "    .dataframe thead th {\n",
       "        text-align: right;\n",
       "    }\n",
       "</style>\n",
       "<table border=\"1\" class=\"dataframe\">\n",
       "  <thead>\n",
       "    <tr style=\"text-align: right;\">\n",
       "      <th></th>\n",
       "      <th>Country or region</th>\n",
       "      <th>GDP per capita</th>\n",
       "      <th>Social support</th>\n",
       "      <th>Healthy life expectancy</th>\n",
       "      <th>Freedom to make life choices</th>\n",
       "      <th>Generosity</th>\n",
       "      <th>Perceptions of corruption</th>\n",
       "      <th>name</th>\n",
       "      <th>region</th>\n",
       "      <th>sub-region</th>\n",
       "      <th>Terrorist_attacks</th>\n",
       "    </tr>\n",
       "  </thead>\n",
       "  <tbody>\n",
       "    <tr>\n",
       "      <th>0</th>\n",
       "      <td>Latvia</td>\n",
       "      <td>1.187</td>\n",
       "      <td>1.465</td>\n",
       "      <td>0.812</td>\n",
       "      <td>0.264</td>\n",
       "      <td>0.075</td>\n",
       "      <td>0.064</td>\n",
       "      <td>Latvia</td>\n",
       "      <td>Europe</td>\n",
       "      <td>Northern Europe</td>\n",
       "      <td>125.611111</td>\n",
       "    </tr>\n",
       "    <tr>\n",
       "      <th>1</th>\n",
       "      <td>Burundi</td>\n",
       "      <td>0.046</td>\n",
       "      <td>0.447</td>\n",
       "      <td>0.380</td>\n",
       "      <td>0.220</td>\n",
       "      <td>0.176</td>\n",
       "      <td>0.180</td>\n",
       "      <td>Burundi</td>\n",
       "      <td>Africa</td>\n",
       "      <td>Sub-Saharan Africa</td>\n",
       "      <td>155.000000</td>\n",
       "    </tr>\n",
       "    <tr>\n",
       "      <th>2</th>\n",
       "      <td>Belarus</td>\n",
       "      <td>1.067</td>\n",
       "      <td>1.465</td>\n",
       "      <td>0.789</td>\n",
       "      <td>0.235</td>\n",
       "      <td>0.094</td>\n",
       "      <td>0.142</td>\n",
       "      <td>Belarus</td>\n",
       "      <td>Europe</td>\n",
       "      <td>Eastern Europe</td>\n",
       "      <td>4.000000</td>\n",
       "    </tr>\n",
       "    <tr>\n",
       "      <th>3</th>\n",
       "      <td>Liberia</td>\n",
       "      <td>0.073</td>\n",
       "      <td>0.922</td>\n",
       "      <td>0.443</td>\n",
       "      <td>0.370</td>\n",
       "      <td>0.233</td>\n",
       "      <td>0.033</td>\n",
       "      <td>Liberia</td>\n",
       "      <td>Africa</td>\n",
       "      <td>Sub-Saharan Africa</td>\n",
       "      <td>1419.095238</td>\n",
       "    </tr>\n",
       "    <tr>\n",
       "      <th>4</th>\n",
       "      <td>Ecuador</td>\n",
       "      <td>0.912</td>\n",
       "      <td>1.312</td>\n",
       "      <td>0.868</td>\n",
       "      <td>0.498</td>\n",
       "      <td>0.126</td>\n",
       "      <td>0.087</td>\n",
       "      <td>Ecuador</td>\n",
       "      <td>Americas</td>\n",
       "      <td>Latin America and the Caribbean</td>\n",
       "      <td>5.000000</td>\n",
       "    </tr>\n",
       "  </tbody>\n",
       "</table>\n",
       "</div>"
      ],
      "text/plain": [
       "  Country or region  GDP per capita  Social support  Healthy life expectancy  \\\n",
       "0            Latvia           1.187           1.465                    0.812   \n",
       "1           Burundi           0.046           0.447                    0.380   \n",
       "2           Belarus           1.067           1.465                    0.789   \n",
       "3           Liberia           0.073           0.922                    0.443   \n",
       "4           Ecuador           0.912           1.312                    0.868   \n",
       "\n",
       "   Freedom to make life choices  Generosity  Perceptions of corruption  \\\n",
       "0                         0.264       0.075                      0.064   \n",
       "1                         0.220       0.176                      0.180   \n",
       "2                         0.235       0.094                      0.142   \n",
       "3                         0.370       0.233                      0.033   \n",
       "4                         0.498       0.126                      0.087   \n",
       "\n",
       "      name    region                       sub-region  Terrorist_attacks  \n",
       "0   Latvia    Europe                  Northern Europe         125.611111  \n",
       "1  Burundi    Africa               Sub-Saharan Africa         155.000000  \n",
       "2  Belarus    Europe                   Eastern Europe           4.000000  \n",
       "3  Liberia    Africa               Sub-Saharan Africa        1419.095238  \n",
       "4  Ecuador  Americas  Latin America and the Caribbean           5.000000  "
      ]
     },
     "execution_count": 22,
     "metadata": {},
     "output_type": "execute_result"
    }
   ],
   "source": [
    "# Load data\n",
    "import pandas as pd\n",
    "X_train = pd.read_csv('world_happiness_competition_data/X_train.csv')\n",
    "X_test = pd.read_csv('world_happiness_competition_data/X_test.csv')## Load test features to predict on\n",
    "y_train = pd.read_csv('world_happiness_competition_data/y_train.csv')## Load y train (true labels)\n",
    "y_test = pd.read_csv('world_happiness_competition_data/y_test.csv')## Load y test (true labels)\n",
    "y_train_labels = y_train.idxmax(axis=1) ## Examine what this does and write in next cell\n",
    "y_test_labels = y_test.idxmax(axis=1)## Complete in a similar manner as above\n",
    "\n",
    "X_train.head()"
   ]
  },
  {
   "cell_type": "code",
   "execution_count": 23,
   "metadata": {},
   "outputs": [
    {
     "data": {
      "text/plain": [
       "0         High\n",
       "1     Very Low\n",
       "2      Average\n",
       "3     Very Low\n",
       "4         High\n",
       "        ...   \n",
       "64    Very Low\n",
       "65         Low\n",
       "66    Very Low\n",
       "67        High\n",
       "68    Very Low\n",
       "Length: 69, dtype: object"
      ]
     },
     "metadata": {},
     "output_type": "display_data"
    }
   ],
   "source": [
    "display(y_train_labels)"
   ]
  },
  {
   "cell_type": "markdown",
   "metadata": {
    "id": "KvTXc7QOl5s7"
   },
   "source": [
    "Write in the next cell what the y_train_labels = y_train.idxmax(axis=1) line does. What is the difference between y_train_labels and y_train?"
   ]
  },
  {
   "cell_type": "code",
   "execution_count": 24,
   "metadata": {
    "id": "DsFZm1z0l0EC"
   },
   "outputs": [],
   "source": [
    "#Your answer: "
   ]
  },
  {
   "cell_type": "markdown",
   "metadata": {},
   "source": [
    "The line of code y_train_labels = y_train.idxmax(axis=1) returns the class label corresponding to the maximum value for each row in y_train. In this case, y_train contains all classes as binary values (0 and 1), indicating whether a sample belongs to a particular class (1) or not (0). The y_train_labels then identifies the specific class for each sample by finding the column with the value 1."
   ]
  },
  {
   "cell_type": "markdown",
   "metadata": {
    "id": "jbevDQ9_8-pt"
   },
   "source": [
    "##  Add new data"
   ]
  },
  {
   "cell_type": "code",
   "execution_count": 25,
   "metadata": {
    "id": "tFBU6SBm896W"
   },
   "outputs": [
    {
     "data": {
      "text/html": [
       "<div>\n",
       "<style scoped>\n",
       "    .dataframe tbody tr th:only-of-type {\n",
       "        vertical-align: middle;\n",
       "    }\n",
       "\n",
       "    .dataframe tbody tr th {\n",
       "        vertical-align: top;\n",
       "    }\n",
       "\n",
       "    .dataframe thead th {\n",
       "        text-align: right;\n",
       "    }\n",
       "</style>\n",
       "<table border=\"1\" class=\"dataframe\">\n",
       "  <thead>\n",
       "    <tr style=\"text-align: right;\">\n",
       "      <th></th>\n",
       "      <th>country_name</th>\n",
       "      <th>population</th>\n",
       "      <th>population_below_poverty_line</th>\n",
       "      <th>hdi</th>\n",
       "      <th>life_expectancy</th>\n",
       "      <th>expected_years_of_schooling</th>\n",
       "      <th>mean_years_of_schooling</th>\n",
       "      <th>gni</th>\n",
       "    </tr>\n",
       "  </thead>\n",
       "  <tbody>\n",
       "    <tr>\n",
       "      <th>0</th>\n",
       "      <td>India</td>\n",
       "      <td>1339180127</td>\n",
       "      <td>21.9</td>\n",
       "      <td>0.623559</td>\n",
       "      <td>68.322</td>\n",
       "      <td>11.696590</td>\n",
       "      <td>6.298834</td>\n",
       "      <td>5663.474799</td>\n",
       "    </tr>\n",
       "    <tr>\n",
       "      <th>1</th>\n",
       "      <td>Nigeria</td>\n",
       "      <td>190886311</td>\n",
       "      <td>70.0</td>\n",
       "      <td>0.527105</td>\n",
       "      <td>53.057</td>\n",
       "      <td>9.970482</td>\n",
       "      <td>6.000000</td>\n",
       "      <td>5442.901264</td>\n",
       "    </tr>\n",
       "    <tr>\n",
       "      <th>2</th>\n",
       "      <td>Mexico</td>\n",
       "      <td>129163276</td>\n",
       "      <td>46.2</td>\n",
       "      <td>0.761683</td>\n",
       "      <td>76.972</td>\n",
       "      <td>13.299090</td>\n",
       "      <td>8.554985</td>\n",
       "      <td>16383.106680</td>\n",
       "    </tr>\n",
       "    <tr>\n",
       "      <th>3</th>\n",
       "      <td>Pakistan</td>\n",
       "      <td>197015955</td>\n",
       "      <td>29.5</td>\n",
       "      <td>0.550354</td>\n",
       "      <td>66.365</td>\n",
       "      <td>8.106910</td>\n",
       "      <td>5.089460</td>\n",
       "      <td>5031.173074</td>\n",
       "    </tr>\n",
       "    <tr>\n",
       "      <th>4</th>\n",
       "      <td>Bangladesh</td>\n",
       "      <td>164669751</td>\n",
       "      <td>31.5</td>\n",
       "      <td>0.578824</td>\n",
       "      <td>71.985</td>\n",
       "      <td>10.178706</td>\n",
       "      <td>5.241577</td>\n",
       "      <td>3341.490722</td>\n",
       "    </tr>\n",
       "  </tbody>\n",
       "</table>\n",
       "</div>"
      ],
      "text/plain": [
       "  country_name  population  population_below_poverty_line       hdi  \\\n",
       "0        India  1339180127                           21.9  0.623559   \n",
       "1      Nigeria   190886311                           70.0  0.527105   \n",
       "2       Mexico   129163276                           46.2  0.761683   \n",
       "3     Pakistan   197015955                           29.5  0.550354   \n",
       "4   Bangladesh   164669751                           31.5  0.578824   \n",
       "\n",
       "   life_expectancy  expected_years_of_schooling  mean_years_of_schooling  \\\n",
       "0           68.322                    11.696590                 6.298834   \n",
       "1           53.057                     9.970482                 6.000000   \n",
       "2           76.972                    13.299090                 8.554985   \n",
       "3           66.365                     8.106910                 5.089460   \n",
       "4           71.985                    10.178706                 5.241577   \n",
       "\n",
       "            gni  \n",
       "0   5663.474799  \n",
       "1   5442.901264  \n",
       "2  16383.106680  \n",
       "3   5031.173074  \n",
       "4   3341.490722  "
      ]
     },
     "execution_count": 25,
     "metadata": {},
     "output_type": "execute_result"
    }
   ],
   "source": [
    "# Truncated and cleaned up region data to merge\n",
    "countrydata=pd.read_csv(\"newcountryvars.csv\")\n",
    "\n",
    "countrydata.head()"
   ]
  },
  {
   "cell_type": "code",
   "execution_count": 26,
   "metadata": {
    "id": "8iMJhqME9Lmq"
   },
   "outputs": [],
   "source": [
    "# Merge in new data to X_train and X_test by taking \"Country or region\" from first table and \"country_name\" from 2nd table.\n",
    "\n",
    "X_train = pd.merge(X_train, countrydata, left_on='Country or region', right_on='country_name', how='left')## Complete code\n",
    "X_test = pd.merge(X_test, countrydata, left_on='Country or region', right_on='country_name', how='left')## Complete code\n"
   ]
  },
  {
   "cell_type": "code",
   "execution_count": 27,
   "metadata": {
    "id": "zAcRWzym-4iT"
   },
   "outputs": [
    {
     "data": {
      "text/html": [
       "<div>\n",
       "<style scoped>\n",
       "    .dataframe tbody tr th:only-of-type {\n",
       "        vertical-align: middle;\n",
       "    }\n",
       "\n",
       "    .dataframe tbody tr th {\n",
       "        vertical-align: top;\n",
       "    }\n",
       "\n",
       "    .dataframe thead th {\n",
       "        text-align: right;\n",
       "    }\n",
       "</style>\n",
       "<table border=\"1\" class=\"dataframe\">\n",
       "  <thead>\n",
       "    <tr style=\"text-align: right;\">\n",
       "      <th></th>\n",
       "      <th>Country or region</th>\n",
       "      <th>GDP per capita</th>\n",
       "      <th>Social support</th>\n",
       "      <th>Healthy life expectancy</th>\n",
       "      <th>Freedom to make life choices</th>\n",
       "      <th>Generosity</th>\n",
       "      <th>Perceptions of corruption</th>\n",
       "      <th>name</th>\n",
       "      <th>region</th>\n",
       "      <th>sub-region</th>\n",
       "      <th>Terrorist_attacks</th>\n",
       "      <th>country_name</th>\n",
       "      <th>population</th>\n",
       "      <th>population_below_poverty_line</th>\n",
       "      <th>hdi</th>\n",
       "      <th>life_expectancy</th>\n",
       "      <th>expected_years_of_schooling</th>\n",
       "      <th>mean_years_of_schooling</th>\n",
       "      <th>gni</th>\n",
       "    </tr>\n",
       "  </thead>\n",
       "  <tbody>\n",
       "    <tr>\n",
       "      <th>0</th>\n",
       "      <td>Latvia</td>\n",
       "      <td>1.187</td>\n",
       "      <td>1.465</td>\n",
       "      <td>0.812</td>\n",
       "      <td>0.264</td>\n",
       "      <td>0.075</td>\n",
       "      <td>0.064</td>\n",
       "      <td>Latvia</td>\n",
       "      <td>Europe</td>\n",
       "      <td>Northern Europe</td>\n",
       "      <td>125.611111</td>\n",
       "      <td>Latvia</td>\n",
       "      <td>1949670.0</td>\n",
       "      <td>25.5</td>\n",
       "      <td>0.829862</td>\n",
       "      <td>74.342</td>\n",
       "      <td>15.97411</td>\n",
       "      <td>11.736418</td>\n",
       "      <td>22589.17355</td>\n",
       "    </tr>\n",
       "  </tbody>\n",
       "</table>\n",
       "</div>"
      ],
      "text/plain": [
       "  Country or region  GDP per capita  Social support  Healthy life expectancy  \\\n",
       "0            Latvia           1.187           1.465                    0.812   \n",
       "\n",
       "   Freedom to make life choices  Generosity  Perceptions of corruption  \\\n",
       "0                         0.264       0.075                      0.064   \n",
       "\n",
       "     name  region       sub-region  Terrorist_attacks country_name  \\\n",
       "0  Latvia  Europe  Northern Europe         125.611111       Latvia   \n",
       "\n",
       "   population  population_below_poverty_line       hdi  life_expectancy  \\\n",
       "0   1949670.0                           25.5  0.829862           74.342   \n",
       "\n",
       "   expected_years_of_schooling  mean_years_of_schooling          gni  \n",
       "0                     15.97411                11.736418  22589.17355  "
      ]
     },
     "execution_count": 27,
     "metadata": {},
     "output_type": "execute_result"
    }
   ],
   "source": [
    "X_train.head(1)"
   ]
  },
  {
   "cell_type": "markdown",
   "metadata": {
    "id": "3MV_a5QaydpZ"
   },
   "source": [
    "# EDA"
   ]
  },
  {
   "cell_type": "code",
   "execution_count": 28,
   "metadata": {
    "id": "jM5kFt5zC4yn"
   },
   "outputs": [
    {
     "name": "stdout",
     "output_type": "stream",
     "text": [
      "Country or region                 object\n",
      "GDP per capita                   float64\n",
      "Social support                   float64\n",
      "Healthy life expectancy          float64\n",
      "Freedom to make life choices     float64\n",
      "Generosity                       float64\n",
      "Perceptions of corruption        float64\n",
      "name                              object\n",
      "region                            object\n",
      "sub-region                        object\n",
      "Terrorist_attacks                float64\n",
      "country_name                      object\n",
      "population                       float64\n",
      "population_below_poverty_line    float64\n",
      "hdi                              float64\n",
      "life_expectancy                  float64\n",
      "expected_years_of_schooling      float64\n",
      "mean_years_of_schooling          float64\n",
      "gni                              float64\n",
      "dtype: object\n"
     ]
    }
   ],
   "source": [
    "print(X_train.dtypes)"
   ]
  },
  {
   "cell_type": "markdown",
   "metadata": {
    "id": "eBngMQdmykLZ"
   },
   "source": [
    "Describe what you see above?"
   ]
  },
  {
   "cell_type": "code",
   "execution_count": 29,
   "metadata": {
    "id": "Phkm6BKCyjuF"
   },
   "outputs": [],
   "source": [
    "## Your answer: "
   ]
  },
  {
   "cell_type": "markdown",
   "metadata": {},
   "source": [
    "I see the name of each column along with its corresponding data type in the X_train dataset. Columns like \"Country or region\" and \"name\" are object types, meaning they contain text data, while most other columns like \"GDP per capita\" and \"population\" are float64, representing numerical values. The dataset is a mix of categorical and numerical data from both the original and merged datasets, making it ready for further analysis."
   ]
  },
  {
   "cell_type": "markdown",
   "metadata": {
    "id": "OmlG3-8Tys3-"
   },
   "source": [
    "Find out the number and percentage of missing values in the table per column"
   ]
  },
  {
   "cell_type": "code",
   "execution_count": 30,
   "metadata": {
    "id": "ejFHu-84y2Nr"
   },
   "outputs": [
    {
     "data": {
      "text/html": [
       "<div>\n",
       "<style scoped>\n",
       "    .dataframe tbody tr th:only-of-type {\n",
       "        vertical-align: middle;\n",
       "    }\n",
       "\n",
       "    .dataframe tbody tr th {\n",
       "        vertical-align: top;\n",
       "    }\n",
       "\n",
       "    .dataframe thead th {\n",
       "        text-align: right;\n",
       "    }\n",
       "</style>\n",
       "<table border=\"1\" class=\"dataframe\">\n",
       "  <thead>\n",
       "    <tr style=\"text-align: right;\">\n",
       "      <th></th>\n",
       "      <th>Missing Values</th>\n",
       "      <th>Percentage</th>\n",
       "    </tr>\n",
       "  </thead>\n",
       "  <tbody>\n",
       "    <tr>\n",
       "      <th>Country or region</th>\n",
       "      <td>0</td>\n",
       "      <td>0.000000</td>\n",
       "    </tr>\n",
       "    <tr>\n",
       "      <th>GDP per capita</th>\n",
       "      <td>0</td>\n",
       "      <td>0.000000</td>\n",
       "    </tr>\n",
       "    <tr>\n",
       "      <th>Social support</th>\n",
       "      <td>0</td>\n",
       "      <td>0.000000</td>\n",
       "    </tr>\n",
       "    <tr>\n",
       "      <th>Healthy life expectancy</th>\n",
       "      <td>0</td>\n",
       "      <td>0.000000</td>\n",
       "    </tr>\n",
       "    <tr>\n",
       "      <th>Freedom to make life choices</th>\n",
       "      <td>0</td>\n",
       "      <td>0.000000</td>\n",
       "    </tr>\n",
       "    <tr>\n",
       "      <th>Generosity</th>\n",
       "      <td>0</td>\n",
       "      <td>0.000000</td>\n",
       "    </tr>\n",
       "    <tr>\n",
       "      <th>Perceptions of corruption</th>\n",
       "      <td>0</td>\n",
       "      <td>0.000000</td>\n",
       "    </tr>\n",
       "    <tr>\n",
       "      <th>name</th>\n",
       "      <td>0</td>\n",
       "      <td>0.000000</td>\n",
       "    </tr>\n",
       "    <tr>\n",
       "      <th>region</th>\n",
       "      <td>0</td>\n",
       "      <td>0.000000</td>\n",
       "    </tr>\n",
       "    <tr>\n",
       "      <th>sub-region</th>\n",
       "      <td>0</td>\n",
       "      <td>0.000000</td>\n",
       "    </tr>\n",
       "    <tr>\n",
       "      <th>Terrorist_attacks</th>\n",
       "      <td>0</td>\n",
       "      <td>0.000000</td>\n",
       "    </tr>\n",
       "    <tr>\n",
       "      <th>country_name</th>\n",
       "      <td>6</td>\n",
       "      <td>8.695652</td>\n",
       "    </tr>\n",
       "    <tr>\n",
       "      <th>population</th>\n",
       "      <td>6</td>\n",
       "      <td>8.695652</td>\n",
       "    </tr>\n",
       "    <tr>\n",
       "      <th>population_below_poverty_line</th>\n",
       "      <td>11</td>\n",
       "      <td>15.942029</td>\n",
       "    </tr>\n",
       "    <tr>\n",
       "      <th>hdi</th>\n",
       "      <td>6</td>\n",
       "      <td>8.695652</td>\n",
       "    </tr>\n",
       "    <tr>\n",
       "      <th>life_expectancy</th>\n",
       "      <td>6</td>\n",
       "      <td>8.695652</td>\n",
       "    </tr>\n",
       "    <tr>\n",
       "      <th>expected_years_of_schooling</th>\n",
       "      <td>6</td>\n",
       "      <td>8.695652</td>\n",
       "    </tr>\n",
       "    <tr>\n",
       "      <th>mean_years_of_schooling</th>\n",
       "      <td>6</td>\n",
       "      <td>8.695652</td>\n",
       "    </tr>\n",
       "    <tr>\n",
       "      <th>gni</th>\n",
       "      <td>6</td>\n",
       "      <td>8.695652</td>\n",
       "    </tr>\n",
       "  </tbody>\n",
       "</table>\n",
       "</div>"
      ],
      "text/plain": [
       "                               Missing Values  Percentage\n",
       "Country or region                           0    0.000000\n",
       "GDP per capita                              0    0.000000\n",
       "Social support                              0    0.000000\n",
       "Healthy life expectancy                     0    0.000000\n",
       "Freedom to make life choices                0    0.000000\n",
       "Generosity                                  0    0.000000\n",
       "Perceptions of corruption                   0    0.000000\n",
       "name                                        0    0.000000\n",
       "region                                      0    0.000000\n",
       "sub-region                                  0    0.000000\n",
       "Terrorist_attacks                           0    0.000000\n",
       "country_name                                6    8.695652\n",
       "population                                  6    8.695652\n",
       "population_below_poverty_line              11   15.942029\n",
       "hdi                                         6    8.695652\n",
       "life_expectancy                             6    8.695652\n",
       "expected_years_of_schooling                 6    8.695652\n",
       "mean_years_of_schooling                     6    8.695652\n",
       "gni                                         6    8.695652"
      ]
     },
     "metadata": {},
     "output_type": "display_data"
    }
   ],
   "source": [
    "# Your code here:\n",
    "num_missing_values = X_train.isnull().sum()\n",
    "missing_percentage = (X_train.isnull().sum() / len(X_train)) * 100\n",
    "\n",
    "missing_data = pd.DataFrame({\n",
    "    'Missing Values': num_missing_values,\n",
    "    'Percentage': missing_percentage\n",
    "})\n",
    "\n",
    "display(missing_data)"
   ]
  },
  {
   "cell_type": "markdown",
   "metadata": {
    "id": "c7Q3_DMwy4sX"
   },
   "source": [
    "Plot the frequency distribution / histogram of some of the numerical features that you think are important"
   ]
  },
  {
   "cell_type": "code",
   "execution_count": 31,
   "metadata": {
    "id": "neosQxQRzKfq"
   },
   "outputs": [
    {
     "data": {
      "image/png": "[encoded data removed]",
      "text/plain": [
       "<Figure size 1200x1000 with 4 Axes>"
      ]
     },
     "metadata": {},
     "output_type": "display_data"
    }
   ],
   "source": [
    "# Your plotting code here:\n",
    "\n",
    "# I chose to plot the distribution of 'gdp per capita', distribution of 'life_expectancy', \n",
    "# distribution of 'Freedom to make life choices', and distribution of 'Mean Years of Schooling'. \n",
    "\n",
    "import matplotlib.pyplot as plt\n",
    "\n",
    "import matplotlib.pyplot as plt\n",
    "\n",
    "# Assuming X_train is your DataFrame and it is already defined.\n",
    "plot_data_1 = X_train[\"GDP per capita\"]\n",
    "plot_data_2 = X_train[\"life_expectancy\"]\n",
    "plot_data_3 = X_train[\"Freedom to make life choices\"]\n",
    "plot_data_4 = X_train[\"mean_years_of_schooling\"]\n",
    "\n",
    "# Create a figure with 2x2 subplots\n",
    "figure, axs = plt.subplots(2, 2, figsize=(12, 10))\n",
    "\n",
    "# Plot histogram for GDP per capita\n",
    "axs[0, 0].hist(plot_data_1, bins=10, color='blue', edgecolor='black', alpha=0.7)\n",
    "axs[0, 0].set_title('Histogram of GDP per capita')\n",
    "axs[0, 0].set_xlabel('GDP per capita')\n",
    "axs[0, 0].set_ylabel('Frequency')\n",
    "\n",
    "# Plot histogram for Life Expectancy\n",
    "axs[0, 1].hist(plot_data_2, bins=10, color='skyblue', edgecolor='black', alpha=0.7)\n",
    "axs[0, 1].set_title('Histogram of Life Expectancy')\n",
    "axs[0, 1].set_xlabel('Life Expectancy')\n",
    "axs[0, 1].set_ylabel('Frequency')\n",
    "\n",
    "# Plot histogram for Freedom to make life choices\n",
    "axs[1, 0].hist(plot_data_3, bins=10, color='green', edgecolor='black', alpha=0.7)\n",
    "axs[1, 0].set_title('Histogram of Freedom to make life choices')\n",
    "axs[1, 0].set_xlabel('Freedom to make life choices')\n",
    "axs[1, 0].set_ylabel('Frequency')\n",
    "\n",
    "# Plot histogram for Mean Years of Schooling\n",
    "axs[1, 1].hist(plot_data_4, bins=10, color='orange', edgecolor='black', alpha=0.7)\n",
    "axs[1, 1].set_title('Histogram of Mean Years of Schooling')\n",
    "axs[1, 1].set_xlabel('Mean Years of Schooling')\n",
    "axs[1, 1].set_ylabel('Frequency')\n",
    "\n",
    "plt.tight_layout()\n",
    "plt.show()"
   ]
  },
  {
   "cell_type": "markdown",
   "metadata": {
    "id": "F0MxV_o9zNCE"
   },
   "source": [
    "Plot the categorical variables and their distribution"
   ]
  },
  {
   "cell_type": "code",
   "execution_count": 32,
   "metadata": {
    "id": "17wHJ4hYzRkv"
   },
   "outputs": [
    {
     "data": {
      "image/png": "[encoded data removed]",
      "text/plain": [
       "<Figure size 1200x600 with 1 Axes>"
      ]
     },
     "metadata": {},
     "output_type": "display_data"
    },
    {
     "data": {
      "image/png": "[encoded data removed]",
      "text/plain": [
       "<Figure size 1200x600 with 1 Axes>"
      ]
     },
     "metadata": {},
     "output_type": "display_data"
    }
   ],
   "source": [
    "# Your plotting code here:\n",
    "\n",
    "# I chose to plot the distribution of categorical variable \"region\" and 'sub_region'.\n",
    "\n",
    "region_category_counts = X_train['region'].value_counts()\n",
    "plt.figure(figsize=(12, 6))\n",
    "plt.bar(region_category_counts.index, region_category_counts.values)\n",
    "plt.xlabel('Categories')\n",
    "plt.ylabel('Counts')\n",
    "plt.title('Distribution of Region')\n",
    "plt.show()\n",
    "\n",
    "sub_region_category_counts = X_train['sub-region'].value_counts()\n",
    "plt.figure(figsize=(12, 6))\n",
    "plt.bar(sub_region_category_counts.index, sub_region_category_counts.values)\n",
    "plt.xlabel('Categories')\n",
    "plt.ylabel('Counts')\n",
    "plt.title('Distribution of Sub-region')\n",
    "plt.xticks(rotation=90)\n",
    "plt.show()"
   ]
  },
  {
   "cell_type": "markdown",
   "metadata": {
    "id": "Oi3lA3QElvZh"
   },
   "source": [
    "Explore relationships between variables (bivariate, etc), correlation tables, and how they associate with the target variable."
   ]
  },
  {
   "cell_type": "code",
   "execution_count": 33,
   "metadata": {
    "id": "91OgPpv8mQ3T"
   },
   "outputs": [
    {
     "data": {
      "image/png": "[encoded data removed]",
      "text/plain": [
       "<Figure size 640x480 with 1 Axes>"
      ]
     },
     "metadata": {},
     "output_type": "display_data"
    },
    {
     "data": {
      "image/png": "[encoded data removed]",
      "text/plain": [
       "<Figure size 640x480 with 1 Axes>"
      ]
     },
     "metadata": {},
     "output_type": "display_data"
    }
   ],
   "source": [
    "# Your plotting code(s) here:\n",
    "\n",
    "# I chose to explore the relationship between 'gdp per capita' and 'life_expectancy', as well as the relationship \n",
    "# between 'mean_years_of_schooling' and 'life_expectancy'.\n",
    "\n",
    "# From the scatter plots, we observe that both 'GDP per capita' and 'mean years of schooling' have a positive \n",
    "# relationship with 'life expectancy'.\n",
    "\n",
    "\n",
    "plt.scatter(X_train['GDP per capita'], X_train['life_expectancy'])\n",
    "plt.xlabel('GDP per capita')\n",
    "plt.ylabel('Life Expectancy')\n",
    "plt.title('Scatter Plot of GDP per capita vs. Life Expectancy')\n",
    "plt.grid()\n",
    "plt.show()\n",
    "\n",
    "plt.scatter(X_train['mean_years_of_schooling'], X_train['life_expectancy'])\n",
    "plt.xlabel('Mean Years of schooling')\n",
    "plt.ylabel('Life Expectancy')\n",
    "plt.title('Mean Years of schooling vs. Life Expectancy')\n",
    "plt.grid()\n",
    "plt.show()"
   ]
  },
  {
   "cell_type": "code",
   "execution_count": 34,
   "metadata": {},
   "outputs": [
    {
     "name": "stderr",
     "output_type": "stream",
     "text": [
      "/var/folders/xl/1l26f1zs64vcyrn4b8yynjl00000gn/T/ipykernel_56629/1675485758.py:5: FutureWarning: The default value of numeric_only in DataFrame.corr is deprecated. In a future version, it will default to False. Select only valid columns or specify the value of numeric_only to silence this warning.\n",
      "  correlation_matrix = X_train.corr()\n"
     ]
    },
    {
     "data": {
      "text/html": [
       "<div>\n",
       "<style scoped>\n",
       "    .dataframe tbody tr th:only-of-type {\n",
       "        vertical-align: middle;\n",
       "    }\n",
       "\n",
       "    .dataframe tbody tr th {\n",
       "        vertical-align: top;\n",
       "    }\n",
       "\n",
       "    .dataframe thead th {\n",
       "        text-align: right;\n",
       "    }\n",
       "</style>\n",
       "<table border=\"1\" class=\"dataframe\">\n",
       "  <thead>\n",
       "    <tr style=\"text-align: right;\">\n",
       "      <th></th>\n",
       "      <th>GDP per capita</th>\n",
       "      <th>Social support</th>\n",
       "      <th>Healthy life expectancy</th>\n",
       "      <th>Freedom to make life choices</th>\n",
       "      <th>Generosity</th>\n",
       "      <th>Perceptions of corruption</th>\n",
       "      <th>Terrorist_attacks</th>\n",
       "      <th>population</th>\n",
       "      <th>population_below_poverty_line</th>\n",
       "      <th>hdi</th>\n",
       "      <th>life_expectancy</th>\n",
       "      <th>expected_years_of_schooling</th>\n",
       "      <th>mean_years_of_schooling</th>\n",
       "      <th>gni</th>\n",
       "    </tr>\n",
       "  </thead>\n",
       "  <tbody>\n",
       "    <tr>\n",
       "      <th>GDP per capita</th>\n",
       "      <td>1.000000</td>\n",
       "      <td>0.776994</td>\n",
       "      <td>0.828855</td>\n",
       "      <td>0.497536</td>\n",
       "      <td>-0.087230</td>\n",
       "      <td>0.376035</td>\n",
       "      <td>-0.359662</td>\n",
       "      <td>0.010983</td>\n",
       "      <td>-0.783629</td>\n",
       "      <td>0.952534</td>\n",
       "      <td>0.819725</td>\n",
       "      <td>0.816278</td>\n",
       "      <td>0.806770</td>\n",
       "      <td>0.791134</td>\n",
       "    </tr>\n",
       "    <tr>\n",
       "      <th>Social support</th>\n",
       "      <td>0.776994</td>\n",
       "      <td>1.000000</td>\n",
       "      <td>0.732568</td>\n",
       "      <td>0.588616</td>\n",
       "      <td>-0.058026</td>\n",
       "      <td>0.290184</td>\n",
       "      <td>-0.445112</td>\n",
       "      <td>-0.078932</td>\n",
       "      <td>-0.671441</td>\n",
       "      <td>0.829772</td>\n",
       "      <td>0.713381</td>\n",
       "      <td>0.763511</td>\n",
       "      <td>0.794848</td>\n",
       "      <td>0.501397</td>\n",
       "    </tr>\n",
       "    <tr>\n",
       "      <th>Healthy life expectancy</th>\n",
       "      <td>0.828855</td>\n",
       "      <td>0.732568</td>\n",
       "      <td>1.000000</td>\n",
       "      <td>0.424599</td>\n",
       "      <td>-0.017666</td>\n",
       "      <td>0.379915</td>\n",
       "      <td>-0.402194</td>\n",
       "      <td>0.056740</td>\n",
       "      <td>-0.698012</td>\n",
       "      <td>0.919899</td>\n",
       "      <td>0.982990</td>\n",
       "      <td>0.837451</td>\n",
       "      <td>0.795686</td>\n",
       "      <td>0.570419</td>\n",
       "    </tr>\n",
       "    <tr>\n",
       "      <th>Freedom to make life choices</th>\n",
       "      <td>0.497536</td>\n",
       "      <td>0.588616</td>\n",
       "      <td>0.424599</td>\n",
       "      <td>1.000000</td>\n",
       "      <td>0.302245</td>\n",
       "      <td>0.493557</td>\n",
       "      <td>-0.381656</td>\n",
       "      <td>0.111773</td>\n",
       "      <td>-0.405978</td>\n",
       "      <td>0.428954</td>\n",
       "      <td>0.392675</td>\n",
       "      <td>0.356783</td>\n",
       "      <td>0.346807</td>\n",
       "      <td>0.457114</td>\n",
       "    </tr>\n",
       "    <tr>\n",
       "      <th>Generosity</th>\n",
       "      <td>-0.087230</td>\n",
       "      <td>-0.058026</td>\n",
       "      <td>-0.017666</td>\n",
       "      <td>0.302245</td>\n",
       "      <td>1.000000</td>\n",
       "      <td>0.274878</td>\n",
       "      <td>0.027501</td>\n",
       "      <td>-0.075887</td>\n",
       "      <td>0.069264</td>\n",
       "      <td>-0.123773</td>\n",
       "      <td>-0.017838</td>\n",
       "      <td>-0.141452</td>\n",
       "      <td>-0.147592</td>\n",
       "      <td>0.031449</td>\n",
       "    </tr>\n",
       "    <tr>\n",
       "      <th>Perceptions of corruption</th>\n",
       "      <td>0.376035</td>\n",
       "      <td>0.290184</td>\n",
       "      <td>0.379915</td>\n",
       "      <td>0.493557</td>\n",
       "      <td>0.274878</td>\n",
       "      <td>1.000000</td>\n",
       "      <td>-0.172918</td>\n",
       "      <td>-0.053192</td>\n",
       "      <td>-0.216316</td>\n",
       "      <td>0.367459</td>\n",
       "      <td>0.361583</td>\n",
       "      <td>0.319262</td>\n",
       "      <td>0.316947</td>\n",
       "      <td>0.463926</td>\n",
       "    </tr>\n",
       "    <tr>\n",
       "      <th>Terrorist_attacks</th>\n",
       "      <td>-0.359662</td>\n",
       "      <td>-0.445112</td>\n",
       "      <td>-0.402194</td>\n",
       "      <td>-0.381656</td>\n",
       "      <td>0.027501</td>\n",
       "      <td>-0.172918</td>\n",
       "      <td>1.000000</td>\n",
       "      <td>-0.033408</td>\n",
       "      <td>0.271698</td>\n",
       "      <td>-0.362150</td>\n",
       "      <td>-0.346591</td>\n",
       "      <td>-0.258710</td>\n",
       "      <td>-0.395745</td>\n",
       "      <td>-0.219806</td>\n",
       "    </tr>\n",
       "    <tr>\n",
       "      <th>population</th>\n",
       "      <td>0.010983</td>\n",
       "      <td>-0.078932</td>\n",
       "      <td>0.056740</td>\n",
       "      <td>0.111773</td>\n",
       "      <td>-0.075887</td>\n",
       "      <td>-0.053192</td>\n",
       "      <td>-0.033408</td>\n",
       "      <td>1.000000</td>\n",
       "      <td>-0.206060</td>\n",
       "      <td>-0.011924</td>\n",
       "      <td>0.034366</td>\n",
       "      <td>-0.015770</td>\n",
       "      <td>-0.094350</td>\n",
       "      <td>-0.072591</td>\n",
       "    </tr>\n",
       "    <tr>\n",
       "      <th>population_below_poverty_line</th>\n",
       "      <td>-0.783629</td>\n",
       "      <td>-0.671441</td>\n",
       "      <td>-0.698012</td>\n",
       "      <td>-0.405978</td>\n",
       "      <td>0.069264</td>\n",
       "      <td>-0.216316</td>\n",
       "      <td>0.271698</td>\n",
       "      <td>-0.206060</td>\n",
       "      <td>1.000000</td>\n",
       "      <td>-0.763920</td>\n",
       "      <td>-0.675131</td>\n",
       "      <td>-0.654276</td>\n",
       "      <td>-0.689748</td>\n",
       "      <td>-0.557626</td>\n",
       "    </tr>\n",
       "    <tr>\n",
       "      <th>hdi</th>\n",
       "      <td>0.952534</td>\n",
       "      <td>0.829772</td>\n",
       "      <td>0.919899</td>\n",
       "      <td>0.428954</td>\n",
       "      <td>-0.123773</td>\n",
       "      <td>0.367459</td>\n",
       "      <td>-0.362150</td>\n",
       "      <td>-0.011924</td>\n",
       "      <td>-0.763920</td>\n",
       "      <td>1.000000</td>\n",
       "      <td>0.904335</td>\n",
       "      <td>0.920350</td>\n",
       "      <td>0.907800</td>\n",
       "      <td>0.662804</td>\n",
       "    </tr>\n",
       "    <tr>\n",
       "      <th>life_expectancy</th>\n",
       "      <td>0.819725</td>\n",
       "      <td>0.713381</td>\n",
       "      <td>0.982990</td>\n",
       "      <td>0.392675</td>\n",
       "      <td>-0.017838</td>\n",
       "      <td>0.361583</td>\n",
       "      <td>-0.346591</td>\n",
       "      <td>0.034366</td>\n",
       "      <td>-0.675131</td>\n",
       "      <td>0.904335</td>\n",
       "      <td>1.000000</td>\n",
       "      <td>0.810396</td>\n",
       "      <td>0.744140</td>\n",
       "      <td>0.586960</td>\n",
       "    </tr>\n",
       "    <tr>\n",
       "      <th>expected_years_of_schooling</th>\n",
       "      <td>0.816278</td>\n",
       "      <td>0.763511</td>\n",
       "      <td>0.837451</td>\n",
       "      <td>0.356783</td>\n",
       "      <td>-0.141452</td>\n",
       "      <td>0.319262</td>\n",
       "      <td>-0.258710</td>\n",
       "      <td>-0.015770</td>\n",
       "      <td>-0.654276</td>\n",
       "      <td>0.920350</td>\n",
       "      <td>0.810396</td>\n",
       "      <td>1.000000</td>\n",
       "      <td>0.842120</td>\n",
       "      <td>0.492256</td>\n",
       "    </tr>\n",
       "    <tr>\n",
       "      <th>mean_years_of_schooling</th>\n",
       "      <td>0.806770</td>\n",
       "      <td>0.794848</td>\n",
       "      <td>0.795686</td>\n",
       "      <td>0.346807</td>\n",
       "      <td>-0.147592</td>\n",
       "      <td>0.316947</td>\n",
       "      <td>-0.395745</td>\n",
       "      <td>-0.094350</td>\n",
       "      <td>-0.689748</td>\n",
       "      <td>0.907800</td>\n",
       "      <td>0.744140</td>\n",
       "      <td>0.842120</td>\n",
       "      <td>1.000000</td>\n",
       "      <td>0.497668</td>\n",
       "    </tr>\n",
       "    <tr>\n",
       "      <th>gni</th>\n",
       "      <td>0.791134</td>\n",
       "      <td>0.501397</td>\n",
       "      <td>0.570419</td>\n",
       "      <td>0.457114</td>\n",
       "      <td>0.031449</td>\n",
       "      <td>0.463926</td>\n",
       "      <td>-0.219806</td>\n",
       "      <td>-0.072591</td>\n",
       "      <td>-0.557626</td>\n",
       "      <td>0.662804</td>\n",
       "      <td>0.586960</td>\n",
       "      <td>0.492256</td>\n",
       "      <td>0.497668</td>\n",
       "      <td>1.000000</td>\n",
       "    </tr>\n",
       "  </tbody>\n",
       "</table>\n",
       "</div>"
      ],
      "text/plain": [
       "                               GDP per capita  Social support  \\\n",
       "GDP per capita                       1.000000        0.776994   \n",
       "Social support                       0.776994        1.000000   \n",
       "Healthy life expectancy              0.828855        0.732568   \n",
       "Freedom to make life choices         0.497536        0.588616   \n",
       "Generosity                          -0.087230       -0.058026   \n",
       "Perceptions of corruption            0.376035        0.290184   \n",
       "Terrorist_attacks                   -0.359662       -0.445112   \n",
       "population                           0.010983       -0.078932   \n",
       "population_below_poverty_line       -0.783629       -0.671441   \n",
       "hdi                                  0.952534        0.829772   \n",
       "life_expectancy                      0.819725        0.713381   \n",
       "expected_years_of_schooling          0.816278        0.763511   \n",
       "mean_years_of_schooling              0.806770        0.794848   \n",
       "gni                                  0.791134        0.501397   \n",
       "\n",
       "                               Healthy life expectancy  \\\n",
       "GDP per capita                                0.828855   \n",
       "Social support                                0.732568   \n",
       "Healthy life expectancy                       1.000000   \n",
       "Freedom to make life choices                  0.424599   \n",
       "Generosity                                   -0.017666   \n",
       "Perceptions of corruption                     0.379915   \n",
       "Terrorist_attacks                            -0.402194   \n",
       "population                                    0.056740   \n",
       "population_below_poverty_line                -0.698012   \n",
       "hdi                                           0.919899   \n",
       "life_expectancy                               0.982990   \n",
       "expected_years_of_schooling                   0.837451   \n",
       "mean_years_of_schooling                       0.795686   \n",
       "gni                                           0.570419   \n",
       "\n",
       "                               Freedom to make life choices  Generosity  \\\n",
       "GDP per capita                                     0.497536   -0.087230   \n",
       "Social support                                     0.588616   -0.058026   \n",
       "Healthy life expectancy                            0.424599   -0.017666   \n",
       "Freedom to make life choices                       1.000000    0.302245   \n",
       "Generosity                                         0.302245    1.000000   \n",
       "Perceptions of corruption                          0.493557    0.274878   \n",
       "Terrorist_attacks                                 -0.381656    0.027501   \n",
       "population                                         0.111773   -0.075887   \n",
       "population_below_poverty_line                     -0.405978    0.069264   \n",
       "hdi                                                0.428954   -0.123773   \n",
       "life_expectancy                                    0.392675   -0.017838   \n",
       "expected_years_of_schooling                        0.356783   -0.141452   \n",
       "mean_years_of_schooling                            0.346807   -0.147592   \n",
       "gni                                                0.457114    0.031449   \n",
       "\n",
       "                               Perceptions of corruption  Terrorist_attacks  \\\n",
       "GDP per capita                                  0.376035          -0.359662   \n",
       "Social support                                  0.290184          -0.445112   \n",
       "Healthy life expectancy                         0.379915          -0.402194   \n",
       "Freedom to make life choices                    0.493557          -0.381656   \n",
       "Generosity                                      0.274878           0.027501   \n",
       "Perceptions of corruption                       1.000000          -0.172918   \n",
       "Terrorist_attacks                              -0.172918           1.000000   \n",
       "population                                     -0.053192          -0.033408   \n",
       "population_below_poverty_line                  -0.216316           0.271698   \n",
       "hdi                                             0.367459          -0.362150   \n",
       "life_expectancy                                 0.361583          -0.346591   \n",
       "expected_years_of_schooling                     0.319262          -0.258710   \n",
       "mean_years_of_schooling                         0.316947          -0.395745   \n",
       "gni                                             0.463926          -0.219806   \n",
       "\n",
       "                               population  population_below_poverty_line  \\\n",
       "GDP per capita                   0.010983                      -0.783629   \n",
       "Social support                  -0.078932                      -0.671441   \n",
       "Healthy life expectancy          0.056740                      -0.698012   \n",
       "Freedom to make life choices     0.111773                      -0.405978   \n",
       "Generosity                      -0.075887                       0.069264   \n",
       "Perceptions of corruption       -0.053192                      -0.216316   \n",
       "Terrorist_attacks               -0.033408                       0.271698   \n",
       "population                       1.000000                      -0.206060   \n",
       "population_below_poverty_line   -0.206060                       1.000000   \n",
       "hdi                             -0.011924                      -0.763920   \n",
       "life_expectancy                  0.034366                      -0.675131   \n",
       "expected_years_of_schooling     -0.015770                      -0.654276   \n",
       "mean_years_of_schooling         -0.094350                      -0.689748   \n",
       "gni                             -0.072591                      -0.557626   \n",
       "\n",
       "                                    hdi  life_expectancy  \\\n",
       "GDP per capita                 0.952534         0.819725   \n",
       "Social support                 0.829772         0.713381   \n",
       "Healthy life expectancy        0.919899         0.982990   \n",
       "Freedom to make life choices   0.428954         0.392675   \n",
       "Generosity                    -0.123773        -0.017838   \n",
       "Perceptions of corruption      0.367459         0.361583   \n",
       "Terrorist_attacks             -0.362150        -0.346591   \n",
       "population                    -0.011924         0.034366   \n",
       "population_below_poverty_line -0.763920        -0.675131   \n",
       "hdi                            1.000000         0.904335   \n",
       "life_expectancy                0.904335         1.000000   \n",
       "expected_years_of_schooling    0.920350         0.810396   \n",
       "mean_years_of_schooling        0.907800         0.744140   \n",
       "gni                            0.662804         0.586960   \n",
       "\n",
       "                               expected_years_of_schooling  \\\n",
       "GDP per capita                                    0.816278   \n",
       "Social support                                    0.763511   \n",
       "Healthy life expectancy                           0.837451   \n",
       "Freedom to make life choices                      0.356783   \n",
       "Generosity                                       -0.141452   \n",
       "Perceptions of corruption                         0.319262   \n",
       "Terrorist_attacks                                -0.258710   \n",
       "population                                       -0.015770   \n",
       "population_below_poverty_line                    -0.654276   \n",
       "hdi                                               0.920350   \n",
       "life_expectancy                                   0.810396   \n",
       "expected_years_of_schooling                       1.000000   \n",
       "mean_years_of_schooling                           0.842120   \n",
       "gni                                               0.492256   \n",
       "\n",
       "                               mean_years_of_schooling       gni  \n",
       "GDP per capita                                0.806770  0.791134  \n",
       "Social support                                0.794848  0.501397  \n",
       "Healthy life expectancy                       0.795686  0.570419  \n",
       "Freedom to make life choices                  0.346807  0.457114  \n",
       "Generosity                                   -0.147592  0.031449  \n",
       "Perceptions of corruption                     0.316947  0.463926  \n",
       "Terrorist_attacks                            -0.395745 -0.219806  \n",
       "population                                   -0.094350 -0.072591  \n",
       "population_below_poverty_line                -0.689748 -0.557626  \n",
       "hdi                                           0.907800  0.662804  \n",
       "life_expectancy                               0.744140  0.586960  \n",
       "expected_years_of_schooling                   0.842120  0.492256  \n",
       "mean_years_of_schooling                       1.000000  0.497668  \n",
       "gni                                           0.497668  1.000000  "
      ]
     },
     "metadata": {},
     "output_type": "display_data"
    }
   ],
   "source": [
    "# Correlation table\n",
    "# From the correlation table, almost all attributes show a positive correlation with 'life_expectancy','except for \n",
    "# 'Generosity,' 'Terrorist_attacks,' and 'population_below_poverty_line'.\n",
    "\n",
    "correlation_matrix = X_train.corr()\n",
    "display(correlation_matrix)"
   ]
  },
  {
   "cell_type": "markdown",
   "metadata": {
    "id": "878CQ8e9zTf_"
   },
   "source": [
    "Write what you observed and your General comments on what should be done:"
   ]
  },
  {
   "cell_type": "code",
   "execution_count": 35,
   "metadata": {
    "id": "V_C7nCaYzZ_O"
   },
   "outputs": [],
   "source": [
    "# Your comments here"
   ]
  },
  {
   "cell_type": "markdown",
   "metadata": {},
   "source": [
    "I observed that 'Generosity,' 'Terrorist_attacks,' and 'population_below_poverty_line' have negative relationship with 'life_expectancy'.This makes sense, as an increase in terrorist attacks and the proportion of poor people in a country is likely to result in a decrease in life expectancy in that country. To my surprise, 'Generosity' shows a negative correlation with 'life_expectancy'. Some countries may be overly generous in ways that lead to unsustainable economic practices, which negatively impact living conditions.\n",
    "\n",
    "I observed that as GDP per capita increases, life expectancy also improves. Additionally, as the number of years \n",
    "of schooling increases, life expectancy tends to rise as well. These observations suggest that improving \n",
    "both economic conditions and educational access can enhance public health outcomes."
   ]
  },
  {
   "cell_type": "markdown",
   "metadata": {
    "id": "gEzPoXPj3V7u"
   },
   "source": [
    "## 2.   Preprocess data using Sklearn Column Transformer/ Write and Save Preprocessor function\n"
   ]
  },
  {
   "cell_type": "code",
   "execution_count": 36,
   "metadata": {
    "id": "16QV9Y9TC3B3"
   },
   "outputs": [],
   "source": [
    "from sklearn.preprocessing import StandardScaler, OneHotEncoder\n",
    "from sklearn.compose import ColumnTransformer, make_column_transformer\n",
    "from sklearn.pipeline import Pipeline\n",
    "from sklearn.impute import SimpleImputer\n",
    "from sklearn.preprocessing import StandardScaler, OneHotEncoder\n",
    "\n",
    "# Create the preprocessing pipelines for both numeric and categorical data.\n",
    "\n",
    "numeric_features = X_train.select_dtypes(include=['number'])## Drop all the non-numerical features from X_train\n",
    "numeric_features=numeric_features.columns.tolist()\n",
    "\n",
    "numeric_transformer = Pipeline(steps=[\n",
    "#    ('imputer', SimpleImputer(strategy='constant', fill_value=0)), ## Is this good enough?\n",
    "    ('imputer', SimpleImputer(strategy='median')), ## I change the fill_value from zero to median.\n",
    "    ('scaler', StandardScaler())]) # You will need to describe why this is being done in the next cell\n",
    "\n",
    "categorical_features = ['region', 'sub-region']\n",
    "\n",
    "#Replacing missing values with Modal value and then one hot encoding.\n",
    "categorical_transformer = Pipeline(steps=[\n",
    "    ('imputer',  SimpleImputer(strategy='most_frequent' )),\n",
    "    ('onehot', OneHotEncoder(handle_unknown= 'ignore'  ))])\n",
    "\n",
    "# final preprocessor object set up with ColumnTransformer\n",
    "preprocessor = ColumnTransformer(transformers=[('num', numeric_transformer, numeric_features),('cat', categorical_transformer, categorical_features)])\n",
    "\n",
    "#Fit your preprocessor object\n",
    "preprocess=preprocessor.fit(X_train)"
   ]
  },
  {
   "cell_type": "markdown",
   "metadata": {
    "id": "a-_wL1ZfnnRr"
   },
   "source": [
    "Describe step-by-step what we are doing above, and why? You are free to change how values are imputed. What change did you make if any, and why?"
   ]
  },
  {
   "cell_type": "code",
   "execution_count": 37,
   "metadata": {},
   "outputs": [],
   "source": [
    "## Your answer :"
   ]
  },
  {
   "cell_type": "markdown",
   "metadata": {},
   "source": [
    "1. We filter out the numeric features from X_train and store the list of those numeric feature names.\n",
    "\n",
    "2. We replace missing values in the numeric features with 0 to prevent errors during the model training process. We scale all numeric features so that they have a mean of 0 and a standard deviation of 1. The reason we standardize numeric features is to prevent features with larger ranges from disproportionately influencing the model.\n",
    "\n",
    "3. We define the categorical features in the X_train. Then, we replace missing values in the categorical data with the most frequent value in each categorical feature. After that, we transform each category into a binary vector, which can be fed into machine learning models. We also instruct the model to ignore any categories in the test data  that weren't present in the training data.\n",
    "\n",
    "4. We apply the numeric_transformer pipeline to the numeric_features and categrical_transformer to the categorical_features.Then, we fit the preprocessor using the training dataset X_train so that we can apply the same transformations to X_test, ensuring consistency between the two datasets. \n",
    "\n",
    "I changed the fill value for missing values from 0 to the median. From the previous EDA part, some features like 'population_below_poverty_line', 'life_expectancy', and 'mean_years_of_schooling'contain missing values. It is common sense that the population below the poverty line cannot be 0 in any country, just as life expectancy and mean years of schooling cannot be zero. Therefore, 0 is not a valid value within the context of the X_train data, which contains information related to countries."
   ]
  },
  {
   "cell_type": "code",
   "execution_count": 38,
   "metadata": {
    "id": "S_PaNOG0SUIk"
   },
   "outputs": [],
   "source": [
    "# Write function to transform data with preprocessor\n",
    "\n",
    "def preprocessor(data):\n",
    "    data.drop(['Country or region', 'name'], axis=1)\n",
    "    preprocessed_data=preprocess.transform(data)\n",
    "    return preprocessed_data"
   ]
  },
  {
   "cell_type": "markdown",
   "metadata": {
    "id": "ihlVBhHQnxdU"
   },
   "source": [
    "What are the differences between the \"preprocessor\" object, the \"preprocess\" object, the \"preprocessor\" function,  and the \"preprocessed_data\" that is returned finally?"
   ]
  },
  {
   "cell_type": "code",
   "execution_count": 39,
   "metadata": {
    "id": "KgszpguCoBkB"
   },
   "outputs": [],
   "source": [
    "## Your Answer :"
   ]
  },
  {
   "cell_type": "markdown",
   "metadata": {},
   "source": [
    "The \"preprocessor\" object applies different transformations to different feature types.\n",
    "\n",
    "The \"preprocess\" object contains the learned parameters from X_train, such as the means for imputation, scaling factors for standardization, and encoding rules for categorical features.\n",
    "\n",
    "The 'preprocessor' function drops the columns 'Country or region' and 'name' from the input dataset and applies the preprocessor transformation to the remaining dataset.\n",
    "\n",
    "The 'preprocessed_data' contains the fully transformed dataset where missing values have been replaced, \n",
    "numerical data has been scaled, and categorical data has been encoded.\""
   ]
  },
  {
   "cell_type": "code",
   "execution_count": 40,
   "metadata": {
    "id": "a1IPy9xvSWBp"
   },
   "outputs": [
    {
     "data": {
      "text/plain": [
       "(69, 33)"
      ]
     },
     "execution_count": 40,
     "metadata": {},
     "output_type": "execute_result"
    }
   ],
   "source": [
    "# check shape of X data after preprocessing it using our new function\n",
    "preprocessor(X_train).shape"
   ]
  },
  {
   "cell_type": "markdown",
   "metadata": {
    "id": "X52kECL43b-O"
   },
   "source": [
    "## 3. Fit model on preprocessed data and save preprocessor function and model\n"
   ]
  },
  {
   "cell_type": "code",
   "execution_count": 41,
   "metadata": {
    "id": "NCbBf8j9ClYl"
   },
   "outputs": [
    {
     "name": "stdout",
     "output_type": "stream",
     "text": [
      "Training accuracy score: 1.00\n",
      "Test accuracy score: 0.32\n"
     ]
    }
   ],
   "source": [
    "from sklearn.ensemble import RandomForestClassifier\n",
    "from sklearn.metrics import accuracy_score\n",
    "\n",
    "model = RandomForestClassifier(n_estimators=100, random_state=42)## Define a Random Forest Model here, fit it, and score it\n",
    "\n",
    "X_train_transformed = preprocessor(X_train)\n",
    "X_test_transformed = preprocessor(X_test)\n",
    "\n",
    "model.fit(X_train_transformed, y_train)\n",
    "y_pred = model.predict(X_test_transformed)\n",
    "\n",
    "train_score = model.score(X_train_transformed, y_train)  \n",
    "accuracy = accuracy_score(y_test, y_pred)\n",
    "\n",
    "print(f'Training accuracy score: {train_score:.2f}')\n",
    "print(f'Test accuracy score: {accuracy:.2f}')\n",
    "# Your cell should have a score between 0-1 as output"
   ]
  },
  {
   "cell_type": "markdown",
   "metadata": {
    "id": "gHWkAzvX3m8O"
   },
   "source": [
    "## 4. Generate predictions from X_test data and compare it with true labels in Y_test.csv file\n"
   ]
  },
  {
   "cell_type": "code",
   "execution_count": 43,
   "metadata": {
    "id": "_Ql4wksyEUnP"
   },
   "outputs": [
    {
     "name": "stdout",
     "output_type": "stream",
     "text": [
      "              precision    recall  f1-score   support\n",
      "\n",
      "           0       0.00      0.00      0.00         4\n",
      "           1       0.50      0.20      0.29         5\n",
      "           2       0.00      0.00      0.00         4\n",
      "           3       0.50      1.00      0.67         2\n",
      "           4       0.60      0.75      0.67         4\n",
      "\n",
      "   micro avg       0.50      0.32      0.39        19\n",
      "   macro avg       0.32      0.39      0.32        19\n",
      "weighted avg       0.31      0.32      0.29        19\n",
      " samples avg       0.32      0.32      0.32        19\n",
      "\n"
     ]
    },
    {
     "name": "stderr",
     "output_type": "stream",
     "text": [
      "/Users/anyuchen/opt/anaconda3/lib/python3.9/site-packages/sklearn/metrics/_classification.py:1469: UndefinedMetricWarning: Precision and F-score are ill-defined and being set to 0.0 in labels with no predicted samples. Use `zero_division` parameter to control this behavior.\n",
      "  _warn_prf(average, modifier, msg_start, len(result))\n",
      "/Users/anyuchen/opt/anaconda3/lib/python3.9/site-packages/sklearn/metrics/_classification.py:1469: UndefinedMetricWarning: Precision and F-score are ill-defined and being set to 0.0 in samples with no predicted labels. Use `zero_division` parameter to control this behavior.\n",
      "  _warn_prf(average, modifier, msg_start, len(result))\n"
     ]
    }
   ],
   "source": [
    "#-- Generate predicted values (Model 1)\n",
    "prediction_labels = model.predict(preprocessor(X_test))\n",
    "\n",
    "## Write code to show model performance by comparing prediction_labels with true labels\n",
    "from sklearn.metrics import classification_report\n",
    "print(classification_report(y_test, prediction_labels))"
   ]
  },
  {
   "cell_type": "markdown",
   "metadata": {
    "id": "SLg12oeqeP12"
   },
   "source": [
    "## 5. Repeat submission process to improve place on leaderboard\n"
   ]
  },
  {
   "cell_type": "code",
   "execution_count": 44,
   "metadata": {
    "id": "PYG5FywVeP17"
   },
   "outputs": [
    {
     "name": "stdout",
     "output_type": "stream",
     "text": [
      "Training accuracy score: 0.94\n",
      "Test accuracy score: 0.32\n"
     ]
    }
   ],
   "source": [
    "# Train model 2 using same preprocessor (note that you could save a new preprocessor, but we will use the same one for this example).\n",
    "from sklearn.ensemble import RandomForestClassifier\n",
    "\n",
    "model_2 = RandomForestClassifier(n_estimators=300, max_depth=20, min_samples_split=5, random_state=42)\n",
    "\n",
    "model_2.fit(preprocessor(X_train), y_train)\n",
    "y_pred = model_2.predict(preprocessor(X_test))\n",
    "\n",
    "train_score = model_2.score(preprocessor(X_train), y_train)\n",
    "accuracy = accuracy_score(y_test, y_pred)\n",
    "\n",
    "print(f'Training accuracy score: {train_score:.2f}')\n",
    "print(f'Test accuracy score: {accuracy:.2f}')"
   ]
  },
  {
   "cell_type": "markdown",
   "metadata": {
    "id": "bYMEPL2UrWn8"
   },
   "source": [
    " What changes did you make, what do the parameters you changed control, and why does it improve performance?"
   ]
  },
  {
   "cell_type": "code",
   "execution_count": 45,
   "metadata": {
    "id": "SaGdMOIcrmX2"
   },
   "outputs": [],
   "source": [
    "## Your answer :"
   ]
  },
  {
   "cell_type": "markdown",
   "metadata": {},
   "source": [
    "I changed the parameters by increasing n_estimators, specifying max_depth, and increasing min_samples_split. A training accuracy of 1 can be a sign of overfitting. A model with a training accuracy of 0.94 might be better because it indicates that the model is not overfitting to the training data. \n",
    "\n",
    "The n_estimators represent the number of trees in the forest. Increasing the number of trees generally improves model performance and stability by averaging out predictions.\n",
    "\n",
    "The max_depth represent the maximum depth of each tree. Typically, deeper trees can capture more intricate patterns of the dataset.\n",
    "\n",
    "The min_samples_split represent the minimum number of samples required to split an internal node.Increasing min_samples_split encourages the model to create simpler trees that may not capture all the details of\n",
    "the training data but are more likely to generalize well to unseen data."
   ]
  },
  {
   "cell_type": "code",
   "execution_count": 46,
   "metadata": {
    "id": "nszPPrfwPlUk"
   },
   "outputs": [
    {
     "name": "stdout",
     "output_type": "stream",
     "text": [
      "              precision    recall  f1-score   support\n",
      "\n",
      "           0       0.00      0.00      0.00         4\n",
      "           1       0.33      0.20      0.25         5\n",
      "           2       0.00      0.00      0.00         4\n",
      "           3       0.50      1.00      0.67         2\n",
      "           4       0.60      0.75      0.67         4\n",
      "\n",
      "   micro avg       0.50      0.32      0.39        19\n",
      "   macro avg       0.29      0.39      0.32        19\n",
      "weighted avg       0.27      0.32      0.28        19\n",
      " samples avg       0.32      0.32      0.32        19\n",
      "\n"
     ]
    },
    {
     "name": "stderr",
     "output_type": "stream",
     "text": [
      "/Users/anyuchen/opt/anaconda3/lib/python3.9/site-packages/sklearn/metrics/_classification.py:1469: UndefinedMetricWarning: Precision and F-score are ill-defined and being set to 0.0 in labels with no predicted samples. Use `zero_division` parameter to control this behavior.\n",
      "  _warn_prf(average, modifier, msg_start, len(result))\n",
      "/Users/anyuchen/opt/anaconda3/lib/python3.9/site-packages/sklearn/metrics/_classification.py:1469: UndefinedMetricWarning: Precision and F-score are ill-defined and being set to 0.0 in samples with no predicted labels. Use `zero_division` parameter to control this behavior.\n",
      "  _warn_prf(average, modifier, msg_start, len(result))\n"
     ]
    }
   ],
   "source": [
    "#Evaluate Model 2:\n",
    "\n",
    "#-- Generate predicted y values (Model 2)\n",
    "prediction_labels = model_2.predict(preprocessor(X_test))# Predict\n",
    "\n",
    "## Write code to show model performance by comparing prediction_labels with true labels\n",
    "print(classification_report(y_test, prediction_labels))"
   ]
  },
  {
   "cell_type": "markdown",
   "metadata": {
    "id": "yhzJ7NGOtehX"
   },
   "source": [
    "Do you think it is worth making more changes to the parameters? Should we keep trying random values and see what works better? What is an alternative to doing this manually?"
   ]
  },
  {
   "cell_type": "code",
   "execution_count": 48,
   "metadata": {
    "id": "7Sx3ivg1td_B"
   },
   "outputs": [],
   "source": [
    "## Your answer:"
   ]
  },
  {
   "cell_type": "markdown",
   "metadata": {},
   "source": [
    "It is worth making changes to the parameters. However, if we see that the model's performance only improves slightly or remains stable within a certain range, it may be unnecessary to continue trying new parameters. We do not need to keep trying random values because it is time-consuming and may carry a risk of overfitting. Alternatively, we can use grid search technique combined with cross-validation to find the optimal parameters."
   ]
  },
  {
   "cell_type": "code",
   "execution_count": 45,
   "metadata": {
    "id": "6Go4SF37Ex_Z"
   },
   "outputs": [
    {
     "name": "stdout",
     "output_type": "stream",
     "text": [
      "Test accuracy score: 0.32\n",
      "best mean cross-validation score: 0.537\n",
      "best parameters: {'max_depth': None, 'min_samples_split': 2, 'n_estimators': 500}\n"
     ]
    }
   ],
   "source": [
    "# Submit a third model using GridSearchCV\n",
    "\n",
    "from sklearn.ensemble import RandomForestClassifier\n",
    "from sklearn.model_selection import GridSearchCV\n",
    "import numpy as np\n",
    "\n",
    "param_grid = {\n",
    "    'n_estimators': np.arange(100, 600, 100),  \n",
    "    'max_depth': [None] + list(np.arange(15, 31, 5)),  \n",
    "    'min_samples_split': np.arange(2, 11, 1)}# Use np.arange to create a sequence of numbers for each parameter's space you think should be searched\n",
    "\n",
    "gridmodel = RandomForestClassifier(random_state=42)# Read GridSearchCV docs and create an object with RandomForestClassifier as the model\n",
    "\n",
    "#use model methods to fit score and predict model:\n",
    "grid_search = GridSearchCV(estimator=gridmodel, param_grid=param_grid, \n",
    "                           cv=5, scoring='accuracy')\n",
    "grid_search.fit(preprocessor(X_train), y_train)\n",
    "best_model = grid_search.best_estimator_\n",
    "\n",
    "y_pred = best_model.predict(preprocessor(X_test))\n",
    "\n",
    "accuracy = accuracy_score(y_test, y_pred)\n",
    "print(f'Test accuracy score: {accuracy:.2f}')\n",
    "\n",
    "#extract best score and parameter by calling objects \"best_score_\" and \"best_params_\"\n",
    "print(\"best mean cross-validation score: {:.3f}\".format(grid_search.best_score_))\n",
    "print(\"best parameters: {}\".format(grid_search.best_params_))\n"
   ]
  },
  {
   "cell_type": "code",
   "execution_count": 46,
   "metadata": {
    "id": "sMidHABfHVN7"
   },
   "outputs": [
    {
     "name": "stdout",
     "output_type": "stream",
     "text": [
      "              precision    recall  f1-score   support\n",
      "\n",
      "           0       0.00      0.00      0.00         4\n",
      "           1       0.33      0.20      0.25         5\n",
      "           2       0.00      0.00      0.00         4\n",
      "           3       0.50      1.00      0.67         2\n",
      "           4       0.60      0.75      0.67         4\n",
      "\n",
      "   micro avg       0.46      0.32      0.37        19\n",
      "   macro avg       0.29      0.39      0.32        19\n",
      "weighted avg       0.27      0.32      0.28        19\n",
      " samples avg       0.32      0.32      0.32        19\n",
      "\n"
     ]
    },
    {
     "name": "stderr",
     "output_type": "stream",
     "text": [
      "/Users/anyuchen/opt/anaconda3/lib/python3.9/site-packages/sklearn/metrics/_classification.py:1469: UndefinedMetricWarning: Precision and F-score are ill-defined and being set to 0.0 in labels with no predicted samples. Use `zero_division` parameter to control this behavior.\n",
      "  _warn_prf(average, modifier, msg_start, len(result))\n",
      "/Users/anyuchen/opt/anaconda3/lib/python3.9/site-packages/sklearn/metrics/_classification.py:1469: UndefinedMetricWarning: Precision and F-score are ill-defined and being set to 0.0 in samples with no predicted labels. Use `zero_division` parameter to control this behavior.\n",
      "  _warn_prf(average, modifier, msg_start, len(result))\n"
     ]
    }
   ],
   "source": [
    "#Submit Model 3:\n",
    "\n",
    "#-- Generate predicted values\n",
    "prediction_labels = best_model.predict(preprocessor(X_test))\n",
    "\n",
    "## Write code to show model performance by comparing prediction_labels with true labels\n",
    "print(classification_report(y_test, prediction_labels))"
   ]
  },
  {
   "cell_type": "code",
   "execution_count": 53,
   "metadata": {
    "id": "tukB40NshcaB"
   },
   "outputs": [
    {
     "name": "stdout",
     "output_type": "stream",
     "text": [
      "              precision    recall  f1-score   support\n",
      "\n",
      "     Average       0.33      0.25      0.29         4\n",
      "        High       0.67      0.40      0.50         5\n",
      "         Low       0.33      0.25      0.29         4\n",
      "   Very High       0.50      1.00      0.67         2\n",
      "    Very Low       0.50      0.75      0.60         4\n",
      "\n",
      "    accuracy                           0.47        19\n",
      "   macro avg       0.47      0.53      0.47        19\n",
      "weighted avg       0.47      0.47      0.45        19\n",
      "\n"
     ]
    }
   ],
   "source": [
    "# Here are several classic ML architectures you can consider choosing from to experiment with next:\n",
    "from sklearn.neighbors import KNeighborsClassifier\n",
    "from sklearn.svm import SVC\n",
    "from sklearn.ensemble import RandomForestClassifier\n",
    "from sklearn.ensemble import BaggingClassifier\n",
    "from sklearn.ensemble import GradientBoostingClassifier\n",
    "\n",
    "\n",
    "\n",
    "model = GradientBoostingClassifier(n_estimators=100, learning_rate=0.1, max_depth=3, random_state=42) ## Read documentations of imported models and fit them.\n",
    "\n",
    "model.fit(preprocessor(X_train), y_train_labels)\n",
    "\n",
    "\n",
    "#-- Generate predicted values\n",
    "prediction_labels = model.predict(preprocessor(X_test))\n",
    "\n",
    "## Write code to show model performance by comparing prediction_labels with true labels\n",
    "print(classification_report(y_test_labels, prediction_labels))"
   ]
  },
  {
   "cell_type": "markdown",
   "metadata": {
    "id": "zeZ16W4GuUW9"
   },
   "source": [
    "Describe what were the parameters you defined in GradientBoostingClassifier, and/or BaggingClassifier, and/or KNNs, and/or SVC? What worked and why?"
   ]
  },
  {
   "cell_type": "code",
   "execution_count": 47,
   "metadata": {},
   "outputs": [],
   "source": [
    "## Your answer:"
   ]
  },
  {
   "cell_type": "markdown",
   "metadata": {},
   "source": [
    "I define 'n_estimators' = 100, 'learning_rate' = 0.1, and 'max_depth' = 3. It works better than the Random Forest because Gradient Boosting builds trees sequentially, allowing each tree to correct the errors of the previous ones. With a learning rate of 0.1, each tree contributes minimally, improving generalization and reducing overfitting. The maximum depth of 3 keeps the trees simple, enabling the model to capture complex patterns in the data effectively."
   ]
  },
  {
   "cell_type": "markdown",
   "metadata": {
    "id": "2e-V2vtMmrrp"
   },
   "source": [
    "# 6. Basic Deep Learning"
   ]
  },
  {
   "cell_type": "code",
   "execution_count": 90,
   "metadata": {
    "id": "Me2pkDUsuEBH"
   },
   "outputs": [
    {
     "name": "stderr",
     "output_type": "stream",
     "text": [
      "2024-10-07 13:21:19.551696: I tensorflow/core/platform/cpu_feature_guard.cc:210] This TensorFlow binary is optimized to use available CPU instructions in performance-critical operations.\n",
      "To enable the following instructions: AVX2 FMA, in other operations, rebuild TensorFlow with the appropriate compiler flags.\n",
      "/Users/anyuchen/opt/anaconda3/lib/python3.9/site-packages/keras/src/layers/core/dense.py:86: UserWarning: Do not pass an `input_shape`/`input_dim` argument to a layer. When using Sequential models, prefer using an `Input(shape)` object as the first layer in the model instead.\n",
      "  super().__init__(activity_regularizer=activity_regularizer, **kwargs)\n"
     ]
    },
    {
     "name": "stdout",
     "output_type": "stream",
     "text": [
      "Epoch 1/300\n",
      "\u001b[1m3/3\u001b[0m \u001b[32m━━━━━━━━━━━━━━━━━━━━\u001b[0m\u001b[37m\u001b[0m \u001b[1m1s\u001b[0m 96ms/step - accuracy: 0.1855 - loss: 1.6097 - val_accuracy: 0.2778 - val_loss: 1.5651\n",
      "Epoch 2/300\n",
      "\u001b[1m3/3\u001b[0m \u001b[32m━━━━━━━━━━━━━━━━━━━━\u001b[0m\u001b[37m\u001b[0m \u001b[1m0s\u001b[0m 14ms/step - accuracy: 0.2203 - loss: 1.5851 - val_accuracy: 0.3889 - val_loss: 1.5562\n",
      "Epoch 3/300\n",
      "\u001b[1m3/3\u001b[0m \u001b[32m━━━━━━━━━━━━━━━━━━━━\u001b[0m\u001b[37m\u001b[0m \u001b[1m0s\u001b[0m 14ms/step - accuracy: 0.2489 - loss: 1.5590 - val_accuracy: 0.3889 - val_loss: 1.5485\n",
      "Epoch 4/300\n",
      "\u001b[1m3/3\u001b[0m \u001b[32m━━━━━━━━━━━━━━━━━━━━\u001b[0m\u001b[37m\u001b[0m \u001b[1m0s\u001b[0m 15ms/step - accuracy: 0.2614 - loss: 1.5366 - val_accuracy: 0.3889 - val_loss: 1.5400\n",
      "Epoch 5/300\n",
      "\u001b[1m3/3\u001b[0m \u001b[32m━━━━━━━━━━━━━━━━━━━━\u001b[0m\u001b[37m\u001b[0m \u001b[1m0s\u001b[0m 14ms/step - accuracy: 0.2176 - loss: 1.5420 - val_accuracy: 0.3889 - val_loss: 1.5334\n",
      "Epoch 6/300\n",
      "\u001b[1m3/3\u001b[0m \u001b[32m━━━━━━━━━━━━━━━━━━━━\u001b[0m\u001b[37m\u001b[0m \u001b[1m0s\u001b[0m 14ms/step - accuracy: 0.2935 - loss: 1.5112 - val_accuracy: 0.4444 - val_loss: 1.5267\n",
      "Epoch 7/300\n",
      "\u001b[1m3/3\u001b[0m \u001b[32m━━━━━━━━━━━━━━━━━━━━\u001b[0m\u001b[37m\u001b[0m \u001b[1m0s\u001b[0m 14ms/step - accuracy: 0.2944 - loss: 1.5146 - val_accuracy: 0.4444 - val_loss: 1.5212\n",
      "Epoch 8/300\n",
      "\u001b[1m3/3\u001b[0m \u001b[32m━━━━━━━━━━━━━━━━━━━━\u001b[0m\u001b[37m\u001b[0m \u001b[1m0s\u001b[0m 13ms/step - accuracy: 0.3738 - loss: 1.4843 - val_accuracy: 0.4444 - val_loss: 1.5159\n",
      "Epoch 9/300\n",
      "\u001b[1m3/3\u001b[0m \u001b[32m━━━━━━━━━━━━━━━━━━━━\u001b[0m\u001b[37m\u001b[0m \u001b[1m0s\u001b[0m 15ms/step - accuracy: 0.4148 - loss: 1.4705 - val_accuracy: 0.4444 - val_loss: 1.5087\n",
      "Epoch 10/300\n",
      "\u001b[1m3/3\u001b[0m \u001b[32m━━━━━━━━━━━━━━━━━━━━\u001b[0m\u001b[37m\u001b[0m \u001b[1m0s\u001b[0m 14ms/step - accuracy: 0.3996 - loss: 1.4736 - val_accuracy: 0.4444 - val_loss: 1.5007\n",
      "Epoch 11/300\n",
      "\u001b[1m3/3\u001b[0m \u001b[32m━━━━━━━━━━━━━━━━━━━━\u001b[0m\u001b[37m\u001b[0m \u001b[1m0s\u001b[0m 14ms/step - accuracy: 0.4817 - loss: 1.4428 - val_accuracy: 0.5000 - val_loss: 1.4919\n",
      "Epoch 12/300\n",
      "\u001b[1m3/3\u001b[0m \u001b[32m━━━━━━━━━━━━━━━━━━━━\u001b[0m\u001b[37m\u001b[0m \u001b[1m0s\u001b[0m 14ms/step - accuracy: 0.4380 - loss: 1.4435 - val_accuracy: 0.5556 - val_loss: 1.4850\n",
      "Epoch 13/300\n",
      "\u001b[1m3/3\u001b[0m \u001b[32m━━━━━━━━━━━━━━━━━━━━\u001b[0m\u001b[37m\u001b[0m \u001b[1m0s\u001b[0m 14ms/step - accuracy: 0.4728 - loss: 1.4202 - val_accuracy: 0.5000 - val_loss: 1.4779\n",
      "Epoch 14/300\n",
      "\u001b[1m3/3\u001b[0m \u001b[32m━━━━━━━━━━━━━━━━━━━━\u001b[0m\u001b[37m\u001b[0m \u001b[1m0s\u001b[0m 16ms/step - accuracy: 0.4103 - loss: 1.4323 - val_accuracy: 0.5000 - val_loss: 1.4704\n",
      "Epoch 15/300\n",
      "\u001b[1m3/3\u001b[0m \u001b[32m━━━━━━━━━━━━━━━━━━━━\u001b[0m\u001b[37m\u001b[0m \u001b[1m0s\u001b[0m 14ms/step - accuracy: 0.4951 - loss: 1.3926 - val_accuracy: 0.5000 - val_loss: 1.4642\n",
      "Epoch 16/300\n",
      "\u001b[1m3/3\u001b[0m \u001b[32m━━━━━━━━━━━━━━━━━━━━\u001b[0m\u001b[37m\u001b[0m \u001b[1m0s\u001b[0m 14ms/step - accuracy: 0.5049 - loss: 1.3870 - val_accuracy: 0.5000 - val_loss: 1.4587\n",
      "Epoch 17/300\n",
      "\u001b[1m3/3\u001b[0m \u001b[32m━━━━━━━━━━━━━━━━━━━━\u001b[0m\u001b[37m\u001b[0m \u001b[1m0s\u001b[0m 16ms/step - accuracy: 0.5022 - loss: 1.3955 - val_accuracy: 0.5000 - val_loss: 1.4516\n",
      "Epoch 18/300\n",
      "\u001b[1m3/3\u001b[0m \u001b[32m━━━━━━━━━━━━━━━━━━━━\u001b[0m\u001b[37m\u001b[0m \u001b[1m0s\u001b[0m 15ms/step - accuracy: 0.5174 - loss: 1.3524 - val_accuracy: 0.5000 - val_loss: 1.4442\n",
      "Epoch 19/300\n",
      "\u001b[1m3/3\u001b[0m \u001b[32m━━━━━━━━━━━━━━━━━━━━\u001b[0m\u001b[37m\u001b[0m \u001b[1m0s\u001b[0m 14ms/step - accuracy: 0.4987 - loss: 1.3844 - val_accuracy: 0.5000 - val_loss: 1.4360\n",
      "Epoch 20/300\n",
      "\u001b[1m3/3\u001b[0m \u001b[32m━━━━━━━━━━━━━━━━━━━━\u001b[0m\u001b[37m\u001b[0m \u001b[1m0s\u001b[0m 26ms/step - accuracy: 0.5397 - loss: 1.3643 - val_accuracy: 0.5000 - val_loss: 1.4278\n",
      "Epoch 21/300\n",
      "\u001b[1m3/3\u001b[0m \u001b[32m━━━━━━━━━━━━━━━━━━━━\u001b[0m\u001b[37m\u001b[0m \u001b[1m0s\u001b[0m 14ms/step - accuracy: 0.4987 - loss: 1.3140 - val_accuracy: 0.5000 - val_loss: 1.4210\n",
      "Epoch 22/300\n",
      "\u001b[1m3/3\u001b[0m \u001b[32m━━━━━━━━━━━━━━━━━━━━\u001b[0m\u001b[37m\u001b[0m \u001b[1m0s\u001b[0m 14ms/step - accuracy: 0.5487 - loss: 1.3234 - val_accuracy: 0.5000 - val_loss: 1.4141\n",
      "Epoch 23/300\n",
      "\u001b[1m3/3\u001b[0m \u001b[32m━━━━━━━━━━━━━━━━━━━━\u001b[0m\u001b[37m\u001b[0m \u001b[1m0s\u001b[0m 15ms/step - accuracy: 0.5513 - loss: 1.2755 - val_accuracy: 0.5000 - val_loss: 1.4059\n",
      "Epoch 24/300\n",
      "\u001b[1m3/3\u001b[0m \u001b[32m━━━━━━━━━━━━━━━━━━━━\u001b[0m\u001b[37m\u001b[0m \u001b[1m0s\u001b[0m 14ms/step - accuracy: 0.4576 - loss: 1.3163 - val_accuracy: 0.5000 - val_loss: 1.3996\n",
      "Epoch 25/300\n",
      "\u001b[1m3/3\u001b[0m \u001b[32m━━━━━━━━━━━━━━━━━━━━\u001b[0m\u001b[37m\u001b[0m \u001b[1m0s\u001b[0m 14ms/step - accuracy: 0.5326 - loss: 1.2672 - val_accuracy: 0.5000 - val_loss: 1.3922\n",
      "Epoch 26/300\n",
      "\u001b[1m3/3\u001b[0m \u001b[32m━━━━━━━━━━━━━━━━━━━━\u001b[0m\u001b[37m\u001b[0m \u001b[1m0s\u001b[0m 15ms/step - accuracy: 0.5397 - loss: 1.2772 - val_accuracy: 0.5000 - val_loss: 1.3846\n",
      "Epoch 27/300\n",
      "\u001b[1m3/3\u001b[0m \u001b[32m━━━━━━━━━━━━━━━━━━━━\u001b[0m\u001b[37m\u001b[0m \u001b[1m0s\u001b[0m 14ms/step - accuracy: 0.5058 - loss: 1.2760 - val_accuracy: 0.5000 - val_loss: 1.3777\n",
      "Epoch 28/300\n",
      "\u001b[1m3/3\u001b[0m \u001b[32m━━━━━━━━━━━━━━━━━━━━\u001b[0m\u001b[37m\u001b[0m \u001b[1m0s\u001b[0m 14ms/step - accuracy: 0.5745 - loss: 1.2374 - val_accuracy: 0.5000 - val_loss: 1.3702\n",
      "Epoch 29/300\n",
      "\u001b[1m3/3\u001b[0m \u001b[32m━━━━━━━━━━━━━━━━━━━━\u001b[0m\u001b[37m\u001b[0m \u001b[1m0s\u001b[0m 14ms/step - accuracy: 0.4585 - loss: 1.2932 - val_accuracy: 0.5000 - val_loss: 1.3658\n",
      "Epoch 30/300\n",
      "\u001b[1m3/3\u001b[0m \u001b[32m━━━━━━━━━━━━━━━━━━━━\u001b[0m\u001b[37m\u001b[0m \u001b[1m0s\u001b[0m 13ms/step - accuracy: 0.5058 - loss: 1.2735 - val_accuracy: 0.5000 - val_loss: 1.3597\n",
      "Epoch 31/300\n",
      "\u001b[1m3/3\u001b[0m \u001b[32m━━━━━━━━━━━━━━━━━━━━\u001b[0m\u001b[37m\u001b[0m \u001b[1m0s\u001b[0m 14ms/step - accuracy: 0.5620 - loss: 1.2244 - val_accuracy: 0.5000 - val_loss: 1.3523\n",
      "Epoch 32/300\n",
      "\u001b[1m3/3\u001b[0m \u001b[32m━━━━━━━━━━━━━━━━━━━━\u001b[0m\u001b[37m\u001b[0m \u001b[1m0s\u001b[0m 13ms/step - accuracy: 0.5245 - loss: 1.2026 - val_accuracy: 0.5000 - val_loss: 1.3444\n",
      "Epoch 33/300\n",
      "\u001b[1m3/3\u001b[0m \u001b[32m━━━━━━━━━━━━━━━━━━━━\u001b[0m\u001b[37m\u001b[0m \u001b[1m0s\u001b[0m 13ms/step - accuracy: 0.5085 - loss: 1.2143 - val_accuracy: 0.5000 - val_loss: 1.3388\n",
      "Epoch 34/300\n",
      "\u001b[1m3/3\u001b[0m \u001b[32m━━━━━━━━━━━━━━━━━━━━\u001b[0m\u001b[37m\u001b[0m \u001b[1m0s\u001b[0m 14ms/step - accuracy: 0.5335 - loss: 1.1785 - val_accuracy: 0.5000 - val_loss: 1.3322\n",
      "Epoch 35/300\n",
      "\u001b[1m3/3\u001b[0m \u001b[32m━━━━━━━━━━━━━━━━━━━━\u001b[0m\u001b[37m\u001b[0m \u001b[1m0s\u001b[0m 14ms/step - accuracy: 0.5147 - loss: 1.2225 - val_accuracy: 0.5000 - val_loss: 1.3261\n",
      "Epoch 36/300\n",
      "\u001b[1m3/3\u001b[0m \u001b[32m━━━━━━━━━━━━━━━━━━━━\u001b[0m\u001b[37m\u001b[0m \u001b[1m0s\u001b[0m 14ms/step - accuracy: 0.5085 - loss: 1.1842 - val_accuracy: 0.5000 - val_loss: 1.3204\n",
      "Epoch 37/300\n",
      "\u001b[1m3/3\u001b[0m \u001b[32m━━━━━━━━━━━━━━━━━━━━\u001b[0m\u001b[37m\u001b[0m \u001b[1m0s\u001b[0m 13ms/step - accuracy: 0.4987 - loss: 1.1846 - val_accuracy: 0.5000 - val_loss: 1.3150\n",
      "Epoch 38/300\n",
      "\u001b[1m3/3\u001b[0m \u001b[32m━━━━━━━━━━━━━━━━━━━━\u001b[0m\u001b[37m\u001b[0m \u001b[1m0s\u001b[0m 16ms/step - accuracy: 0.5460 - loss: 1.1281 - val_accuracy: 0.5000 - val_loss: 1.3075\n",
      "Epoch 39/300\n",
      "\u001b[1m3/3\u001b[0m \u001b[32m━━━━━━━━━━━━━━━━━━━━\u001b[0m\u001b[37m\u001b[0m \u001b[1m0s\u001b[0m 20ms/step - accuracy: 0.5397 - loss: 1.1096 - val_accuracy: 0.5000 - val_loss: 1.3016\n",
      "Epoch 40/300\n",
      "\u001b[1m3/3\u001b[0m \u001b[32m━━━━━━━━━━━━━━━━━━━━\u001b[0m\u001b[37m\u001b[0m \u001b[1m0s\u001b[0m 19ms/step - accuracy: 0.5968 - loss: 1.1181 - val_accuracy: 0.5556 - val_loss: 1.2947\n",
      "Epoch 41/300\n",
      "\u001b[1m3/3\u001b[0m \u001b[32m━━━━━━━━━━━━━━━━━━━━\u001b[0m\u001b[37m\u001b[0m \u001b[1m0s\u001b[0m 20ms/step - accuracy: 0.5620 - loss: 1.0894 - val_accuracy: 0.5556 - val_loss: 1.2867\n",
      "Epoch 42/300\n",
      "\u001b[1m3/3\u001b[0m \u001b[32m━━━━━━━━━━━━━━━━━━━━\u001b[0m\u001b[37m\u001b[0m \u001b[1m0s\u001b[0m 17ms/step - accuracy: 0.5906 - loss: 1.0763 - val_accuracy: 0.5556 - val_loss: 1.2796\n",
      "Epoch 43/300\n",
      "\u001b[1m3/3\u001b[0m \u001b[32m━━━━━━━━━━━━━━━━━━━━\u001b[0m\u001b[37m\u001b[0m \u001b[1m0s\u001b[0m 25ms/step - accuracy: 0.5754 - loss: 1.0655 - val_accuracy: 0.5556 - val_loss: 1.2733\n",
      "Epoch 44/300\n",
      "\u001b[1m3/3\u001b[0m \u001b[32m━━━━━━━━━━━━━━━━━━━━\u001b[0m\u001b[37m\u001b[0m \u001b[1m0s\u001b[0m 19ms/step - accuracy: 0.6227 - loss: 1.0954 - val_accuracy: 0.5556 - val_loss: 1.2689\n",
      "Epoch 45/300\n",
      "\u001b[1m3/3\u001b[0m \u001b[32m━━━━━━━━━━━━━━━━━━━━\u001b[0m\u001b[37m\u001b[0m \u001b[1m0s\u001b[0m 13ms/step - accuracy: 0.6387 - loss: 1.0369 - val_accuracy: 0.5000 - val_loss: 1.2627\n",
      "Epoch 46/300\n",
      "\u001b[1m3/3\u001b[0m \u001b[32m━━━━━━━━━━━━━━━━━━━━\u001b[0m\u001b[37m\u001b[0m \u001b[1m0s\u001b[0m 15ms/step - accuracy: 0.6262 - loss: 1.0606 - val_accuracy: 0.5000 - val_loss: 1.2570\n",
      "Epoch 47/300\n",
      "\u001b[1m3/3\u001b[0m \u001b[32m━━━━━━━━━━━━━━━━━━━━\u001b[0m\u001b[37m\u001b[0m \u001b[1m0s\u001b[0m 14ms/step - accuracy: 0.6235 - loss: 1.0619 - val_accuracy: 0.5000 - val_loss: 1.2515\n",
      "Epoch 48/300\n",
      "\u001b[1m3/3\u001b[0m \u001b[32m━━━━━━━━━━━━━━━━━━━━\u001b[0m\u001b[37m\u001b[0m \u001b[1m0s\u001b[0m 13ms/step - accuracy: 0.6735 - loss: 1.0346 - val_accuracy: 0.5000 - val_loss: 1.2456\n",
      "Epoch 49/300\n",
      "\u001b[1m3/3\u001b[0m \u001b[32m━━━━━━━━━━━━━━━━━━━━\u001b[0m\u001b[37m\u001b[0m \u001b[1m0s\u001b[0m 15ms/step - accuracy: 0.6771 - loss: 1.0243 - val_accuracy: 0.5000 - val_loss: 1.2415\n",
      "Epoch 50/300\n",
      "\u001b[1m3/3\u001b[0m \u001b[32m━━━━━━━━━━━━━━━━━━━━\u001b[0m\u001b[37m\u001b[0m \u001b[1m0s\u001b[0m 13ms/step - accuracy: 0.6708 - loss: 1.0557 - val_accuracy: 0.5000 - val_loss: 1.2368\n",
      "Epoch 51/300\n",
      "\u001b[1m3/3\u001b[0m \u001b[32m━━━━━━━━━━━━━━━━━━━━\u001b[0m\u001b[37m\u001b[0m \u001b[1m0s\u001b[0m 14ms/step - accuracy: 0.6548 - loss: 1.0422 - val_accuracy: 0.5000 - val_loss: 1.2325\n"
     ]
    },
    {
     "name": "stdout",
     "output_type": "stream",
     "text": [
      "Epoch 52/300\n",
      "\u001b[1m3/3\u001b[0m \u001b[32m━━━━━━━━━━━━━━━━━━━━\u001b[0m\u001b[37m\u001b[0m \u001b[1m0s\u001b[0m 13ms/step - accuracy: 0.6423 - loss: 1.0193 - val_accuracy: 0.5000 - val_loss: 1.2264\n",
      "Epoch 53/300\n",
      "\u001b[1m3/3\u001b[0m \u001b[32m━━━━━━━━━━━━━━━━━━━━\u001b[0m\u001b[37m\u001b[0m \u001b[1m0s\u001b[0m 13ms/step - accuracy: 0.6967 - loss: 1.0318 - val_accuracy: 0.5000 - val_loss: 1.2242\n",
      "Epoch 54/300\n",
      "\u001b[1m3/3\u001b[0m \u001b[32m━━━━━━━━━━━━━━━━━━━━\u001b[0m\u001b[37m\u001b[0m \u001b[1m0s\u001b[0m 14ms/step - accuracy: 0.6458 - loss: 1.0092 - val_accuracy: 0.5000 - val_loss: 1.2202\n",
      "Epoch 55/300\n",
      "\u001b[1m3/3\u001b[0m \u001b[32m━━━━━━━━━━━━━━━━━━━━\u001b[0m\u001b[37m\u001b[0m \u001b[1m0s\u001b[0m 14ms/step - accuracy: 0.6333 - loss: 0.9837 - val_accuracy: 0.5000 - val_loss: 1.2128\n",
      "Epoch 56/300\n",
      "\u001b[1m3/3\u001b[0m \u001b[32m━━━━━━━━━━━━━━━━━━━━\u001b[0m\u001b[37m\u001b[0m \u001b[1m0s\u001b[0m 13ms/step - accuracy: 0.6869 - loss: 0.9248 - val_accuracy: 0.5000 - val_loss: 1.2107\n",
      "Epoch 57/300\n",
      "\u001b[1m3/3\u001b[0m \u001b[32m━━━━━━━━━━━━━━━━━━━━\u001b[0m\u001b[37m\u001b[0m \u001b[1m0s\u001b[0m 13ms/step - accuracy: 0.6958 - loss: 0.9371 - val_accuracy: 0.5000 - val_loss: 1.2045\n",
      "Epoch 58/300\n",
      "\u001b[1m3/3\u001b[0m \u001b[32m━━━━━━━━━━━━━━━━━━━━\u001b[0m\u001b[37m\u001b[0m \u001b[1m0s\u001b[0m 13ms/step - accuracy: 0.6869 - loss: 0.9771 - val_accuracy: 0.5000 - val_loss: 1.1986\n",
      "Epoch 59/300\n",
      "\u001b[1m3/3\u001b[0m \u001b[32m━━━━━━━━━━━━━━━━━━━━\u001b[0m\u001b[37m\u001b[0m \u001b[1m0s\u001b[0m 14ms/step - accuracy: 0.7815 - loss: 0.9430 - val_accuracy: 0.5000 - val_loss: 1.1929\n",
      "Epoch 60/300\n",
      "\u001b[1m3/3\u001b[0m \u001b[32m━━━━━━━━━━━━━━━━━━━━\u001b[0m\u001b[37m\u001b[0m \u001b[1m0s\u001b[0m 13ms/step - accuracy: 0.7690 - loss: 0.9243 - val_accuracy: 0.5000 - val_loss: 1.1891\n",
      "Epoch 61/300\n",
      "\u001b[1m3/3\u001b[0m \u001b[32m━━━━━━━━━━━━━━━━━━━━\u001b[0m\u001b[37m\u001b[0m \u001b[1m0s\u001b[0m 14ms/step - accuracy: 0.7154 - loss: 0.8949 - val_accuracy: 0.5000 - val_loss: 1.1876\n",
      "Epoch 62/300\n",
      "\u001b[1m3/3\u001b[0m \u001b[32m━━━━━━━━━━━━━━━━━━━━\u001b[0m\u001b[37m\u001b[0m \u001b[1m0s\u001b[0m 15ms/step - accuracy: 0.7217 - loss: 0.9510 - val_accuracy: 0.5000 - val_loss: 1.1834\n",
      "Epoch 63/300\n",
      "\u001b[1m3/3\u001b[0m \u001b[32m━━━━━━━━━━━━━━━━━━━━\u001b[0m\u001b[37m\u001b[0m \u001b[1m0s\u001b[0m 17ms/step - accuracy: 0.7752 - loss: 0.8925 - val_accuracy: 0.5000 - val_loss: 1.1800\n",
      "Epoch 64/300\n",
      "\u001b[1m3/3\u001b[0m \u001b[32m━━━━━━━━━━━━━━━━━━━━\u001b[0m\u001b[37m\u001b[0m \u001b[1m0s\u001b[0m 14ms/step - accuracy: 0.7315 - loss: 0.8992 - val_accuracy: 0.5000 - val_loss: 1.1725\n",
      "Epoch 65/300\n",
      "\u001b[1m3/3\u001b[0m \u001b[32m━━━━━━━━━━━━━━━━━━━━\u001b[0m\u001b[37m\u001b[0m \u001b[1m0s\u001b[0m 13ms/step - accuracy: 0.7092 - loss: 0.8939 - val_accuracy: 0.5556 - val_loss: 1.1692\n",
      "Epoch 66/300\n",
      "\u001b[1m3/3\u001b[0m \u001b[32m━━━━━━━━━━━━━━━━━━━━\u001b[0m\u001b[37m\u001b[0m \u001b[1m0s\u001b[0m 15ms/step - accuracy: 0.7190 - loss: 0.9253 - val_accuracy: 0.5556 - val_loss: 1.1635\n",
      "Epoch 67/300\n",
      "\u001b[1m3/3\u001b[0m \u001b[32m━━━━━━━━━━━━━━━━━━━━\u001b[0m\u001b[37m\u001b[0m \u001b[1m0s\u001b[0m 17ms/step - accuracy: 0.7154 - loss: 0.9070 - val_accuracy: 0.5556 - val_loss: 1.1580\n",
      "Epoch 68/300\n",
      "\u001b[1m3/3\u001b[0m \u001b[32m━━━━━━━━━━━━━━━━━━━━\u001b[0m\u001b[37m\u001b[0m \u001b[1m0s\u001b[0m 17ms/step - accuracy: 0.7315 - loss: 0.9088 - val_accuracy: 0.5556 - val_loss: 1.1553\n",
      "Epoch 69/300\n",
      "\u001b[1m3/3\u001b[0m \u001b[32m━━━━━━━━━━━━━━━━━━━━\u001b[0m\u001b[37m\u001b[0m \u001b[1m0s\u001b[0m 15ms/step - accuracy: 0.7502 - loss: 0.8838 - val_accuracy: 0.5556 - val_loss: 1.1530\n",
      "Epoch 70/300\n",
      "\u001b[1m3/3\u001b[0m \u001b[32m━━━━━━━━━━━━━━━━━━━━\u001b[0m\u001b[37m\u001b[0m \u001b[1m0s\u001b[0m 21ms/step - accuracy: 0.7252 - loss: 0.8545 - val_accuracy: 0.5556 - val_loss: 1.1487\n",
      "Epoch 71/300\n",
      "\u001b[1m3/3\u001b[0m \u001b[32m━━━━━━━━━━━━━━━━━━━━\u001b[0m\u001b[37m\u001b[0m \u001b[1m0s\u001b[0m 14ms/step - accuracy: 0.7377 - loss: 0.8512 - val_accuracy: 0.5556 - val_loss: 1.1494\n",
      "Epoch 72/300\n",
      "\u001b[1m3/3\u001b[0m \u001b[32m━━━━━━━━━━━━━━━━━━━━\u001b[0m\u001b[37m\u001b[0m \u001b[1m0s\u001b[0m 14ms/step - accuracy: 0.7190 - loss: 0.8546 - val_accuracy: 0.5556 - val_loss: 1.1457\n",
      "Epoch 73/300\n",
      "\u001b[1m3/3\u001b[0m \u001b[32m━━━━━━━━━━━━━━━━━━━━\u001b[0m\u001b[37m\u001b[0m \u001b[1m0s\u001b[0m 15ms/step - accuracy: 0.7127 - loss: 0.8651 - val_accuracy: 0.5556 - val_loss: 1.1395\n",
      "Epoch 74/300\n",
      "\u001b[1m3/3\u001b[0m \u001b[32m━━━━━━━━━━━━━━━━━━━━\u001b[0m\u001b[37m\u001b[0m \u001b[1m0s\u001b[0m 18ms/step - accuracy: 0.7440 - loss: 0.8314 - val_accuracy: 0.5556 - val_loss: 1.1324\n",
      "Epoch 75/300\n",
      "\u001b[1m3/3\u001b[0m \u001b[32m━━━━━━━━━━━━━━━━━━━━\u001b[0m\u001b[37m\u001b[0m \u001b[1m0s\u001b[0m 14ms/step - accuracy: 0.7225 - loss: 0.7986 - val_accuracy: 0.5556 - val_loss: 1.1321\n",
      "Epoch 76/300\n",
      "\u001b[1m3/3\u001b[0m \u001b[32m━━━━━━━━━━━━━━━━━━━━\u001b[0m\u001b[37m\u001b[0m \u001b[1m0s\u001b[0m 16ms/step - accuracy: 0.7788 - loss: 0.8017 - val_accuracy: 0.5556 - val_loss: 1.1236\n",
      "Epoch 77/300\n",
      "\u001b[1m3/3\u001b[0m \u001b[32m━━━━━━━━━━━━━━━━━━━━\u001b[0m\u001b[37m\u001b[0m \u001b[1m0s\u001b[0m 15ms/step - accuracy: 0.8270 - loss: 0.8025 - val_accuracy: 0.5556 - val_loss: 1.1158\n",
      "Epoch 78/300\n",
      "\u001b[1m3/3\u001b[0m \u001b[32m━━━━━━━━━━━━━━━━━━━━\u001b[0m\u001b[37m\u001b[0m \u001b[1m0s\u001b[0m 16ms/step - accuracy: 0.7859 - loss: 0.8305 - val_accuracy: 0.5556 - val_loss: 1.1125\n",
      "Epoch 79/300\n",
      "\u001b[1m3/3\u001b[0m \u001b[32m━━━━━━━━━━━━━━━━━━━━\u001b[0m\u001b[37m\u001b[0m \u001b[1m0s\u001b[0m 15ms/step - accuracy: 0.7957 - loss: 0.8196 - val_accuracy: 0.5556 - val_loss: 1.1081\n",
      "Epoch 80/300\n",
      "\u001b[1m3/3\u001b[0m \u001b[32m━━━━━━━━━━━━━━━━━━━━\u001b[0m\u001b[37m\u001b[0m \u001b[1m0s\u001b[0m 15ms/step - accuracy: 0.8082 - loss: 0.8231 - val_accuracy: 0.5000 - val_loss: 1.1061\n",
      "Epoch 81/300\n",
      "\u001b[1m3/3\u001b[0m \u001b[32m━━━━━━━━━━━━━━━━━━━━\u001b[0m\u001b[37m\u001b[0m \u001b[1m0s\u001b[0m 14ms/step - accuracy: 0.8082 - loss: 0.8220 - val_accuracy: 0.5000 - val_loss: 1.1012\n",
      "Epoch 82/300\n",
      "\u001b[1m3/3\u001b[0m \u001b[32m━━━━━━━━━━━━━━━━━━━━\u001b[0m\u001b[37m\u001b[0m \u001b[1m0s\u001b[0m 13ms/step - accuracy: 0.8207 - loss: 0.7649 - val_accuracy: 0.5000 - val_loss: 1.0972\n",
      "Epoch 83/300\n",
      "\u001b[1m3/3\u001b[0m \u001b[32m━━━━━━━━━━━━━━━━━━━━\u001b[0m\u001b[37m\u001b[0m \u001b[1m0s\u001b[0m 13ms/step - accuracy: 0.8082 - loss: 0.8115 - val_accuracy: 0.5000 - val_loss: 1.0989\n",
      "Epoch 84/300\n",
      "\u001b[1m3/3\u001b[0m \u001b[32m━━━━━━━━━━━━━━━━━━━━\u001b[0m\u001b[37m\u001b[0m \u001b[1m0s\u001b[0m 14ms/step - accuracy: 0.7770 - loss: 0.8195 - val_accuracy: 0.5000 - val_loss: 1.0936\n",
      "Epoch 85/300\n",
      "\u001b[1m3/3\u001b[0m \u001b[32m━━━━━━━━━━━━━━━━━━━━\u001b[0m\u001b[37m\u001b[0m \u001b[1m0s\u001b[0m 14ms/step - accuracy: 0.7957 - loss: 0.8103 - val_accuracy: 0.5000 - val_loss: 1.0939\n",
      "Epoch 86/300\n",
      "\u001b[1m3/3\u001b[0m \u001b[32m━━━━━━━━━━━━━━━━━━━━\u001b[0m\u001b[37m\u001b[0m \u001b[1m0s\u001b[0m 13ms/step - accuracy: 0.8457 - loss: 0.7543 - val_accuracy: 0.5000 - val_loss: 1.0928\n",
      "Epoch 87/300\n",
      "\u001b[1m3/3\u001b[0m \u001b[32m━━━━━━━━━━━━━━━━━━━━\u001b[0m\u001b[37m\u001b[0m \u001b[1m0s\u001b[0m 16ms/step - accuracy: 0.8207 - loss: 0.7615 - val_accuracy: 0.5000 - val_loss: 1.0913\n",
      "Epoch 88/300\n",
      "\u001b[1m3/3\u001b[0m \u001b[32m━━━━━━━━━━━━━━━━━━━━\u001b[0m\u001b[37m\u001b[0m \u001b[1m0s\u001b[0m 23ms/step - accuracy: 0.8243 - loss: 0.7368 - val_accuracy: 0.5000 - val_loss: 1.0859\n",
      "Epoch 89/300\n",
      "\u001b[1m3/3\u001b[0m \u001b[32m━━━━━━━━━━━━━━━━━━━━\u001b[0m\u001b[37m\u001b[0m \u001b[1m0s\u001b[0m 16ms/step - accuracy: 0.7832 - loss: 0.7957 - val_accuracy: 0.5000 - val_loss: 1.0858\n",
      "Epoch 90/300\n",
      "\u001b[1m3/3\u001b[0m \u001b[32m━━━━━━━━━━━━━━━━━━━━\u001b[0m\u001b[37m\u001b[0m \u001b[1m0s\u001b[0m 17ms/step - accuracy: 0.7832 - loss: 0.7033 - val_accuracy: 0.5000 - val_loss: 1.0794\n",
      "Epoch 91/300\n",
      "\u001b[1m3/3\u001b[0m \u001b[32m━━━━━━━━━━━━━━━━━━━━\u001b[0m\u001b[37m\u001b[0m \u001b[1m0s\u001b[0m 13ms/step - accuracy: 0.8020 - loss: 0.7557 - val_accuracy: 0.5000 - val_loss: 1.0807\n",
      "Epoch 92/300\n",
      "\u001b[1m3/3\u001b[0m \u001b[32m━━━━━━━━━━━━━━━━━━━━\u001b[0m\u001b[37m\u001b[0m \u001b[1m0s\u001b[0m 13ms/step - accuracy: 0.7832 - loss: 0.7642 - val_accuracy: 0.5000 - val_loss: 1.0777\n",
      "Epoch 93/300\n",
      "\u001b[1m3/3\u001b[0m \u001b[32m━━━━━━━━━━━━━━━━━━━━\u001b[0m\u001b[37m\u001b[0m \u001b[1m0s\u001b[0m 13ms/step - accuracy: 0.8270 - loss: 0.6625 - val_accuracy: 0.5000 - val_loss: 1.0823\n",
      "Epoch 94/300\n",
      "\u001b[1m3/3\u001b[0m \u001b[32m━━━━━━━━━━━━━━━━━━━━\u001b[0m\u001b[37m\u001b[0m \u001b[1m0s\u001b[0m 13ms/step - accuracy: 0.8341 - loss: 0.7393 - val_accuracy: 0.5000 - val_loss: 1.0784\n",
      "Epoch 95/300\n",
      "\u001b[1m3/3\u001b[0m \u001b[32m━━━━━━━━━━━━━━━━━━━━\u001b[0m\u001b[37m\u001b[0m \u001b[1m0s\u001b[0m 13ms/step - accuracy: 0.8591 - loss: 0.6579 - val_accuracy: 0.5000 - val_loss: 1.0747\n",
      "Epoch 96/300\n",
      "\u001b[1m3/3\u001b[0m \u001b[32m━━━━━━━━━━━━━━━━━━━━\u001b[0m\u001b[37m\u001b[0m \u001b[1m0s\u001b[0m 14ms/step - accuracy: 0.8341 - loss: 0.7383 - val_accuracy: 0.5000 - val_loss: 1.0740\n",
      "Epoch 97/300\n",
      "\u001b[1m3/3\u001b[0m \u001b[32m━━━━━━━━━━━━━━━━━━━━\u001b[0m\u001b[37m\u001b[0m \u001b[1m0s\u001b[0m 13ms/step - accuracy: 0.8528 - loss: 0.7017 - val_accuracy: 0.5000 - val_loss: 1.0664\n",
      "Epoch 98/300\n",
      "\u001b[1m3/3\u001b[0m \u001b[32m━━━━━━━━━━━━━━━━━━━━\u001b[0m\u001b[37m\u001b[0m \u001b[1m0s\u001b[0m 14ms/step - accuracy: 0.8278 - loss: 0.7534 - val_accuracy: 0.5000 - val_loss: 1.0703\n",
      "Epoch 99/300\n",
      "\u001b[1m3/3\u001b[0m \u001b[32m━━━━━━━━━━━━━━━━━━━━\u001b[0m\u001b[37m\u001b[0m \u001b[1m0s\u001b[0m 14ms/step - accuracy: 0.8091 - loss: 0.7310 - val_accuracy: 0.5000 - val_loss: 1.0702\n",
      "Epoch 100/300\n",
      "\u001b[1m3/3\u001b[0m \u001b[32m━━━━━━━━━━━━━━━━━━━━\u001b[0m\u001b[37m\u001b[0m \u001b[1m0s\u001b[0m 27ms/step - accuracy: 0.8403 - loss: 0.6900 - val_accuracy: 0.5556 - val_loss: 1.0635\n",
      "Epoch 101/300\n",
      "\u001b[1m3/3\u001b[0m \u001b[32m━━━━━━━━━━━━━━━━━━━━\u001b[0m\u001b[37m\u001b[0m \u001b[1m0s\u001b[0m 17ms/step - accuracy: 0.8751 - loss: 0.6149 - val_accuracy: 0.5556 - val_loss: 1.0582\n",
      "Epoch 102/300\n",
      "\u001b[1m3/3\u001b[0m \u001b[32m━━━━━━━━━━━━━━━━━━━━\u001b[0m\u001b[37m\u001b[0m \u001b[1m0s\u001b[0m 14ms/step - accuracy: 0.8626 - loss: 0.6580 - val_accuracy: 0.6111 - val_loss: 1.0570\n"
     ]
    },
    {
     "name": "stdout",
     "output_type": "stream",
     "text": [
      "Epoch 103/300\n",
      "\u001b[1m3/3\u001b[0m \u001b[32m━━━━━━━━━━━━━━━━━━━━\u001b[0m\u001b[37m\u001b[0m \u001b[1m0s\u001b[0m 14ms/step - accuracy: 0.8689 - loss: 0.6349 - val_accuracy: 0.6111 - val_loss: 1.0554\n",
      "Epoch 104/300\n",
      "\u001b[1m3/3\u001b[0m \u001b[32m━━━━━━━━━━━━━━━━━━━━\u001b[0m\u001b[37m\u001b[0m \u001b[1m0s\u001b[0m 14ms/step - accuracy: 0.8724 - loss: 0.6582 - val_accuracy: 0.6111 - val_loss: 1.0520\n",
      "Epoch 105/300\n",
      "\u001b[1m3/3\u001b[0m \u001b[32m━━━━━━━━━━━━━━━━━━━━\u001b[0m\u001b[37m\u001b[0m \u001b[1m0s\u001b[0m 14ms/step - accuracy: 0.8403 - loss: 0.6552 - val_accuracy: 0.6111 - val_loss: 1.0556\n",
      "Epoch 106/300\n",
      "\u001b[1m3/3\u001b[0m \u001b[32m━━━━━━━━━━━━━━━━━━━━\u001b[0m\u001b[37m\u001b[0m \u001b[1m0s\u001b[0m 15ms/step - accuracy: 0.8849 - loss: 0.6408 - val_accuracy: 0.6111 - val_loss: 1.0552\n",
      "Epoch 107/300\n",
      "\u001b[1m3/3\u001b[0m \u001b[32m━━━━━━━━━━━━━━━━━━━━\u001b[0m\u001b[37m\u001b[0m \u001b[1m0s\u001b[0m 13ms/step - accuracy: 0.8537 - loss: 0.6540 - val_accuracy: 0.6111 - val_loss: 1.0539\n",
      "Epoch 108/300\n",
      "\u001b[1m3/3\u001b[0m \u001b[32m━━━━━━━━━━━━━━━━━━━━\u001b[0m\u001b[37m\u001b[0m \u001b[1m0s\u001b[0m 14ms/step - accuracy: 0.8787 - loss: 0.6328 - val_accuracy: 0.6111 - val_loss: 1.0513\n",
      "Epoch 109/300\n",
      "\u001b[1m3/3\u001b[0m \u001b[32m━━━━━━━━━━━━━━━━━━━━\u001b[0m\u001b[37m\u001b[0m \u001b[1m0s\u001b[0m 13ms/step - accuracy: 0.8474 - loss: 0.6846 - val_accuracy: 0.6111 - val_loss: 1.0479\n",
      "Epoch 110/300\n",
      "\u001b[1m3/3\u001b[0m \u001b[32m━━━━━━━━━━━━━━━━━━━━\u001b[0m\u001b[37m\u001b[0m \u001b[1m0s\u001b[0m 13ms/step - accuracy: 0.8474 - loss: 0.6467 - val_accuracy: 0.6111 - val_loss: 1.0450\n",
      "Epoch 111/300\n",
      "\u001b[1m3/3\u001b[0m \u001b[32m━━━━━━━━━━━━━━━━━━━━\u001b[0m\u001b[37m\u001b[0m \u001b[1m0s\u001b[0m 13ms/step - accuracy: 0.8662 - loss: 0.6229 - val_accuracy: 0.6111 - val_loss: 1.0430\n",
      "Epoch 112/300\n",
      "\u001b[1m3/3\u001b[0m \u001b[32m━━━━━━━━━━━━━━━━━━━━\u001b[0m\u001b[37m\u001b[0m \u001b[1m0s\u001b[0m 13ms/step - accuracy: 0.8912 - loss: 0.6126 - val_accuracy: 0.6111 - val_loss: 1.0382\n",
      "Epoch 113/300\n",
      "\u001b[1m3/3\u001b[0m \u001b[32m━━━━━━━━━━━━━━━━━━━━\u001b[0m\u001b[37m\u001b[0m \u001b[1m0s\u001b[0m 14ms/step - accuracy: 0.8474 - loss: 0.6492 - val_accuracy: 0.6111 - val_loss: 1.0411\n",
      "Epoch 114/300\n",
      "\u001b[1m3/3\u001b[0m \u001b[32m━━━━━━━━━━━━━━━━━━━━\u001b[0m\u001b[37m\u001b[0m \u001b[1m0s\u001b[0m 13ms/step - accuracy: 0.8412 - loss: 0.6658 - val_accuracy: 0.6111 - val_loss: 1.0383\n",
      "Epoch 115/300\n",
      "\u001b[1m3/3\u001b[0m \u001b[32m━━━━━━━━━━━━━━━━━━━━\u001b[0m\u001b[37m\u001b[0m \u001b[1m0s\u001b[0m 13ms/step - accuracy: 0.8787 - loss: 0.5801 - val_accuracy: 0.6111 - val_loss: 1.0415\n",
      "Epoch 116/300\n",
      "\u001b[1m3/3\u001b[0m \u001b[32m━━━━━━━━━━━━━━━━━━━━\u001b[0m\u001b[37m\u001b[0m \u001b[1m0s\u001b[0m 13ms/step - accuracy: 0.8849 - loss: 0.6085 - val_accuracy: 0.6111 - val_loss: 1.0346\n",
      "Epoch 117/300\n",
      "\u001b[1m3/3\u001b[0m \u001b[32m━━━━━━━━━━━━━━━━━━━━\u001b[0m\u001b[37m\u001b[0m \u001b[1m0s\u001b[0m 12ms/step - accuracy: 0.8876 - loss: 0.5700 - val_accuracy: 0.6111 - val_loss: 1.0407\n",
      "Epoch 118/300\n",
      "\u001b[1m3/3\u001b[0m \u001b[32m━━━━━━━━━━━━━━━━━━━━\u001b[0m\u001b[37m\u001b[0m \u001b[1m0s\u001b[0m 13ms/step - accuracy: 0.8912 - loss: 0.5343 - val_accuracy: 0.6111 - val_loss: 1.0377\n",
      "Epoch 119/300\n",
      "\u001b[1m3/3\u001b[0m \u001b[32m━━━━━━━━━━━━━━━━━━━━\u001b[0m\u001b[37m\u001b[0m \u001b[1m0s\u001b[0m 14ms/step - accuracy: 0.8974 - loss: 0.5870 - val_accuracy: 0.6111 - val_loss: 1.0355\n",
      "Epoch 120/300\n",
      "\u001b[1m3/3\u001b[0m \u001b[32m━━━━━━━━━━━━━━━━━━━━\u001b[0m\u001b[37m\u001b[0m \u001b[1m0s\u001b[0m 13ms/step - accuracy: 0.8724 - loss: 0.6008 - val_accuracy: 0.6111 - val_loss: 1.0350\n",
      "Epoch 121/300\n",
      "\u001b[1m3/3\u001b[0m \u001b[32m━━━━━━━━━━━━━━━━━━━━\u001b[0m\u001b[37m\u001b[0m \u001b[1m0s\u001b[0m 13ms/step - accuracy: 0.9224 - loss: 0.5136 - val_accuracy: 0.6111 - val_loss: 1.0295\n",
      "Epoch 122/300\n",
      "\u001b[1m3/3\u001b[0m \u001b[32m━━━━━━━━━━━━━━━━━━━━\u001b[0m\u001b[37m\u001b[0m \u001b[1m0s\u001b[0m 14ms/step - accuracy: 0.8939 - loss: 0.5457 - val_accuracy: 0.6111 - val_loss: 1.0323\n",
      "Epoch 123/300\n",
      "\u001b[1m3/3\u001b[0m \u001b[32m━━━━━━━━━━━━━━━━━━━━\u001b[0m\u001b[37m\u001b[0m \u001b[1m0s\u001b[0m 13ms/step - accuracy: 0.8939 - loss: 0.5652 - val_accuracy: 0.6111 - val_loss: 1.0378\n",
      "Epoch 124/300\n",
      "\u001b[1m3/3\u001b[0m \u001b[32m━━━━━━━━━━━━━━━━━━━━\u001b[0m\u001b[37m\u001b[0m \u001b[1m0s\u001b[0m 13ms/step - accuracy: 0.9099 - loss: 0.5618 - val_accuracy: 0.6111 - val_loss: 1.0364\n",
      "Epoch 125/300\n",
      "\u001b[1m3/3\u001b[0m \u001b[32m━━━━━━━━━━━━━━━━━━━━\u001b[0m\u001b[37m\u001b[0m \u001b[1m0s\u001b[0m 13ms/step - accuracy: 0.8974 - loss: 0.5392 - val_accuracy: 0.6111 - val_loss: 1.0389\n",
      "Epoch 126/300\n",
      "\u001b[1m3/3\u001b[0m \u001b[32m━━━━━━━━━━━━━━━━━━━━\u001b[0m\u001b[37m\u001b[0m \u001b[1m0s\u001b[0m 13ms/step - accuracy: 0.8724 - loss: 0.5315 - val_accuracy: 0.6111 - val_loss: 1.0380\n",
      "Epoch 127/300\n",
      "\u001b[1m3/3\u001b[0m \u001b[32m━━━━━━━━━━━━━━━━━━━━\u001b[0m\u001b[37m\u001b[0m \u001b[1m0s\u001b[0m 13ms/step - accuracy: 0.9037 - loss: 0.5447 - val_accuracy: 0.6111 - val_loss: 1.0322\n",
      "Epoch 128/300\n",
      "\u001b[1m3/3\u001b[0m \u001b[32m━━━━━━━━━━━━━━━━━━━━\u001b[0m\u001b[37m\u001b[0m \u001b[1m0s\u001b[0m 13ms/step - accuracy: 0.9037 - loss: 0.5138 - val_accuracy: 0.6111 - val_loss: 1.0361\n",
      "Epoch 129/300\n",
      "\u001b[1m3/3\u001b[0m \u001b[32m━━━━━━━━━━━━━━━━━━━━\u001b[0m\u001b[37m\u001b[0m \u001b[1m0s\u001b[0m 13ms/step - accuracy: 0.8974 - loss: 0.5294 - val_accuracy: 0.6111 - val_loss: 1.0400\n",
      "Epoch 130/300\n",
      "\u001b[1m3/3\u001b[0m \u001b[32m━━━━━━━━━━━━━━━━━━━━\u001b[0m\u001b[37m\u001b[0m \u001b[1m0s\u001b[0m 13ms/step - accuracy: 0.8662 - loss: 0.5399 - val_accuracy: 0.6111 - val_loss: 1.0356\n",
      "Epoch 131/300\n",
      "\u001b[1m3/3\u001b[0m \u001b[32m━━━━━━━━━━━━━━━━━━━━\u001b[0m\u001b[37m\u001b[0m \u001b[1m0s\u001b[0m 15ms/step - accuracy: 0.8974 - loss: 0.5332 - val_accuracy: 0.6111 - val_loss: 1.0415\n",
      "Epoch 132/300\n",
      "\u001b[1m3/3\u001b[0m \u001b[32m━━━━━━━━━━━━━━━━━━━━\u001b[0m\u001b[37m\u001b[0m \u001b[1m0s\u001b[0m 13ms/step - accuracy: 0.8947 - loss: 0.4967 - val_accuracy: 0.6111 - val_loss: 1.0374\n",
      "Epoch 133/300\n",
      "\u001b[1m3/3\u001b[0m \u001b[32m━━━━━━━━━━━━━━━━━━━━\u001b[0m\u001b[37m\u001b[0m \u001b[1m0s\u001b[0m 13ms/step - accuracy: 0.9135 - loss: 0.4819 - val_accuracy: 0.6111 - val_loss: 1.0391\n",
      "Epoch 134/300\n",
      "\u001b[1m3/3\u001b[0m \u001b[32m━━━━━━━━━━━━━━━━━━━━\u001b[0m\u001b[37m\u001b[0m \u001b[1m0s\u001b[0m 13ms/step - accuracy: 0.9010 - loss: 0.4848 - val_accuracy: 0.6111 - val_loss: 1.0425\n",
      "Epoch 135/300\n",
      "\u001b[1m3/3\u001b[0m \u001b[32m━━━━━━━━━━━━━━━━━━━━\u001b[0m\u001b[37m\u001b[0m \u001b[1m0s\u001b[0m 13ms/step - accuracy: 0.8822 - loss: 0.5154 - val_accuracy: 0.6111 - val_loss: 1.0438\n",
      "Epoch 136/300\n",
      "\u001b[1m3/3\u001b[0m \u001b[32m━━━━━━━━━━━━━━━━━━━━\u001b[0m\u001b[37m\u001b[0m \u001b[1m0s\u001b[0m 13ms/step - accuracy: 0.9072 - loss: 0.4883 - val_accuracy: 0.6111 - val_loss: 1.0389\n",
      "Epoch 137/300\n",
      "\u001b[1m3/3\u001b[0m \u001b[32m━━━━━━━━━━━━━━━━━━━━\u001b[0m\u001b[37m\u001b[0m \u001b[1m0s\u001b[0m 12ms/step - accuracy: 0.8947 - loss: 0.4764 - val_accuracy: 0.6111 - val_loss: 1.0347\n",
      "Epoch 138/300\n",
      "\u001b[1m3/3\u001b[0m \u001b[32m━━━━━━━━━━━━━━━━━━━━\u001b[0m\u001b[37m\u001b[0m \u001b[1m0s\u001b[0m 13ms/step - accuracy: 0.9197 - loss: 0.4585 - val_accuracy: 0.6111 - val_loss: 1.0365\n",
      "Epoch 139/300\n",
      "\u001b[1m3/3\u001b[0m \u001b[32m━━━━━━━━━━━━━━━━━━━━\u001b[0m\u001b[37m\u001b[0m \u001b[1m0s\u001b[0m 13ms/step - accuracy: 0.9295 - loss: 0.4407 - val_accuracy: 0.6111 - val_loss: 1.0336\n",
      "Epoch 140/300\n",
      "\u001b[1m3/3\u001b[0m \u001b[32m━━━━━━━━━━━━━━━━━━━━\u001b[0m\u001b[37m\u001b[0m \u001b[1m0s\u001b[0m 13ms/step - accuracy: 0.8849 - loss: 0.4525 - val_accuracy: 0.6111 - val_loss: 1.0461\n",
      "Epoch 141/300\n",
      "\u001b[1m3/3\u001b[0m \u001b[32m━━━━━━━━━━━━━━━━━━━━\u001b[0m\u001b[37m\u001b[0m \u001b[1m0s\u001b[0m 13ms/step - accuracy: 0.9170 - loss: 0.4521 - val_accuracy: 0.6111 - val_loss: 1.0445\n",
      "Epoch 142/300\n",
      "\u001b[1m3/3\u001b[0m \u001b[32m━━━━━━━━━━━━━━━━━━━━\u001b[0m\u001b[37m\u001b[0m \u001b[1m0s\u001b[0m 13ms/step - accuracy: 0.9295 - loss: 0.4894 - val_accuracy: 0.6111 - val_loss: 1.0360\n",
      "Epoch 143/300\n",
      "\u001b[1m3/3\u001b[0m \u001b[32m━━━━━━━━━━━━━━━━━━━━\u001b[0m\u001b[37m\u001b[0m \u001b[1m0s\u001b[0m 13ms/step - accuracy: 0.9170 - loss: 0.4634 - val_accuracy: 0.6111 - val_loss: 1.0406\n",
      "Epoch 144/300\n",
      "\u001b[1m3/3\u001b[0m \u001b[32m━━━━━━━━━━━━━━━━━━━━\u001b[0m\u001b[37m\u001b[0m \u001b[1m0s\u001b[0m 13ms/step - accuracy: 0.9108 - loss: 0.4715 - val_accuracy: 0.5556 - val_loss: 1.0326\n",
      "Epoch 145/300\n",
      "\u001b[1m3/3\u001b[0m \u001b[32m━━━━━━━━━━━━━━━━━━━━\u001b[0m\u001b[37m\u001b[0m \u001b[1m0s\u001b[0m 13ms/step - accuracy: 0.9358 - loss: 0.4140 - val_accuracy: 0.5556 - val_loss: 1.0318\n",
      "Epoch 146/300\n",
      "\u001b[1m3/3\u001b[0m \u001b[32m━━━━━━━━━━━━━━━━━━━━\u001b[0m\u001b[37m\u001b[0m \u001b[1m0s\u001b[0m 14ms/step - accuracy: 0.9295 - loss: 0.4243 - val_accuracy: 0.5556 - val_loss: 1.0283\n",
      "Epoch 147/300\n",
      "\u001b[1m3/3\u001b[0m \u001b[32m━━━━━━━━━━━━━━━━━━━━\u001b[0m\u001b[37m\u001b[0m \u001b[1m0s\u001b[0m 14ms/step - accuracy: 0.9197 - loss: 0.4238 - val_accuracy: 0.5556 - val_loss: 1.0347\n",
      "Epoch 148/300\n",
      "\u001b[1m3/3\u001b[0m \u001b[32m━━━━━━━━━━━━━━━━━━━━\u001b[0m\u001b[37m\u001b[0m \u001b[1m0s\u001b[0m 13ms/step - accuracy: 0.9170 - loss: 0.4239 - val_accuracy: 0.5556 - val_loss: 1.0332\n",
      "Epoch 149/300\n",
      "\u001b[1m3/3\u001b[0m \u001b[32m━━━━━━━━━━━━━━━━━━━━\u001b[0m\u001b[37m\u001b[0m \u001b[1m0s\u001b[0m 13ms/step - accuracy: 0.9295 - loss: 0.4360 - val_accuracy: 0.5556 - val_loss: 1.0380\n",
      "Epoch 150/300\n",
      "\u001b[1m3/3\u001b[0m \u001b[32m━━━━━━━━━━━━━━━━━━━━\u001b[0m\u001b[37m\u001b[0m \u001b[1m0s\u001b[0m 13ms/step - accuracy: 0.9233 - loss: 0.4190 - val_accuracy: 0.5556 - val_loss: 1.0395\n",
      "Epoch 151/300\n",
      "\u001b[1m3/3\u001b[0m \u001b[32m━━━━━━━━━━━━━━━━━━━━\u001b[0m\u001b[37m\u001b[0m \u001b[1m0s\u001b[0m 14ms/step - accuracy: 0.9233 - loss: 0.4222 - val_accuracy: 0.5556 - val_loss: 1.0416\n",
      "Epoch 152/300\n",
      "\u001b[1m3/3\u001b[0m \u001b[32m━━━━━━━━━━━━━━━━━━━━\u001b[0m\u001b[37m\u001b[0m \u001b[1m0s\u001b[0m 13ms/step - accuracy: 0.9295 - loss: 0.3871 - val_accuracy: 0.5556 - val_loss: 1.0386\n",
      "Epoch 153/300\n"
     ]
    },
    {
     "name": "stdout",
     "output_type": "stream",
     "text": [
      "\u001b[1m3/3\u001b[0m \u001b[32m━━━━━━━━━━━━━━━━━━━━\u001b[0m\u001b[37m\u001b[0m \u001b[1m0s\u001b[0m 13ms/step - accuracy: 0.9358 - loss: 0.4095 - val_accuracy: 0.5556 - val_loss: 1.0429\n",
      "Epoch 154/300\n",
      "\u001b[1m3/3\u001b[0m \u001b[32m━━━━━━━━━━━━━━━━━━━━\u001b[0m\u001b[37m\u001b[0m \u001b[1m0s\u001b[0m 13ms/step - accuracy: 0.9331 - loss: 0.4122 - val_accuracy: 0.5556 - val_loss: 1.0360\n",
      "Epoch 155/300\n",
      "\u001b[1m3/3\u001b[0m \u001b[32m━━━━━━━━━━━━━━━━━━━━\u001b[0m\u001b[37m\u001b[0m \u001b[1m0s\u001b[0m 13ms/step - accuracy: 0.9483 - loss: 0.3935 - val_accuracy: 0.5556 - val_loss: 1.0408\n",
      "Epoch 156/300\n",
      "\u001b[1m3/3\u001b[0m \u001b[32m━━━━━━━━━━━━━━━━━━━━\u001b[0m\u001b[37m\u001b[0m \u001b[1m0s\u001b[0m 13ms/step - accuracy: 0.9358 - loss: 0.3902 - val_accuracy: 0.5556 - val_loss: 1.0419\n",
      "Epoch 157/300\n",
      "\u001b[1m3/3\u001b[0m \u001b[32m━━━━━━━━━━━━━━━━━━━━\u001b[0m\u001b[37m\u001b[0m \u001b[1m0s\u001b[0m 13ms/step - accuracy: 0.9268 - loss: 0.3948 - val_accuracy: 0.5556 - val_loss: 1.0467\n",
      "Epoch 158/300\n",
      "\u001b[1m3/3\u001b[0m \u001b[32m━━━━━━━━━━━━━━━━━━━━\u001b[0m\u001b[37m\u001b[0m \u001b[1m0s\u001b[0m 12ms/step - accuracy: 0.9456 - loss: 0.3648 - val_accuracy: 0.5556 - val_loss: 1.0407\n",
      "Epoch 159/300\n",
      "\u001b[1m3/3\u001b[0m \u001b[32m━━━━━━━━━━━━━━━━━━━━\u001b[0m\u001b[37m\u001b[0m \u001b[1m0s\u001b[0m 13ms/step - accuracy: 0.9143 - loss: 0.4105 - val_accuracy: 0.5556 - val_loss: 1.0382\n",
      "Epoch 160/300\n",
      "\u001b[1m3/3\u001b[0m \u001b[32m━━━━━━━━━━━━━━━━━━━━\u001b[0m\u001b[37m\u001b[0m \u001b[1m0s\u001b[0m 12ms/step - accuracy: 0.9581 - loss: 0.3579 - val_accuracy: 0.5556 - val_loss: 1.0346\n",
      "Epoch 161/300\n",
      "\u001b[1m3/3\u001b[0m \u001b[32m━━━━━━━━━━━━━━━━━━━━\u001b[0m\u001b[37m\u001b[0m \u001b[1m0s\u001b[0m 13ms/step - accuracy: 0.9741 - loss: 0.3618 - val_accuracy: 0.5556 - val_loss: 1.0311\n",
      "Epoch 162/300\n",
      "\u001b[1m3/3\u001b[0m \u001b[32m━━━━━━━━━━━━━━━━━━━━\u001b[0m\u001b[37m\u001b[0m \u001b[1m0s\u001b[0m 13ms/step - accuracy: 0.9679 - loss: 0.3759 - val_accuracy: 0.5556 - val_loss: 1.0397\n",
      "Epoch 163/300\n",
      "\u001b[1m3/3\u001b[0m \u001b[32m━━━━━━━━━━━━━━━━━━━━\u001b[0m\u001b[37m\u001b[0m \u001b[1m0s\u001b[0m 13ms/step - accuracy: 0.9429 - loss: 0.4064 - val_accuracy: 0.5556 - val_loss: 1.0452\n",
      "Epoch 164/300\n",
      "\u001b[1m3/3\u001b[0m \u001b[32m━━━━━━━━━━━━━━━━━━━━\u001b[0m\u001b[37m\u001b[0m \u001b[1m0s\u001b[0m 13ms/step - accuracy: 0.9429 - loss: 0.3647 - val_accuracy: 0.5556 - val_loss: 1.0467\n",
      "Epoch 165/300\n",
      "\u001b[1m3/3\u001b[0m \u001b[32m━━━━━━━━━━━━━━━━━━━━\u001b[0m\u001b[37m\u001b[0m \u001b[1m0s\u001b[0m 13ms/step - accuracy: 0.9554 - loss: 0.3724 - val_accuracy: 0.5556 - val_loss: 1.0512\n",
      "Epoch 166/300\n",
      "\u001b[1m3/3\u001b[0m \u001b[32m━━━━━━━━━━━━━━━━━━━━\u001b[0m\u001b[37m\u001b[0m \u001b[1m0s\u001b[0m 15ms/step - accuracy: 0.9429 - loss: 0.3715 - val_accuracy: 0.5556 - val_loss: 1.0515\n",
      "Epoch 167/300\n",
      "\u001b[1m3/3\u001b[0m \u001b[32m━━━━━━━━━━━━━━━━━━━━\u001b[0m\u001b[37m\u001b[0m \u001b[1m0s\u001b[0m 14ms/step - accuracy: 0.9741 - loss: 0.3576 - val_accuracy: 0.5556 - val_loss: 1.0506\n",
      "Epoch 168/300\n",
      "\u001b[1m3/3\u001b[0m \u001b[32m━━━━━━━━━━━━━━━━━━━━\u001b[0m\u001b[37m\u001b[0m \u001b[1m0s\u001b[0m 14ms/step - accuracy: 0.9616 - loss: 0.3730 - val_accuracy: 0.5556 - val_loss: 1.0486\n",
      "Epoch 169/300\n",
      "\u001b[1m3/3\u001b[0m \u001b[32m━━━━━━━━━━━━━━━━━━━━\u001b[0m\u001b[37m\u001b[0m \u001b[1m0s\u001b[0m 13ms/step - accuracy: 0.9804 - loss: 0.3258 - val_accuracy: 0.5556 - val_loss: 1.0460\n",
      "Epoch 170/300\n",
      "\u001b[1m3/3\u001b[0m \u001b[32m━━━━━━━━━━━━━━━━━━━━\u001b[0m\u001b[37m\u001b[0m \u001b[1m0s\u001b[0m 14ms/step - accuracy: 0.9902 - loss: 0.3300 - val_accuracy: 0.5556 - val_loss: 1.0501\n",
      "Epoch 171/300\n",
      "\u001b[1m3/3\u001b[0m \u001b[32m━━━━━━━━━━━━━━━━━━━━\u001b[0m\u001b[37m\u001b[0m \u001b[1m0s\u001b[0m 13ms/step - accuracy: 0.9741 - loss: 0.3225 - val_accuracy: 0.5556 - val_loss: 1.0592\n",
      "Epoch 172/300\n",
      "\u001b[1m3/3\u001b[0m \u001b[32m━━━━━━━━━━━━━━━━━━━━\u001b[0m\u001b[37m\u001b[0m \u001b[1m0s\u001b[0m 13ms/step - accuracy: 0.9616 - loss: 0.3425 - val_accuracy: 0.5556 - val_loss: 1.0495\n",
      "Epoch 173/300\n",
      "\u001b[1m3/3\u001b[0m \u001b[32m━━━━━━━━━━━━━━━━━━━━\u001b[0m\u001b[37m\u001b[0m \u001b[1m0s\u001b[0m 13ms/step - accuracy: 0.9839 - loss: 0.3460 - val_accuracy: 0.5556 - val_loss: 1.0471\n",
      "Epoch 174/300\n",
      "\u001b[1m3/3\u001b[0m \u001b[32m━━━━━━━━━━━━━━━━━━━━\u001b[0m\u001b[37m\u001b[0m \u001b[1m0s\u001b[0m 14ms/step - accuracy: 0.9902 - loss: 0.3271 - val_accuracy: 0.5556 - val_loss: 1.0476\n",
      "Epoch 175/300\n",
      "\u001b[1m3/3\u001b[0m \u001b[32m━━━━━━━━━━━━━━━━━━━━\u001b[0m\u001b[37m\u001b[0m \u001b[1m0s\u001b[0m 14ms/step - accuracy: 0.9554 - loss: 0.3109 - val_accuracy: 0.5556 - val_loss: 1.0482\n",
      "Epoch 176/300\n",
      "\u001b[1m3/3\u001b[0m \u001b[32m━━━━━━━━━━━━━━━━━━━━\u001b[0m\u001b[37m\u001b[0m \u001b[1m0s\u001b[0m 13ms/step - accuracy: 0.9902 - loss: 0.3024 - val_accuracy: 0.5556 - val_loss: 1.0405\n",
      "Epoch 177/300\n",
      "\u001b[1m3/3\u001b[0m \u001b[32m━━━━━━━━━━━━━━━━━━━━\u001b[0m\u001b[37m\u001b[0m \u001b[1m0s\u001b[0m 13ms/step - accuracy: 0.9714 - loss: 0.3192 - val_accuracy: 0.5556 - val_loss: 1.0426\n",
      "Epoch 178/300\n",
      "\u001b[1m3/3\u001b[0m \u001b[32m━━━━━━━━━━━━━━━━━━━━\u001b[0m\u001b[37m\u001b[0m \u001b[1m0s\u001b[0m 13ms/step - accuracy: 0.9839 - loss: 0.3153 - val_accuracy: 0.5556 - val_loss: 1.0436\n",
      "Epoch 179/300\n",
      "\u001b[1m3/3\u001b[0m \u001b[32m━━━━━━━━━━━━━━━━━━━━\u001b[0m\u001b[37m\u001b[0m \u001b[1m0s\u001b[0m 13ms/step - accuracy: 0.9714 - loss: 0.3285 - val_accuracy: 0.5556 - val_loss: 1.0453\n",
      "Epoch 180/300\n",
      "\u001b[1m3/3\u001b[0m \u001b[32m━━━━━━━━━━━━━━━━━━━━\u001b[0m\u001b[37m\u001b[0m \u001b[1m0s\u001b[0m 13ms/step - accuracy: 0.9714 - loss: 0.3200 - val_accuracy: 0.5556 - val_loss: 1.0478\n",
      "Epoch 181/300\n",
      "\u001b[1m3/3\u001b[0m \u001b[32m━━━━━━━━━━━━━━━━━━━━\u001b[0m\u001b[37m\u001b[0m \u001b[1m0s\u001b[0m 13ms/step - accuracy: 0.9839 - loss: 0.2922 - val_accuracy: 0.5556 - val_loss: 1.0589\n",
      "Epoch 182/300\n",
      "\u001b[1m3/3\u001b[0m \u001b[32m━━━━━━━━━━━━━━━━━━━━\u001b[0m\u001b[37m\u001b[0m \u001b[1m0s\u001b[0m 14ms/step - accuracy: 0.9902 - loss: 0.2963 - val_accuracy: 0.5556 - val_loss: 1.0635\n",
      "Epoch 183/300\n",
      "\u001b[1m3/3\u001b[0m \u001b[32m━━━━━━━━━━━━━━━━━━━━\u001b[0m\u001b[37m\u001b[0m \u001b[1m0s\u001b[0m 14ms/step - accuracy: 0.9616 - loss: 0.3060 - val_accuracy: 0.5556 - val_loss: 1.0599\n",
      "Epoch 184/300\n",
      "\u001b[1m3/3\u001b[0m \u001b[32m━━━━━━━━━━━━━━━━━━━━\u001b[0m\u001b[37m\u001b[0m \u001b[1m0s\u001b[0m 13ms/step - accuracy: 0.9839 - loss: 0.2946 - val_accuracy: 0.5556 - val_loss: 1.0642\n",
      "Epoch 185/300\n",
      "\u001b[1m3/3\u001b[0m \u001b[32m━━━━━━━━━━━━━━━━━━━━\u001b[0m\u001b[37m\u001b[0m \u001b[1m0s\u001b[0m 13ms/step - accuracy: 0.9554 - loss: 0.3057 - val_accuracy: 0.5556 - val_loss: 1.0550\n",
      "Epoch 186/300\n",
      "\u001b[1m3/3\u001b[0m \u001b[32m━━━━━━━━━━━━━━━━━━━━\u001b[0m\u001b[37m\u001b[0m \u001b[1m0s\u001b[0m 13ms/step - accuracy: 0.9714 - loss: 0.3137 - val_accuracy: 0.5556 - val_loss: 1.0532\n",
      "Epoch 187/300\n",
      "\u001b[1m3/3\u001b[0m \u001b[32m━━━━━━━━━━━━━━━━━━━━\u001b[0m\u001b[37m\u001b[0m \u001b[1m0s\u001b[0m 14ms/step - accuracy: 0.9714 - loss: 0.3012 - val_accuracy: 0.5556 - val_loss: 1.0582\n",
      "Epoch 188/300\n",
      "\u001b[1m3/3\u001b[0m \u001b[32m━━━━━━━━━━━━━━━━━━━━\u001b[0m\u001b[37m\u001b[0m \u001b[1m0s\u001b[0m 13ms/step - accuracy: 0.9839 - loss: 0.2779 - val_accuracy: 0.5556 - val_loss: 1.0545\n",
      "Epoch 189/300\n",
      "\u001b[1m3/3\u001b[0m \u001b[32m━━━━━━━━━━━━━━━━━━━━\u001b[0m\u001b[37m\u001b[0m \u001b[1m0s\u001b[0m 24ms/step - accuracy: 0.9714 - loss: 0.2703 - val_accuracy: 0.5556 - val_loss: 1.0514\n",
      "Epoch 190/300\n",
      "\u001b[1m3/3\u001b[0m \u001b[32m━━━━━━━━━━━━━━━━━━━━\u001b[0m\u001b[37m\u001b[0m \u001b[1m0s\u001b[0m 13ms/step - accuracy: 0.9714 - loss: 0.3005 - val_accuracy: 0.5556 - val_loss: 1.0520\n",
      "Epoch 191/300\n",
      "\u001b[1m3/3\u001b[0m \u001b[32m━━━━━━━━━━━━━━━━━━━━\u001b[0m\u001b[37m\u001b[0m \u001b[1m0s\u001b[0m 14ms/step - accuracy: 0.9839 - loss: 0.2614 - val_accuracy: 0.5556 - val_loss: 1.0571\n",
      "Epoch 192/300\n",
      "\u001b[1m3/3\u001b[0m \u001b[32m━━━━━━━━━━━━━━━━━━━━\u001b[0m\u001b[37m\u001b[0m \u001b[1m0s\u001b[0m 13ms/step - accuracy: 0.9714 - loss: 0.2853 - val_accuracy: 0.5556 - val_loss: 1.0589\n",
      "Epoch 193/300\n",
      "\u001b[1m3/3\u001b[0m \u001b[32m━━━━━━━━━━━━━━━━━━━━\u001b[0m\u001b[37m\u001b[0m \u001b[1m0s\u001b[0m 13ms/step - accuracy: 0.9839 - loss: 0.2497 - val_accuracy: 0.5556 - val_loss: 1.0521\n",
      "Epoch 194/300\n",
      "\u001b[1m3/3\u001b[0m \u001b[32m━━━━━━━━━━━━━━━━━━━━\u001b[0m\u001b[37m\u001b[0m \u001b[1m0s\u001b[0m 13ms/step - accuracy: 0.9714 - loss: 0.2795 - val_accuracy: 0.5556 - val_loss: 1.0546\n",
      "Epoch 195/300\n",
      "\u001b[1m3/3\u001b[0m \u001b[32m━━━━━━━━━━━━━━━━━━━━\u001b[0m\u001b[37m\u001b[0m \u001b[1m0s\u001b[0m 15ms/step - accuracy: 0.9714 - loss: 0.2667 - val_accuracy: 0.5556 - val_loss: 1.0573\n",
      "Epoch 196/300\n",
      "\u001b[1m3/3\u001b[0m \u001b[32m━━━━━━━━━━━━━━━━━━━━\u001b[0m\u001b[37m\u001b[0m \u001b[1m0s\u001b[0m 14ms/step - accuracy: 0.9714 - loss: 0.2590 - val_accuracy: 0.5556 - val_loss: 1.0612\n",
      "Epoch 197/300\n",
      "\u001b[1m3/3\u001b[0m \u001b[32m━━━━━━━━━━━━━━━━━━━━\u001b[0m\u001b[37m\u001b[0m \u001b[1m0s\u001b[0m 14ms/step - accuracy: 0.9839 - loss: 0.2503 - val_accuracy: 0.5556 - val_loss: 1.0649\n",
      "Epoch 198/300\n",
      "\u001b[1m3/3\u001b[0m \u001b[32m━━━━━━━━━━━━━━━━━━━━\u001b[0m\u001b[37m\u001b[0m \u001b[1m0s\u001b[0m 18ms/step - accuracy: 0.9839 - loss: 0.2414 - val_accuracy: 0.5556 - val_loss: 1.0700\n",
      "Epoch 199/300\n",
      "\u001b[1m3/3\u001b[0m \u001b[32m━━━━━━━━━━━━━━━━━━━━\u001b[0m\u001b[37m\u001b[0m \u001b[1m0s\u001b[0m 18ms/step - accuracy: 0.9902 - loss: 0.2360 - val_accuracy: 0.5556 - val_loss: 1.0634\n",
      "Epoch 200/300\n",
      "\u001b[1m3/3\u001b[0m \u001b[32m━━━━━━━━━━━━━━━━━━━━\u001b[0m\u001b[37m\u001b[0m \u001b[1m0s\u001b[0m 21ms/step - accuracy: 0.9839 - loss: 0.2467 - val_accuracy: 0.5556 - val_loss: 1.0556\n",
      "Epoch 201/300\n",
      "\u001b[1m3/3\u001b[0m \u001b[32m━━━━━━━━━━━━━━━━━━━━\u001b[0m\u001b[37m\u001b[0m \u001b[1m0s\u001b[0m 18ms/step - accuracy: 0.9839 - loss: 0.2587 - val_accuracy: 0.5556 - val_loss: 1.0545\n",
      "Epoch 202/300\n",
      "\u001b[1m3/3\u001b[0m \u001b[32m━━━━━━━━━━━━━━━━━━━━\u001b[0m\u001b[37m\u001b[0m \u001b[1m0s\u001b[0m 14ms/step - accuracy: 0.9839 - loss: 0.2436 - val_accuracy: 0.5556 - val_loss: 1.0585\n",
      "Epoch 203/300\n"
     ]
    },
    {
     "name": "stdout",
     "output_type": "stream",
     "text": [
      "\u001b[1m3/3\u001b[0m \u001b[32m━━━━━━━━━━━━━━━━━━━━\u001b[0m\u001b[37m\u001b[0m \u001b[1m0s\u001b[0m 15ms/step - accuracy: 0.9902 - loss: 0.2320 - val_accuracy: 0.5556 - val_loss: 1.0581\n",
      "Epoch 204/300\n",
      "\u001b[1m3/3\u001b[0m \u001b[32m━━━━━━━━━━━━━━━━━━━━\u001b[0m\u001b[37m\u001b[0m \u001b[1m0s\u001b[0m 13ms/step - accuracy: 0.9839 - loss: 0.2256 - val_accuracy: 0.5556 - val_loss: 1.0562\n",
      "Epoch 205/300\n",
      "\u001b[1m3/3\u001b[0m \u001b[32m━━━━━━━━━━━━━━━━━━━━\u001b[0m\u001b[37m\u001b[0m \u001b[1m0s\u001b[0m 13ms/step - accuracy: 0.9839 - loss: 0.2504 - val_accuracy: 0.5556 - val_loss: 1.0638\n",
      "Epoch 206/300\n",
      "\u001b[1m3/3\u001b[0m \u001b[32m━━━━━━━━━━━━━━━━━━━━\u001b[0m\u001b[37m\u001b[0m \u001b[1m0s\u001b[0m 13ms/step - accuracy: 0.9714 - loss: 0.2530 - val_accuracy: 0.5556 - val_loss: 1.0692\n",
      "Epoch 207/300\n",
      "\u001b[1m3/3\u001b[0m \u001b[32m━━━━━━━━━━━━━━━━━━━━\u001b[0m\u001b[37m\u001b[0m \u001b[1m0s\u001b[0m 13ms/step - accuracy: 0.9902 - loss: 0.2092 - val_accuracy: 0.5556 - val_loss: 1.0686\n",
      "Epoch 208/300\n",
      "\u001b[1m3/3\u001b[0m \u001b[32m━━━━━━━━━━━━━━━━━━━━\u001b[0m\u001b[37m\u001b[0m \u001b[1m0s\u001b[0m 14ms/step - accuracy: 0.9902 - loss: 0.2122 - val_accuracy: 0.5556 - val_loss: 1.0675\n",
      "Epoch 209/300\n",
      "\u001b[1m3/3\u001b[0m \u001b[32m━━━━━━━━━━━━━━━━━━━━\u001b[0m\u001b[37m\u001b[0m \u001b[1m0s\u001b[0m 13ms/step - accuracy: 0.9839 - loss: 0.2171 - val_accuracy: 0.5556 - val_loss: 1.0653\n",
      "Epoch 210/300\n",
      "\u001b[1m3/3\u001b[0m \u001b[32m━━━━━━━━━━━━━━━━━━━━\u001b[0m\u001b[37m\u001b[0m \u001b[1m0s\u001b[0m 13ms/step - accuracy: 0.9902 - loss: 0.1997 - val_accuracy: 0.5556 - val_loss: 1.0653\n",
      "Epoch 211/300\n",
      "\u001b[1m3/3\u001b[0m \u001b[32m━━━━━━━━━━━━━━━━━━━━\u001b[0m\u001b[37m\u001b[0m \u001b[1m0s\u001b[0m 13ms/step - accuracy: 0.9839 - loss: 0.2333 - val_accuracy: 0.5556 - val_loss: 1.0711\n",
      "Epoch 212/300\n",
      "\u001b[1m3/3\u001b[0m \u001b[32m━━━━━━━━━━━━━━━━━━━━\u001b[0m\u001b[37m\u001b[0m \u001b[1m0s\u001b[0m 14ms/step - accuracy: 0.9902 - loss: 0.2116 - val_accuracy: 0.5556 - val_loss: 1.0739\n",
      "Epoch 213/300\n",
      "\u001b[1m3/3\u001b[0m \u001b[32m━━━━━━━━━━━━━━━━━━━━\u001b[0m\u001b[37m\u001b[0m \u001b[1m0s\u001b[0m 13ms/step - accuracy: 0.9839 - loss: 0.2145 - val_accuracy: 0.5556 - val_loss: 1.0795\n",
      "Epoch 214/300\n",
      "\u001b[1m3/3\u001b[0m \u001b[32m━━━━━━━━━━━━━━━━━━━━\u001b[0m\u001b[37m\u001b[0m \u001b[1m0s\u001b[0m 13ms/step - accuracy: 0.9839 - loss: 0.2099 - val_accuracy: 0.5556 - val_loss: 1.0746\n",
      "Epoch 215/300\n",
      "\u001b[1m3/3\u001b[0m \u001b[32m━━━━━━━━━━━━━━━━━━━━\u001b[0m\u001b[37m\u001b[0m \u001b[1m0s\u001b[0m 13ms/step - accuracy: 0.9839 - loss: 0.1969 - val_accuracy: 0.5556 - val_loss: 1.0727\n",
      "Epoch 216/300\n",
      "\u001b[1m3/3\u001b[0m \u001b[32m━━━━━━━━━━━━━━━━━━━━\u001b[0m\u001b[37m\u001b[0m \u001b[1m0s\u001b[0m 13ms/step - accuracy: 0.9839 - loss: 0.2186 - val_accuracy: 0.5556 - val_loss: 1.0649\n",
      "Epoch 217/300\n",
      "\u001b[1m3/3\u001b[0m \u001b[32m━━━━━━━━━━━━━━━━━━━━\u001b[0m\u001b[37m\u001b[0m \u001b[1m0s\u001b[0m 13ms/step - accuracy: 0.9839 - loss: 0.2220 - val_accuracy: 0.5556 - val_loss: 1.0750\n",
      "Epoch 218/300\n",
      "\u001b[1m3/3\u001b[0m \u001b[32m━━━━━━━━━━━━━━━━━━━━\u001b[0m\u001b[37m\u001b[0m \u001b[1m0s\u001b[0m 13ms/step - accuracy: 0.9714 - loss: 0.2041 - val_accuracy: 0.5556 - val_loss: 1.0657\n",
      "Epoch 219/300\n",
      "\u001b[1m3/3\u001b[0m \u001b[32m━━━━━━━━━━━━━━━━━━━━\u001b[0m\u001b[37m\u001b[0m \u001b[1m0s\u001b[0m 13ms/step - accuracy: 0.9839 - loss: 0.2093 - val_accuracy: 0.5556 - val_loss: 1.0692\n",
      "Epoch 220/300\n",
      "\u001b[1m3/3\u001b[0m \u001b[32m━━━━━━━━━━━━━━━━━━━━\u001b[0m\u001b[37m\u001b[0m \u001b[1m0s\u001b[0m 13ms/step - accuracy: 0.9839 - loss: 0.2103 - val_accuracy: 0.5556 - val_loss: 1.0706\n",
      "Epoch 221/300\n",
      "\u001b[1m3/3\u001b[0m \u001b[32m━━━━━━━━━━━━━━━━━━━━\u001b[0m\u001b[37m\u001b[0m \u001b[1m0s\u001b[0m 13ms/step - accuracy: 0.9839 - loss: 0.1879 - val_accuracy: 0.5556 - val_loss: 1.0861\n",
      "Epoch 222/300\n",
      "\u001b[1m3/3\u001b[0m \u001b[32m━━━━━━━━━━━━━━━━━━━━\u001b[0m\u001b[37m\u001b[0m \u001b[1m0s\u001b[0m 13ms/step - accuracy: 0.9714 - loss: 0.2094 - val_accuracy: 0.5556 - val_loss: 1.0853\n",
      "Epoch 223/300\n",
      "\u001b[1m3/3\u001b[0m \u001b[32m━━━━━━━━━━━━━━━━━━━━\u001b[0m\u001b[37m\u001b[0m \u001b[1m0s\u001b[0m 13ms/step - accuracy: 0.9714 - loss: 0.2197 - val_accuracy: 0.5556 - val_loss: 1.0803\n",
      "Epoch 224/300\n",
      "\u001b[1m3/3\u001b[0m \u001b[32m━━━━━━━━━━━━━━━━━━━━\u001b[0m\u001b[37m\u001b[0m \u001b[1m0s\u001b[0m 12ms/step - accuracy: 0.9714 - loss: 0.2113 - val_accuracy: 0.5556 - val_loss: 1.0846\n",
      "Epoch 225/300\n",
      "\u001b[1m3/3\u001b[0m \u001b[32m━━━━━━━━━━━━━━━━━━━━\u001b[0m\u001b[37m\u001b[0m \u001b[1m0s\u001b[0m 13ms/step - accuracy: 0.9714 - loss: 0.2030 - val_accuracy: 0.5556 - val_loss: 1.0888\n",
      "Epoch 226/300\n",
      "\u001b[1m3/3\u001b[0m \u001b[32m━━━━━━━━━━━━━━━━━━━━\u001b[0m\u001b[37m\u001b[0m \u001b[1m0s\u001b[0m 13ms/step - accuracy: 0.9714 - loss: 0.1917 - val_accuracy: 0.5556 - val_loss: 1.0829\n",
      "Epoch 227/300\n",
      "\u001b[1m3/3\u001b[0m \u001b[32m━━━━━━━━━━━━━━━━━━━━\u001b[0m\u001b[37m\u001b[0m \u001b[1m0s\u001b[0m 13ms/step - accuracy: 0.9839 - loss: 0.1888 - val_accuracy: 0.5556 - val_loss: 1.0816\n",
      "Epoch 228/300\n",
      "\u001b[1m3/3\u001b[0m \u001b[32m━━━━━━━━━━━━━━━━━━━━\u001b[0m\u001b[37m\u001b[0m \u001b[1m0s\u001b[0m 13ms/step - accuracy: 0.9714 - loss: 0.2205 - val_accuracy: 0.5556 - val_loss: 1.0853\n",
      "Epoch 229/300\n",
      "\u001b[1m3/3\u001b[0m \u001b[32m━━━━━━━━━━━━━━━━━━━━\u001b[0m\u001b[37m\u001b[0m \u001b[1m0s\u001b[0m 13ms/step - accuracy: 0.9714 - loss: 0.2034 - val_accuracy: 0.5556 - val_loss: 1.0908\n",
      "Epoch 230/300\n",
      "\u001b[1m3/3\u001b[0m \u001b[32m━━━━━━━━━━━━━━━━━━━━\u001b[0m\u001b[37m\u001b[0m \u001b[1m0s\u001b[0m 13ms/step - accuracy: 0.9902 - loss: 0.1582 - val_accuracy: 0.5556 - val_loss: 1.0988\n",
      "Epoch 231/300\n",
      "\u001b[1m3/3\u001b[0m \u001b[32m━━━━━━━━━━━━━━━━━━━━\u001b[0m\u001b[37m\u001b[0m \u001b[1m0s\u001b[0m 13ms/step - accuracy: 0.9714 - loss: 0.1901 - val_accuracy: 0.5556 - val_loss: 1.1140\n",
      "Epoch 232/300\n",
      "\u001b[1m3/3\u001b[0m \u001b[32m━━━━━━━━━━━━━━━━━━━━\u001b[0m\u001b[37m\u001b[0m \u001b[1m0s\u001b[0m 13ms/step - accuracy: 0.9902 - loss: 0.1756 - val_accuracy: 0.5556 - val_loss: 1.1085\n",
      "Epoch 233/300\n",
      "\u001b[1m3/3\u001b[0m \u001b[32m━━━━━━━━━━━━━━━━━━━━\u001b[0m\u001b[37m\u001b[0m \u001b[1m0s\u001b[0m 13ms/step - accuracy: 0.9714 - loss: 0.1892 - val_accuracy: 0.5556 - val_loss: 1.1130\n",
      "Epoch 234/300\n",
      "\u001b[1m3/3\u001b[0m \u001b[32m━━━━━━━━━━━━━━━━━━━━\u001b[0m\u001b[37m\u001b[0m \u001b[1m0s\u001b[0m 13ms/step - accuracy: 0.9839 - loss: 0.1839 - val_accuracy: 0.5556 - val_loss: 1.1141\n",
      "Epoch 235/300\n",
      "\u001b[1m3/3\u001b[0m \u001b[32m━━━━━━━━━━━━━━━━━━━━\u001b[0m\u001b[37m\u001b[0m \u001b[1m0s\u001b[0m 13ms/step - accuracy: 0.9839 - loss: 0.1677 - val_accuracy: 0.5556 - val_loss: 1.1185\n",
      "Epoch 236/300\n",
      "\u001b[1m3/3\u001b[0m \u001b[32m━━━━━━━━━━━━━━━━━━━━\u001b[0m\u001b[37m\u001b[0m \u001b[1m0s\u001b[0m 13ms/step - accuracy: 0.9714 - loss: 0.1862 - val_accuracy: 0.5556 - val_loss: 1.1201\n",
      "Epoch 237/300\n",
      "\u001b[1m3/3\u001b[0m \u001b[32m━━━━━━━━━━━━━━━━━━━━\u001b[0m\u001b[37m\u001b[0m \u001b[1m0s\u001b[0m 13ms/step - accuracy: 0.9839 - loss: 0.1681 - val_accuracy: 0.5556 - val_loss: 1.1282\n",
      "Epoch 238/300\n",
      "\u001b[1m3/3\u001b[0m \u001b[32m━━━━━━━━━━━━━━━━━━━━\u001b[0m\u001b[37m\u001b[0m \u001b[1m0s\u001b[0m 16ms/step - accuracy: 0.9714 - loss: 0.1868 - val_accuracy: 0.5556 - val_loss: 1.1238\n",
      "Epoch 239/300\n",
      "\u001b[1m3/3\u001b[0m \u001b[32m━━━━━━━━━━━━━━━━━━━━\u001b[0m\u001b[37m\u001b[0m \u001b[1m0s\u001b[0m 13ms/step - accuracy: 0.9839 - loss: 0.1713 - val_accuracy: 0.5556 - val_loss: 1.1266\n",
      "Epoch 240/300\n",
      "\u001b[1m3/3\u001b[0m \u001b[32m━━━━━━━━━━━━━━━━━━━━\u001b[0m\u001b[37m\u001b[0m \u001b[1m0s\u001b[0m 14ms/step - accuracy: 0.9714 - loss: 0.1797 - val_accuracy: 0.5556 - val_loss: 1.1190\n",
      "Epoch 241/300\n",
      "\u001b[1m3/3\u001b[0m \u001b[32m━━━━━━━━━━━━━━━━━━━━\u001b[0m\u001b[37m\u001b[0m \u001b[1m0s\u001b[0m 17ms/step - accuracy: 0.9839 - loss: 0.1615 - val_accuracy: 0.5556 - val_loss: 1.1196\n",
      "Epoch 242/300\n",
      "\u001b[1m3/3\u001b[0m \u001b[32m━━━━━━━━━━━━━━━━━━━━\u001b[0m\u001b[37m\u001b[0m \u001b[1m0s\u001b[0m 15ms/step - accuracy: 0.9714 - loss: 0.1662 - val_accuracy: 0.5556 - val_loss: 1.1160\n",
      "Epoch 243/300\n",
      "\u001b[1m3/3\u001b[0m \u001b[32m━━━━━━━━━━━━━━━━━━━━\u001b[0m\u001b[37m\u001b[0m \u001b[1m0s\u001b[0m 14ms/step - accuracy: 0.9714 - loss: 0.1813 - val_accuracy: 0.5556 - val_loss: 1.1161\n",
      "Epoch 244/300\n",
      "\u001b[1m3/3\u001b[0m \u001b[32m━━━━━━━━━━━━━━━━━━━━\u001b[0m\u001b[37m\u001b[0m \u001b[1m0s\u001b[0m 13ms/step - accuracy: 0.9839 - loss: 0.1347 - val_accuracy: 0.5556 - val_loss: 1.1147\n",
      "Epoch 245/300\n",
      "\u001b[1m3/3\u001b[0m \u001b[32m━━━━━━━━━━━━━━━━━━━━\u001b[0m\u001b[37m\u001b[0m \u001b[1m0s\u001b[0m 13ms/step - accuracy: 0.9714 - loss: 0.1745 - val_accuracy: 0.5556 - val_loss: 1.1198\n",
      "Epoch 246/300\n",
      "\u001b[1m3/3\u001b[0m \u001b[32m━━━━━━━━━━━━━━━━━━━━\u001b[0m\u001b[37m\u001b[0m \u001b[1m0s\u001b[0m 15ms/step - accuracy: 0.9839 - loss: 0.1547 - val_accuracy: 0.5556 - val_loss: 1.1227\n",
      "Epoch 247/300\n",
      "\u001b[1m3/3\u001b[0m \u001b[32m━━━━━━━━━━━━━━━━━━━━\u001b[0m\u001b[37m\u001b[0m \u001b[1m0s\u001b[0m 13ms/step - accuracy: 0.9714 - loss: 0.1816 - val_accuracy: 0.5556 - val_loss: 1.1274\n",
      "Epoch 248/300\n",
      "\u001b[1m3/3\u001b[0m \u001b[32m━━━━━━━━━━━━━━━━━━━━\u001b[0m\u001b[37m\u001b[0m \u001b[1m0s\u001b[0m 17ms/step - accuracy: 0.9902 - loss: 0.1447 - val_accuracy: 0.5556 - val_loss: 1.1345\n",
      "Epoch 249/300\n",
      "\u001b[1m3/3\u001b[0m \u001b[32m━━━━━━━━━━━━━━━━━━━━\u001b[0m\u001b[37m\u001b[0m \u001b[1m0s\u001b[0m 17ms/step - accuracy: 0.9839 - loss: 0.1384 - val_accuracy: 0.5556 - val_loss: 1.1264\n",
      "Epoch 250/300\n",
      "\u001b[1m3/3\u001b[0m \u001b[32m━━━━━━━━━━━━━━━━━━━━\u001b[0m\u001b[37m\u001b[0m \u001b[1m0s\u001b[0m 14ms/step - accuracy: 0.9839 - loss: 0.1429 - val_accuracy: 0.5556 - val_loss: 1.1291\n",
      "Epoch 251/300\n",
      "\u001b[1m3/3\u001b[0m \u001b[32m━━━━━━━━━━━━━━━━━━━━\u001b[0m\u001b[37m\u001b[0m \u001b[1m0s\u001b[0m 13ms/step - accuracy: 0.9714 - loss: 0.1506 - val_accuracy: 0.5556 - val_loss: 1.1388\n",
      "Epoch 252/300\n",
      "\u001b[1m3/3\u001b[0m \u001b[32m━━━━━━━━━━━━━━━━━━━━\u001b[0m\u001b[37m\u001b[0m \u001b[1m0s\u001b[0m 13ms/step - accuracy: 0.9839 - loss: 0.1435 - val_accuracy: 0.5556 - val_loss: 1.1369\n",
      "Epoch 253/300\n"
     ]
    },
    {
     "name": "stdout",
     "output_type": "stream",
     "text": [
      "\u001b[1m3/3\u001b[0m \u001b[32m━━━━━━━━━━━━━━━━━━━━\u001b[0m\u001b[37m\u001b[0m \u001b[1m0s\u001b[0m 13ms/step - accuracy: 0.9714 - loss: 0.1618 - val_accuracy: 0.5556 - val_loss: 1.1416\n",
      "Epoch 254/300\n",
      "\u001b[1m3/3\u001b[0m \u001b[32m━━━━━━━━━━━━━━━━━━━━\u001b[0m\u001b[37m\u001b[0m \u001b[1m0s\u001b[0m 13ms/step - accuracy: 0.9839 - loss: 0.1538 - val_accuracy: 0.5556 - val_loss: 1.1394\n",
      "Epoch 255/300\n",
      "\u001b[1m3/3\u001b[0m \u001b[32m━━━━━━━━━━━━━━━━━━━━\u001b[0m\u001b[37m\u001b[0m \u001b[1m0s\u001b[0m 14ms/step - accuracy: 0.9839 - loss: 0.1372 - val_accuracy: 0.5556 - val_loss: 1.1477\n",
      "Epoch 256/300\n",
      "\u001b[1m3/3\u001b[0m \u001b[32m━━━━━━━━━━━━━━━━━━━━\u001b[0m\u001b[37m\u001b[0m \u001b[1m0s\u001b[0m 14ms/step - accuracy: 0.9714 - loss: 0.1508 - val_accuracy: 0.5556 - val_loss: 1.1422\n",
      "Epoch 257/300\n",
      "\u001b[1m3/3\u001b[0m \u001b[32m━━━━━━━━━━━━━━━━━━━━\u001b[0m\u001b[37m\u001b[0m \u001b[1m0s\u001b[0m 14ms/step - accuracy: 0.9714 - loss: 0.1598 - val_accuracy: 0.6111 - val_loss: 1.1372\n",
      "Epoch 258/300\n",
      "\u001b[1m3/3\u001b[0m \u001b[32m━━━━━━━━━━━━━━━━━━━━\u001b[0m\u001b[37m\u001b[0m \u001b[1m0s\u001b[0m 13ms/step - accuracy: 0.9902 - loss: 0.1322 - val_accuracy: 0.5556 - val_loss: 1.1424\n",
      "Epoch 259/300\n",
      "\u001b[1m3/3\u001b[0m \u001b[32m━━━━━━━━━━━━━━━━━━━━\u001b[0m\u001b[37m\u001b[0m \u001b[1m0s\u001b[0m 15ms/step - accuracy: 0.9714 - loss: 0.1543 - val_accuracy: 0.5556 - val_loss: 1.1498\n",
      "Epoch 260/300\n",
      "\u001b[1m3/3\u001b[0m \u001b[32m━━━━━━━━━━━━━━━━━━━━\u001b[0m\u001b[37m\u001b[0m \u001b[1m0s\u001b[0m 14ms/step - accuracy: 0.9902 - loss: 0.1185 - val_accuracy: 0.6111 - val_loss: 1.1419\n",
      "Epoch 261/300\n",
      "\u001b[1m3/3\u001b[0m \u001b[32m━━━━━━━━━━━━━━━━━━━━\u001b[0m\u001b[37m\u001b[0m \u001b[1m0s\u001b[0m 16ms/step - accuracy: 0.9714 - loss: 0.1453 - val_accuracy: 0.5556 - val_loss: 1.1492\n",
      "Epoch 262/300\n",
      "\u001b[1m3/3\u001b[0m \u001b[32m━━━━━━━━━━━━━━━━━━━━\u001b[0m\u001b[37m\u001b[0m \u001b[1m0s\u001b[0m 15ms/step - accuracy: 0.9714 - loss: 0.1520 - val_accuracy: 0.6111 - val_loss: 1.1486\n",
      "Epoch 263/300\n",
      "\u001b[1m3/3\u001b[0m \u001b[32m━━━━━━━━━━━━━━━━━━━━\u001b[0m\u001b[37m\u001b[0m \u001b[1m0s\u001b[0m 14ms/step - accuracy: 0.9839 - loss: 0.1215 - val_accuracy: 0.6111 - val_loss: 1.1507\n",
      "Epoch 264/300\n",
      "\u001b[1m3/3\u001b[0m \u001b[32m━━━━━━━━━━━━━━━━━━━━\u001b[0m\u001b[37m\u001b[0m \u001b[1m0s\u001b[0m 14ms/step - accuracy: 0.9714 - loss: 0.1436 - val_accuracy: 0.5556 - val_loss: 1.1526\n",
      "Epoch 265/300\n",
      "\u001b[1m3/3\u001b[0m \u001b[32m━━━━━━━━━━━━━━━━━━━━\u001b[0m\u001b[37m\u001b[0m \u001b[1m0s\u001b[0m 14ms/step - accuracy: 0.9839 - loss: 0.1191 - val_accuracy: 0.6111 - val_loss: 1.1523\n",
      "Epoch 266/300\n",
      "\u001b[1m3/3\u001b[0m \u001b[32m━━━━━━━━━━━━━━━━━━━━\u001b[0m\u001b[37m\u001b[0m \u001b[1m0s\u001b[0m 15ms/step - accuracy: 0.9714 - loss: 0.1425 - val_accuracy: 0.6111 - val_loss: 1.1488\n",
      "Epoch 267/300\n",
      "\u001b[1m3/3\u001b[0m \u001b[32m━━━━━━━━━━━━━━━━━━━━\u001b[0m\u001b[37m\u001b[0m \u001b[1m0s\u001b[0m 14ms/step - accuracy: 0.9902 - loss: 0.1078 - val_accuracy: 0.5556 - val_loss: 1.1575\n",
      "Epoch 268/300\n",
      "\u001b[1m3/3\u001b[0m \u001b[32m━━━━━━━━━━━━━━━━━━━━\u001b[0m\u001b[37m\u001b[0m \u001b[1m0s\u001b[0m 13ms/step - accuracy: 0.9714 - loss: 0.1367 - val_accuracy: 0.6111 - val_loss: 1.1571\n",
      "Epoch 269/300\n",
      "\u001b[1m3/3\u001b[0m \u001b[32m━━━━━━━━━━━━━━━━━━━━\u001b[0m\u001b[37m\u001b[0m \u001b[1m0s\u001b[0m 13ms/step - accuracy: 0.9839 - loss: 0.1204 - val_accuracy: 0.5556 - val_loss: 1.1584\n",
      "Epoch 270/300\n",
      "\u001b[1m3/3\u001b[0m \u001b[32m━━━━━━━━━━━━━━━━━━━━\u001b[0m\u001b[37m\u001b[0m \u001b[1m0s\u001b[0m 14ms/step - accuracy: 0.9839 - loss: 0.1087 - val_accuracy: 0.6111 - val_loss: 1.1627\n",
      "Epoch 271/300\n",
      "\u001b[1m3/3\u001b[0m \u001b[32m━━━━━━━━━━━━━━━━━━━━\u001b[0m\u001b[37m\u001b[0m \u001b[1m0s\u001b[0m 14ms/step - accuracy: 0.9839 - loss: 0.1183 - val_accuracy: 0.6111 - val_loss: 1.1681\n",
      "Epoch 272/300\n",
      "\u001b[1m3/3\u001b[0m \u001b[32m━━━━━━━━━━━━━━━━━━━━\u001b[0m\u001b[37m\u001b[0m \u001b[1m0s\u001b[0m 29ms/step - accuracy: 0.9714 - loss: 0.1342 - val_accuracy: 0.5556 - val_loss: 1.1680\n",
      "Epoch 273/300\n",
      "\u001b[1m3/3\u001b[0m \u001b[32m━━━━━━━━━━━━━━━━━━━━\u001b[0m\u001b[37m\u001b[0m \u001b[1m0s\u001b[0m 20ms/step - accuracy: 0.9839 - loss: 0.1048 - val_accuracy: 0.6111 - val_loss: 1.1731\n",
      "Epoch 274/300\n",
      "\u001b[1m3/3\u001b[0m \u001b[32m━━━━━━━━━━━━━━━━━━━━\u001b[0m\u001b[37m\u001b[0m \u001b[1m0s\u001b[0m 20ms/step - accuracy: 0.9714 - loss: 0.1454 - val_accuracy: 0.6111 - val_loss: 1.1729\n",
      "Epoch 275/300\n",
      "\u001b[1m3/3\u001b[0m \u001b[32m━━━━━━━━━━━━━━━━━━━━\u001b[0m\u001b[37m\u001b[0m \u001b[1m0s\u001b[0m 20ms/step - accuracy: 0.9714 - loss: 0.1232 - val_accuracy: 0.6111 - val_loss: 1.1705\n",
      "Epoch 276/300\n",
      "\u001b[1m3/3\u001b[0m \u001b[32m━━━━━━━━━━━━━━━━━━━━\u001b[0m\u001b[37m\u001b[0m \u001b[1m0s\u001b[0m 17ms/step - accuracy: 0.9839 - loss: 0.1115 - val_accuracy: 0.6111 - val_loss: 1.1783\n",
      "Epoch 277/300\n",
      "\u001b[1m3/3\u001b[0m \u001b[32m━━━━━━━━━━━━━━━━━━━━\u001b[0m\u001b[37m\u001b[0m \u001b[1m0s\u001b[0m 16ms/step - accuracy: 0.9714 - loss: 0.1301 - val_accuracy: 0.6111 - val_loss: 1.1748\n",
      "Epoch 278/300\n",
      "\u001b[1m3/3\u001b[0m \u001b[32m━━━━━━━━━━━━━━━━━━━━\u001b[0m\u001b[37m\u001b[0m \u001b[1m0s\u001b[0m 15ms/step - accuracy: 0.9839 - loss: 0.1132 - val_accuracy: 0.6111 - val_loss: 1.1719\n",
      "Epoch 279/300\n",
      "\u001b[1m3/3\u001b[0m \u001b[32m━━━━━━━━━━━━━━━━━━━━\u001b[0m\u001b[37m\u001b[0m \u001b[1m0s\u001b[0m 15ms/step - accuracy: 0.9839 - loss: 0.1132 - val_accuracy: 0.6111 - val_loss: 1.1830\n",
      "Epoch 280/300\n",
      "\u001b[1m3/3\u001b[0m \u001b[32m━━━━━━━━━━━━━━━━━━━━\u001b[0m\u001b[37m\u001b[0m \u001b[1m0s\u001b[0m 14ms/step - accuracy: 0.9714 - loss: 0.1222 - val_accuracy: 0.6111 - val_loss: 1.1902\n",
      "Epoch 281/300\n",
      "\u001b[1m3/3\u001b[0m \u001b[32m━━━━━━━━━━━━━━━━━━━━\u001b[0m\u001b[37m\u001b[0m \u001b[1m0s\u001b[0m 14ms/step - accuracy: 0.9839 - loss: 0.1094 - val_accuracy: 0.6111 - val_loss: 1.1874\n",
      "Epoch 282/300\n",
      "\u001b[1m3/3\u001b[0m \u001b[32m━━━━━━━━━━━━━━━━━━━━\u001b[0m\u001b[37m\u001b[0m \u001b[1m0s\u001b[0m 13ms/step - accuracy: 0.9714 - loss: 0.1246 - val_accuracy: 0.6111 - val_loss: 1.1969\n",
      "Epoch 283/300\n",
      "\u001b[1m3/3\u001b[0m \u001b[32m━━━━━━━━━━━━━━━━━━━━\u001b[0m\u001b[37m\u001b[0m \u001b[1m0s\u001b[0m 13ms/step - accuracy: 0.9902 - loss: 0.0938 - val_accuracy: 0.6111 - val_loss: 1.1887\n",
      "Epoch 284/300\n",
      "\u001b[1m3/3\u001b[0m \u001b[32m━━━━━━━━━━━━━━━━━━━━\u001b[0m\u001b[37m\u001b[0m \u001b[1m0s\u001b[0m 15ms/step - accuracy: 0.9714 - loss: 0.1163 - val_accuracy: 0.6111 - val_loss: 1.1836\n",
      "Epoch 285/300\n",
      "\u001b[1m3/3\u001b[0m \u001b[32m━━━━━━━━━━━━━━━━━━━━\u001b[0m\u001b[37m\u001b[0m \u001b[1m0s\u001b[0m 14ms/step - accuracy: 0.9839 - loss: 0.1046 - val_accuracy: 0.6111 - val_loss: 1.1874\n",
      "Epoch 286/300\n",
      "\u001b[1m3/3\u001b[0m \u001b[32m━━━━━━━━━━━━━━━━━━━━\u001b[0m\u001b[37m\u001b[0m \u001b[1m0s\u001b[0m 13ms/step - accuracy: 0.9839 - loss: 0.0973 - val_accuracy: 0.6111 - val_loss: 1.1876\n",
      "Epoch 287/300\n",
      "\u001b[1m3/3\u001b[0m \u001b[32m━━━━━━━━━━━━━━━━━━━━\u001b[0m\u001b[37m\u001b[0m \u001b[1m0s\u001b[0m 13ms/step - accuracy: 0.9714 - loss: 0.1109 - val_accuracy: 0.6111 - val_loss: 1.1934\n",
      "Epoch 288/300\n",
      "\u001b[1m3/3\u001b[0m \u001b[32m━━━━━━━━━━━━━━━━━━━━\u001b[0m\u001b[37m\u001b[0m \u001b[1m0s\u001b[0m 13ms/step - accuracy: 0.9714 - loss: 0.1100 - val_accuracy: 0.6111 - val_loss: 1.1962\n",
      "Epoch 289/300\n",
      "\u001b[1m3/3\u001b[0m \u001b[32m━━━━━━━━━━━━━━━━━━━━\u001b[0m\u001b[37m\u001b[0m \u001b[1m0s\u001b[0m 13ms/step - accuracy: 0.9902 - loss: 0.0977 - val_accuracy: 0.6111 - val_loss: 1.1961\n",
      "Epoch 290/300\n",
      "\u001b[1m3/3\u001b[0m \u001b[32m━━━━━━━━━━━━━━━━━━━━\u001b[0m\u001b[37m\u001b[0m \u001b[1m0s\u001b[0m 14ms/step - accuracy: 0.9902 - loss: 0.0996 - val_accuracy: 0.6111 - val_loss: 1.1986\n",
      "Epoch 291/300\n",
      "\u001b[1m3/3\u001b[0m \u001b[32m━━━━━━━━━━━━━━━━━━━━\u001b[0m\u001b[37m\u001b[0m \u001b[1m0s\u001b[0m 13ms/step - accuracy: 0.9839 - loss: 0.0956 - val_accuracy: 0.6111 - val_loss: 1.1993\n",
      "Epoch 292/300\n",
      "\u001b[1m3/3\u001b[0m \u001b[32m━━━━━━━━━━━━━━━━━━━━\u001b[0m\u001b[37m\u001b[0m \u001b[1m0s\u001b[0m 13ms/step - accuracy: 0.9714 - loss: 0.1149 - val_accuracy: 0.6111 - val_loss: 1.2047\n",
      "Epoch 293/300\n",
      "\u001b[1m3/3\u001b[0m \u001b[32m━━━━━━━━━━━━━━━━━━━━\u001b[0m\u001b[37m\u001b[0m \u001b[1m0s\u001b[0m 13ms/step - accuracy: 0.9839 - loss: 0.1041 - val_accuracy: 0.6111 - val_loss: 1.2072\n",
      "Epoch 294/300\n",
      "\u001b[1m3/3\u001b[0m \u001b[32m━━━━━━━━━━━━━━━━━━━━\u001b[0m\u001b[37m\u001b[0m \u001b[1m0s\u001b[0m 13ms/step - accuracy: 0.9839 - loss: 0.0893 - val_accuracy: 0.6111 - val_loss: 1.2224\n",
      "Epoch 295/300\n",
      "\u001b[1m3/3\u001b[0m \u001b[32m━━━━━━━━━━━━━━━━━━━━\u001b[0m\u001b[37m\u001b[0m \u001b[1m0s\u001b[0m 13ms/step - accuracy: 1.0000 - loss: 0.1090 - val_accuracy: 0.6111 - val_loss: 1.2124\n",
      "Epoch 296/300\n",
      "\u001b[1m3/3\u001b[0m \u001b[32m━━━━━━━━━━━━━━━━━━━━\u001b[0m\u001b[37m\u001b[0m \u001b[1m0s\u001b[0m 13ms/step - accuracy: 0.9714 - loss: 0.1057 - val_accuracy: 0.6111 - val_loss: 1.2203\n",
      "Epoch 297/300\n",
      "\u001b[1m3/3\u001b[0m \u001b[32m━━━━━━━━━━━━━━━━━━━━\u001b[0m\u001b[37m\u001b[0m \u001b[1m0s\u001b[0m 16ms/step - accuracy: 0.9902 - loss: 0.0853 - val_accuracy: 0.6111 - val_loss: 1.2207\n",
      "Epoch 298/300\n",
      "\u001b[1m3/3\u001b[0m \u001b[32m━━━━━━━━━━━━━━━━━━━━\u001b[0m\u001b[37m\u001b[0m \u001b[1m0s\u001b[0m 17ms/step - accuracy: 1.0000 - loss: 0.0909 - val_accuracy: 0.6111 - val_loss: 1.2192\n",
      "Epoch 299/300\n",
      "\u001b[1m3/3\u001b[0m \u001b[32m━━━━━━━━━━━━━━━━━━━━\u001b[0m\u001b[37m\u001b[0m \u001b[1m0s\u001b[0m 15ms/step - accuracy: 1.0000 - loss: 0.0869 - val_accuracy: 0.5556 - val_loss: 1.2217\n",
      "Epoch 300/300\n",
      "\u001b[1m3/3\u001b[0m \u001b[32m━━━━━━━━━━━━━━━━━━━━\u001b[0m\u001b[37m\u001b[0m \u001b[1m0s\u001b[0m 17ms/step - accuracy: 1.0000 - loss: 0.0985 - val_accuracy: 0.6111 - val_loss: 1.2166\n"
     ]
    }
   ],
   "source": [
    "# Now experiment with deep learning models:\n",
    "import keras\n",
    "from keras.models import Sequential\n",
    "from keras.layers import Dense, Activation\n",
    "from tensorflow.keras.optimizers import SGD\n",
    "\n",
    "feature_count= preprocessor(X_train).shape[1]#count features in input data\n",
    "\n",
    "keras_model = Sequential() ## Define a Neural Network Model with 5 layers 128->64->64->32->(?)\n",
    "keras_model.add(Dense(128, activation='relu', input_dim=feature_count))\n",
    "keras_model.add(Dense(64, activation='relu'))\n",
    "keras_model.add(Dense(64, activation='relu'))\n",
    "keras_model.add(Dense(32, activation='relu'))\n",
    "#Use Softmax activation in last layer. How many neurons should there be in the last layer?\n",
    "#The y_train includes 5 columns, so 5 neurons should be in the output layer.\n",
    "keras_model.add(Dense(5, activation='softmax'))\n",
    "sgd = SGD(learning_rate=0.0001)\n",
    "\n",
    "# Compile model\n",
    "keras_model.compile(loss='categorical_crossentropy', optimizer='sgd', metrics=['accuracy'])\n",
    "\n",
    "# Fitting the NN to the Training set\n",
    "history = keras_model.fit(preprocessor(X_train), y_train, ## Note that keras models require a one-hot-encoded y_train object\n",
    "               batch_size = 20,\n",
    "               epochs = 300, validation_split=0.25)\n",
    "\n",
    "loss = history.history['loss']\n",
    "val_loss = history.history['val_loss']\n",
    "accuracy = history.history['accuracy']\n",
    "val_accuracy = history.history['val_accuracy']"
   ]
  },
  {
   "cell_type": "markdown",
   "metadata": {
    "id": "3ioCyMzn004c"
   },
   "source": [
    "Which activations did you use in the middle layers? Why was softmax used in the last layer?"
   ]
  },
  {
   "cell_type": "code",
   "execution_count": 91,
   "metadata": {
    "id": "gIDjsg1C07Iq"
   },
   "outputs": [],
   "source": [
    "## Your answer:"
   ]
  },
  {
   "cell_type": "markdown",
   "metadata": {},
   "source": [
    "I used the ReLU activation function in the middle layers because it effectively introduces non-linearity and is computationally efficient.The reason for using softmax in the last layer is that it is specifically designed for multi-class classification problems. Since y_train contains multiple categories, softmax allows the model to assign probabilities to each class, enabling us to identify the most likely class."
   ]
  },
  {
   "cell_type": "markdown",
   "metadata": {
    "id": "vJjQq2Uzu3IW"
   },
   "source": [
    "Was it a good idea to train for 300 epochs? Should you train a bit more? Why or why not?"
   ]
  },
  {
   "cell_type": "code",
   "execution_count": null,
   "metadata": {
    "id": "UfyiD8SKvF-C"
   },
   "outputs": [],
   "source": [
    "## Your answer:"
   ]
  },
  {
   "cell_type": "markdown",
   "metadata": {},
   "source": [
    "Training for 300 epochs might be excessive and is not a good idea. An epoch refers to one complete pass through \n",
    "the entire training dataset. As I tracked the validation loss during training, I found that around the 190th epoch, the validation loss started to increase while the training loss continued to decrease. This is a sign of overfitting, which means that the model is learning the training data too well but is failing to generalize to unseen data. Therefore, training for more epochs is unnecessary."
   ]
  },
  {
   "cell_type": "markdown",
   "metadata": {
    "id": "mHwaKILrvID4"
   },
   "source": [
    "Why is loss='categorical_crossentropy' and optimizer='sgd'? Would you want to change something? Why / Why not?"
   ]
  },
  {
   "cell_type": "code",
   "execution_count": 92,
   "metadata": {
    "id": "QmpDqteVv8wa"
   },
   "outputs": [],
   "source": [
    "## Your answer:"
   ]
  },
  {
   "cell_type": "markdown",
   "metadata": {},
   "source": [
    "The loss function 'categorical_crossentropy' is commonly used in multi-class classification problems. We aim to minimize this loss during training, as it quantifies how well the predicted probabilities match the actual class labels.The optimizer 'sgd' updates the model's weights incrementally for for each training batch and helps the model converge towards the minimum loss based on the loss gradient.\n",
    "\n",
    "I don't want to change them. The loss function 'categorical_crossentropy' typically paired with the \n",
    "softmax activation and effectively measures the model's performance in predicting class probabilities. The optimizer'sgd' helps the model learn efficiently by adjusting weights based on the loss gradient. Together, they work well for multi-class classification tasks."
   ]
  },
  {
   "cell_type": "markdown",
   "metadata": {
    "id": "fT8-NUAaopVb"
   },
   "source": [
    "Can you try getting the model's training history out and plotting the curves?"
   ]
  },
  {
   "cell_type": "markdown",
   "metadata": {},
   "source": [
    "The training history shows a consistent downward trend in the training loss, indicating that the model is effectively learning from the training data. However, a contrasting pattern is observed in the validation loss, which begins to increase toward the end of the training process. This divergence suggests that the model may be overfitting the training data."
   ]
  },
  {
   "cell_type": "code",
   "execution_count": 93,
   "metadata": {
    "id": "FtmlgVsAoyU7"
   },
   "outputs": [
    {
     "data": {
      "image/png": "[encoded data removed]",
      "text/plain": [
       "<Figure size 640x480 with 2 Axes>"
      ]
     },
     "metadata": {},
     "output_type": "display_data"
    }
   ],
   "source": [
    "## Your code to plot training and validation curves in a single plot (Make changes in the model cell to be able to do this)\n",
    "# Create a new figure\n",
    "fig, ax1 = plt.subplots()\n",
    "\n",
    "# Plotting the loss values\n",
    "ax1.set_xlabel('Epochs')\n",
    "ax1.set_ylabel('Loss', color='tab:red')\n",
    "ax1.plot(loss, label='Training Loss', color='red')\n",
    "ax1.plot(val_loss, label='Validation Loss', color='orange')\n",
    "ax1.tick_params(axis='y', labelcolor='tab:red')\n",
    "\n",
    "# Creating a second y-axis for accuracy\n",
    "ax2 = ax1.twinx()  \n",
    "ax2.set_ylabel('Accuracy', color='tab:blue')  \n",
    "ax2.plot(accuracy, label='Training Accuracy', color='blue')\n",
    "ax2.plot(val_accuracy, label='Validation Accuracy', color='cyan')\n",
    "ax2.tick_params(axis='y', labelcolor='tab:blue')\n",
    "\n",
    "plt.title('Training History and Validation Loss/Accuracy')\n",
    "ax1.legend(loc='upper left')\n",
    "ax2.legend(loc='upper right')\n",
    "plt.tight_layout()\n",
    "plt.show()\n"
   ]
  },
  {
   "cell_type": "code",
   "execution_count": 94,
   "metadata": {
    "id": "M_uMRKnGu-wC"
   },
   "outputs": [
    {
     "name": "stdout",
     "output_type": "stream",
     "text": [
      "\u001b[1m1/1\u001b[0m \u001b[32m━━━━━━━━━━━━━━━━━━━━\u001b[0m\u001b[37m\u001b[0m \u001b[1m0s\u001b[0m 69ms/step\n",
      "              precision    recall  f1-score   support\n",
      "\n",
      "     Average       0.00      0.00      0.00         4\n",
      "        High       0.60      0.60      0.60         5\n",
      "         Low       0.67      0.50      0.57         4\n",
      "   Very High       0.67      1.00      0.80         2\n",
      "    Very Low       0.60      0.75      0.67         4\n",
      "\n",
      "    accuracy                           0.53        19\n",
      "   macro avg       0.51      0.57      0.53        19\n",
      "weighted avg       0.49      0.53      0.50        19\n",
      "\n"
     ]
    }
   ],
   "source": [
    "#-- Generate predicted y values\n",
    "\n",
    "#Note: Keras predict returns the predicted column index location for classification models\n",
    "predictions = keras_model.predict(preprocessor(X_test))\n",
    "prediction_column_index = np.argmax(predictions, axis=1)# Predict\n",
    "\n",
    "# extract correct prediction labels\n",
    "prediction_labels = [y_train.columns[i] for i in prediction_column_index]\n",
    "\n",
    "## Write code to show model performance by comparing prediction_labels with true labels\n",
    "true_labels = y_test.values.argmax(axis=1)\n",
    "print(classification_report(true_labels, prediction_column_index, target_names=y_train.columns))"
   ]
  },
  {
   "cell_type": "code",
   "execution_count": null,
   "metadata": {
    "id": "NnsyzAcHwOiI"
   },
   "outputs": [],
   "source": [
    "## You are encouraged to try more experimentation and any other models by adding more code cells to this notebook:\n",
    "\n",
    "## You can also try to import any new dataset pertaining to countries, merge it, and see if it helps the predictions.\n",
    "## If it does not, try to explain why it wasn't helpful by exploring variable relationships."
   ]
  },
  {
   "cell_type": "code",
   "execution_count": 54,
   "metadata": {},
   "outputs": [
    {
     "name": "stderr",
     "output_type": "stream",
     "text": [
      "/Users/anyuchen/opt/anaconda3/lib/python3.9/site-packages/sklearn/ensemble/_base.py:156: FutureWarning: `base_estimator` was renamed to `estimator` in version 1.2 and will be removed in 1.4.\n",
      "  warnings.warn(\n"
     ]
    },
    {
     "name": "stdout",
     "output_type": "stream",
     "text": [
      "              precision    recall  f1-score   support\n",
      "\n",
      "     Average       0.00      0.00      0.00         4\n",
      "        High       0.50      0.40      0.44         5\n",
      "         Low       0.00      0.00      0.00         4\n",
      "   Very High       0.50      1.00      0.67         2\n",
      "    Very Low       0.50      1.00      0.67         4\n",
      "\n",
      "    accuracy                           0.42        19\n",
      "   macro avg       0.30      0.48      0.36        19\n",
      "weighted avg       0.29      0.42      0.33        19\n",
      "\n"
     ]
    }
   ],
   "source": [
    "# I would like to try the BaggingClassifier model, but it does not perform very well.\n",
    "\n",
    "model = BaggingClassifier(base_estimator=RandomForestClassifier(), n_estimators=100, random_state=42)\n",
    "model.fit(preprocessor(X_train), y_train_labels)\n",
    "prediction_labels = model.predict(preprocessor(X_test))\n",
    "\n",
    "print(classification_report(y_test_labels, prediction_labels))"
   ]
  },
  {
   "cell_type": "markdown",
   "metadata": {
    "id": "u79b6VFqeP19"
   },
   "source": [
    "Deep learning models are often considered 'black boxes' due to their complexity. Explore methods such as SHAP (SHapley Additive exPlanations) to explain your model's predictions. After applying one of these methods, do you feel it provides a clear and sufficient explanation of how your model makes decisions? How easy or difficult is it to justify your model's predictions using these techniques?"
   ]
  },
  {
   "cell_type": "code",
   "execution_count": 107,
   "metadata": {
    "id": "LeJ9bKQNeP19"
   },
   "outputs": [
    {
     "name": "stderr",
     "output_type": "stream",
     "text": [
      "/Users/anyuchen/opt/anaconda3/lib/python3.9/site-packages/shap/explainers/_deep/deep_tf.py:99: UserWarning: Your TensorFlow version is newer than 2.4.0 and so graph support has been removed in eager mode and some static graphs may not be supported. See PR #1483 for discussion.\n",
      "  warnings.warn(\"Your TensorFlow version is newer than 2.4.0 and so graph support has been removed in eager mode and some static graphs may not be supported. See PR #1483 for discussion.\")\n"
     ]
    },
    {
     "name": "stdout",
     "output_type": "stream",
     "text": [
      "(33,)\n"
     ]
    },
    {
     "data": {
      "image/png": "[encoded data removed]",
      "text/plain": [
       "<Figure size 1200x1200 with 1 Axes>"
      ]
     },
     "metadata": {},
     "output_type": "display_data"
    }
   ],
   "source": [
    "## Your Code and Answer:\n",
    "import shap\n",
    "\n",
    "explainer = shap.DeepExplainer(keras_model, preprocessor(X_train))\n",
    "shap_values = explainer.shap_values(preprocessor(X_test))\n",
    "\n",
    "# Average the absolute SHAP values across all instances for each feature\n",
    "shap_values_combined = shap_values[0]  # Use the first output if you have multiple outputs\n",
    "mean_shap_values = np.mean(np.abs(shap_values_combined), axis=1)  # Use absolute values for better interpretation\n",
    "\n",
    "print(mean_shap_values.shape)\n",
    "\n",
    "# Get feature names from the preprocessor\n",
    "columns = preprocess.get_feature_names_out()  # Get the feature names after transformation\n",
    "\n",
    "# Create a DataFrame for easier plotting\n",
    "shap_df = pd.DataFrame({\n",
    "    'Feature': columns,\n",
    "    'Mean SHAP Value': mean_shap_values\n",
    "})\n",
    "\n",
    "# Sort the DataFrame by Mean SHAP Value\n",
    "shap_df = shap_df.sort_values(by='Mean SHAP Value', ascending=True)\n",
    "\n",
    "# Plot the final bar plot\n",
    "plt.figure(figsize=(12, 12))\n",
    "plt.barh(shap_df['Feature'], shap_df['Mean SHAP Value'], color='skyblue')\n",
    "plt.xlabel('Mean SHAP Value')\n",
    "plt.title('Mean SHAP Values for All Features')\n",
    "plt.show()"
   ]
  },
  {
   "cell_type": "markdown",
   "metadata": {},
   "source": [
    "SHAP values effectively represent the contribution of each feature to a model's predictions. For example, a mean SHAP value of 0.05 indicates that an increase in GDP per capita is associated is associated with a significant increase in predicted happiness levels. A mean SHAP value of 0.035 suggests that an increase in expected years of schooling is linked to a significant increase in predicted happiness levels. Overall, these SHAP values provide clear and insightful explanations of how my model makes decisions. However, challenges such as model complexity, feature interactions, and data quality can complicate the justification process. Therefore, I think combining SHAP values with clear illustrations of the model and features could enhances overall interpretability."
   ]
  },
  {
   "cell_type": "markdown",
   "metadata": {
    "id": "LAy-p3odm0zv"
   },
   "source": [
    "# 7. Submission of final report and clean code to github\n",
    "\n",
    "[This is a final project you display on your GitHub to the World]\n",
    "\n",
    "**Instructions**\n",
    "- Make a new notebook, visualize any plots you found relevant\n",
    "- Reproduce the code you used for the best models and display results\n",
    "- Write what insights you found useful and what behaviours were observed\n",
    "- Make it in a style of a clean, succint report (within the .ipynb)\n",
    "- Upload this final report notebook to a new repository in your personal github account\n",
    "- Remember to paste the link of your final repo at the top of this notebook where asked"
   ]
  }
 ],
 "metadata": {
  "colab": {
   "provenance": []
  },
  "kernelspec": {
   "display_name": "Python 3 (ipykernel)",
   "language": "python",
   "name": "python3"
  },
  "language_info": {
   "codemirror_mode": {
    "name": "ipython",
    "version": 3
   },
   "file_extension": ".py",
   "mimetype": "text/x-python",
   "name": "python",
   "nbconvert_exporter": "python",
   "pygments_lexer": "ipython3",
   "version": "3.9.18"
  }
 },
 "nbformat": 4,
 "nbformat_minor": 1
}
